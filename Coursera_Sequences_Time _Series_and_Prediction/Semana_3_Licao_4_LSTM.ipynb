{
 "cells": [
  {
   "cell_type": "code",
   "execution_count": 3,
   "metadata": {
    "id": "zX4Kg8DUTKWO"
   },
   "outputs": [],
   "source": [
    "#@title Licensed under the Apache License, Version 2.0 (the \"License\");\n",
    "# you may not use this file except in compliance with the License.\n",
    "# You may obtain a copy of the License at\n",
    "#\n",
    "# https://www.apache.org/licenses/LICENSE-2.0\n",
    "#\n",
    "# Unless required by applicable law or agreed to in writing, software\n",
    "# distributed under the License is distributed on an \"AS IS\" BASIS,\n",
    "# WITHOUT WARRANTIES OR CONDITIONS OF ANY KIND, either express or implied.\n",
    "# See the License for the specific language governing permissions and\n",
    "# limitations under the License."
   ]
  },
  {
   "cell_type": "markdown",
   "metadata": {},
   "source": [
    "# LSTM"
   ]
  },
  {
   "cell_type": "code",
   "execution_count": 2,
   "metadata": {
    "id": "D1J15Vh_1Jih",
    "scrolled": true
   },
   "outputs": [
    {
     "name": "stdout",
     "output_type": "stream",
     "text": [
      "Defaulting to user installation because normal site-packages is not writeable\n",
      "\u001b[31mERROR: Could not find a version that satisfies the requirement tf-nightly-2.0-preview (from versions: none)\u001b[0m\n",
      "\u001b[31mERROR: No matching distribution found for tf-nightly-2.0-preview\u001b[0m\n",
      "\u001b[33mWARNING: You are using pip version 21.2.3; however, version 21.2.4 is available.\n",
      "You should consider upgrading via the '/usr/bin/python3 -m pip install --upgrade pip' command.\u001b[0m\n"
     ]
    }
   ],
   "source": [
    "!pip install tf-nightly-2.0-preview\n"
   ]
  },
  {
   "cell_type": "code",
   "execution_count": 4,
   "metadata": {
    "colab": {
     "base_uri": "https://localhost:8080/",
     "height": 35
    },
    "id": "BOjujz601HcS",
    "outputId": "aa0651c4-b24e-4e1e-936c-e31004fa751b"
   },
   "outputs": [
    {
     "name": "stdout",
     "output_type": "stream",
     "text": [
      "2.7.0-dev20210819\n"
     ]
    }
   ],
   "source": [
    "import tensorflow as tf\n",
    "import numpy as np\n",
    "import matplotlib.pyplot as plt\n",
    "print(tf.__version__)"
   ]
  },
  {
   "cell_type": "code",
   "execution_count": 5,
   "metadata": {
    "id": "Zswl7jRtGzkk"
   },
   "outputs": [],
   "source": [
    "def plot_series(time, series, format=\"-\", start=0, end=None):\n",
    "    plt.plot(time[start:end], series[start:end], format)\n",
    "    plt.xlabel(\"Time\")\n",
    "    plt.ylabel(\"Value\")\n",
    "    plt.grid(True)\n",
    "\n",
    "def trend(time, slope=0):\n",
    "    return slope * time\n",
    "\n",
    "def seasonal_pattern(season_time):\n",
    "    \"\"\"Just an arbitrary pattern, you can change it if you wish\"\"\"\n",
    "    return np.where(season_time < 0.4,\n",
    "                    np.cos(season_time * 2 * np.pi),\n",
    "                    1 / np.exp(3 * season_time))\n",
    "\n",
    "def seasonality(time, period, amplitude=1, phase=0):\n",
    "    \"\"\"Repeats the same pattern at each period\"\"\"\n",
    "    season_time = ((time + phase) % period) / period\n",
    "    return amplitude * seasonal_pattern(season_time)\n",
    "\n",
    "def noise(time, noise_level=1, seed=None):\n",
    "    rnd = np.random.RandomState(seed)\n",
    "    return rnd.randn(len(time)) * noise_level\n",
    "\n",
    "time = np.arange(4 * 365 + 1, dtype=\"float32\")\n",
    "baseline = 10\n",
    "series = trend(time, 0.1)  \n",
    "baseline = 10\n",
    "amplitude = 40\n",
    "slope = 0.05\n",
    "noise_level = 5\n",
    "\n",
    "# Create the series\n",
    "series = baseline + trend(time, slope) + seasonality(time, period=365, amplitude=amplitude)\n",
    "# Update with noise\n",
    "series += noise(time, noise_level, seed=42)\n",
    "\n",
    "split_time = 1000\n",
    "time_train = time[:split_time]\n",
    "x_train = series[:split_time]\n",
    "time_valid = time[split_time:]\n",
    "x_valid = series[split_time:]\n",
    "\n",
    "window_size = 20\n",
    "batch_size = 32\n",
    "shuffle_buffer_size = 1000"
   ]
  },
  {
   "cell_type": "code",
   "execution_count": 6,
   "metadata": {
    "id": "4sTTIOCbyShY"
   },
   "outputs": [],
   "source": [
    "#Transforma em um dataset\n",
    "def windowed_dataset(series, window_size, batch_size, shuffle_buffer):\n",
    "  dataset = tf.data.Dataset.from_tensor_slices(series)\n",
    "  dataset = dataset.window(window_size + 1, shift=1, drop_remainder=True)\n",
    "  dataset = dataset.flat_map(lambda window: window.batch(window_size + 1))\n",
    "  dataset = dataset.shuffle(shuffle_buffer).map(lambda window: (window[:-1], window[-1]))\n",
    "  dataset = dataset.batch(batch_size).prefetch(1)\n",
    "  return dataset"
   ]
  },
  {
   "cell_type": "code",
   "execution_count": 7,
   "metadata": {
    "colab": {
     "base_uri": "https://localhost:8080/",
     "height": 1000
    },
    "id": "A1Hl39rklkLm",
    "outputId": "75cbaf63-f635-4dd1-96fd-b4e1d6fd94bb"
   },
   "outputs": [
    {
     "name": "stderr",
     "output_type": "stream",
     "text": [
      "/home/bene/.local/lib/python3.8/site-packages/keras/optimizer_v2/optimizer_v2.py:356: UserWarning: The `lr` argument is deprecated, use `learning_rate` instead.\n",
      "  warnings.warn(\n"
     ]
    },
    {
     "name": "stdout",
     "output_type": "stream",
     "text": [
      "Epoch 1/100\n",
      "31/31 [==============================] - 9s 40ms/step - loss: 21.5167 - mae: 22.0115\n",
      "Epoch 2/100\n",
      "31/31 [==============================] - 1s 27ms/step - loss: 21.1522 - mae: 21.6444\n",
      "Epoch 3/100\n",
      "31/31 [==============================] - 1s 28ms/step - loss: 20.7302 - mae: 21.2236\n",
      "Epoch 4/100\n",
      "31/31 [==============================] - 1s 28ms/step - loss: 20.2834 - mae: 20.7757\n",
      "Epoch 5/100\n",
      "31/31 [==============================] - 1s 33ms/step - loss: 19.7897 - mae: 20.2855\n",
      "Epoch 6/100\n",
      "31/31 [==============================] - 1s 30ms/step - loss: 19.1782 - mae: 19.6696\n",
      "Epoch 7/100\n",
      "31/31 [==============================] - 1s 33ms/step - loss: 18.2410 - mae: 18.7333\n",
      "Epoch 8/100\n",
      "31/31 [==============================] - 1s 26ms/step - loss: 17.4825 - mae: 17.9748\n",
      "Epoch 9/100\n",
      "31/31 [==============================] - 1s 28ms/step - loss: 17.1597 - mae: 17.6529\n",
      "Epoch 10/100\n",
      "31/31 [==============================] - 1s 29ms/step - loss: 16.8547 - mae: 17.3463\n",
      "Epoch 11/100\n",
      "31/31 [==============================] - 1s 29ms/step - loss: 16.5533 - mae: 17.0471\n",
      "Epoch 12/100\n",
      "31/31 [==============================] - 1s 26ms/step - loss: 16.2565 - mae: 16.7524\n",
      "Epoch 13/100\n",
      "31/31 [==============================] - 1s 28ms/step - loss: 15.9629 - mae: 16.4598\n",
      "Epoch 14/100\n",
      "31/31 [==============================] - 1s 27ms/step - loss: 15.6593 - mae: 16.1548\n",
      "Epoch 15/100\n",
      "31/31 [==============================] - 1s 28ms/step - loss: 15.3713 - mae: 15.8652\n",
      "Epoch 16/100\n",
      "31/31 [==============================] - 1s 26ms/step - loss: 15.0752 - mae: 15.5697\n",
      "Epoch 17/100\n",
      "31/31 [==============================] - 1s 27ms/step - loss: 14.7905 - mae: 15.2869\n",
      "Epoch 18/100\n",
      "31/31 [==============================] - 1s 28ms/step - loss: 14.5229 - mae: 15.0178\n",
      "Epoch 19/100\n",
      "31/31 [==============================] - 1s 27ms/step - loss: 14.2707 - mae: 14.7636\n",
      "Epoch 20/100\n",
      "31/31 [==============================] - 1s 30ms/step - loss: 14.0293 - mae: 14.5217\n",
      "Epoch 21/100\n",
      "31/31 [==============================] - 1s 30ms/step - loss: 13.8191 - mae: 14.3135\n",
      "Epoch 22/100\n",
      "31/31 [==============================] - 1s 31ms/step - loss: 13.6084 - mae: 14.1032\n",
      "Epoch 23/100\n",
      "31/31 [==============================] - 1s 31ms/step - loss: 13.4096 - mae: 13.9038\n",
      "Epoch 24/100\n",
      "31/31 [==============================] - 1s 29ms/step - loss: 13.1859 - mae: 13.6794\n",
      "Epoch 25/100\n",
      "31/31 [==============================] - 1s 31ms/step - loss: 12.9819 - mae: 13.4747\n",
      "Epoch 26/100\n",
      "31/31 [==============================] - 1s 30ms/step - loss: 12.7278 - mae: 13.2184\n",
      "Epoch 27/100\n",
      "31/31 [==============================] - 1s 26ms/step - loss: 12.4886 - mae: 12.9799\n",
      "Epoch 28/100\n",
      "31/31 [==============================] - 1s 26ms/step - loss: 12.3459 - mae: 12.8362\n",
      "Epoch 29/100\n",
      "31/31 [==============================] - 1s 29ms/step - loss: 11.9127 - mae: 12.4017\n",
      "Epoch 30/100\n",
      "31/31 [==============================] - 1s 28ms/step - loss: 11.5934 - mae: 12.0835\n",
      "Epoch 31/100\n",
      "31/31 [==============================] - 1s 27ms/step - loss: 11.2859 - mae: 11.7771\n",
      "Epoch 32/100\n",
      "31/31 [==============================] - 1s 33ms/step - loss: 11.3520 - mae: 11.8418\n",
      "Epoch 33/100\n",
      "31/31 [==============================] - 1s 33ms/step - loss: 10.5232 - mae: 11.0140\n",
      "Epoch 34/100\n",
      "31/31 [==============================] - 1s 30ms/step - loss: 10.5461 - mae: 11.0339\n",
      "Epoch 35/100\n",
      "31/31 [==============================] - 1s 32ms/step - loss: 10.0828 - mae: 10.5680\n",
      "Epoch 36/100\n",
      "31/31 [==============================] - 1s 27ms/step - loss: 9.5412 - mae: 10.0305\n",
      "Epoch 37/100\n",
      "31/31 [==============================] - 1s 29ms/step - loss: 9.4101 - mae: 9.8992\n",
      "Epoch 38/100\n",
      "31/31 [==============================] - 1s 33ms/step - loss: 9.8300 - mae: 10.3172\n",
      "Epoch 39/100\n",
      "31/31 [==============================] - 1s 34ms/step - loss: 9.2406 - mae: 9.7235\n",
      "Epoch 40/100\n",
      "31/31 [==============================] - 1s 31ms/step - loss: 8.7776 - mae: 9.2637\n",
      "Epoch 41/100\n",
      "31/31 [==============================] - 1s 32ms/step - loss: 8.3409 - mae: 8.8262\n",
      "Epoch 42/100\n",
      "31/31 [==============================] - 1s 31ms/step - loss: 7.9813 - mae: 8.4655\n",
      "Epoch 43/100\n",
      "31/31 [==============================] - 1s 29ms/step - loss: 7.6479 - mae: 8.1328\n",
      "Epoch 44/100\n",
      "31/31 [==============================] - 1s 28ms/step - loss: 7.4040 - mae: 7.8895\n",
      "Epoch 45/100\n",
      "31/31 [==============================] - 1s 28ms/step - loss: 7.2190 - mae: 7.7033\n",
      "Epoch 46/100\n",
      "31/31 [==============================] - 1s 29ms/step - loss: 6.9512 - mae: 7.4345\n",
      "Epoch 47/100\n",
      "31/31 [==============================] - 1s 35ms/step - loss: 6.7168 - mae: 7.2010\n",
      "Epoch 48/100\n",
      "31/31 [==============================] - 1s 30ms/step - loss: 6.5949 - mae: 7.0773\n",
      "Epoch 49/100\n",
      "31/31 [==============================] - 1s 29ms/step - loss: 6.2303 - mae: 6.7076\n",
      "Epoch 50/100\n",
      "31/31 [==============================] - 1s 29ms/step - loss: 6.0535 - mae: 6.5311\n",
      "Epoch 51/100\n",
      "31/31 [==============================] - 1s 28ms/step - loss: 5.9237 - mae: 6.4025\n",
      "Epoch 52/100\n",
      "31/31 [==============================] - 1s 28ms/step - loss: 5.7897 - mae: 6.2715\n",
      "Epoch 53/100\n",
      "31/31 [==============================] - 1s 29ms/step - loss: 5.6426 - mae: 6.1229\n",
      "Epoch 54/100\n",
      "31/31 [==============================] - 1s 30ms/step - loss: 5.5338 - mae: 6.0091\n",
      "Epoch 55/100\n",
      "31/31 [==============================] - 1s 32ms/step - loss: 5.4116 - mae: 5.8826\n",
      "Epoch 56/100\n",
      "31/31 [==============================] - 1s 29ms/step - loss: 5.5675 - mae: 6.0390\n",
      "Epoch 57/100\n",
      "31/31 [==============================] - 1s 29ms/step - loss: 5.3054 - mae: 5.7834\n",
      "Epoch 58/100\n",
      "31/31 [==============================] - 1s 30ms/step - loss: 5.3143 - mae: 5.7969\n",
      "Epoch 59/100\n",
      "31/31 [==============================] - 1s 29ms/step - loss: 5.1648 - mae: 5.6438\n",
      "Epoch 60/100\n",
      "31/31 [==============================] - 1s 29ms/step - loss: 5.0648 - mae: 5.5372\n",
      "Epoch 61/100\n",
      "31/31 [==============================] - 1s 29ms/step - loss: 5.3410 - mae: 5.8165\n",
      "Epoch 62/100\n",
      "31/31 [==============================] - 1s 29ms/step - loss: 5.1945 - mae: 5.6739\n",
      "Epoch 63/100\n",
      "31/31 [==============================] - 1s 28ms/step - loss: 5.1279 - mae: 5.6042\n",
      "Epoch 64/100\n",
      "31/31 [==============================] - 1s 31ms/step - loss: 4.8448 - mae: 5.3172\n",
      "Epoch 65/100\n",
      "31/31 [==============================] - 1s 29ms/step - loss: 5.1042 - mae: 5.5863\n",
      "Epoch 66/100\n",
      "31/31 [==============================] - 1s 29ms/step - loss: 5.4066 - mae: 5.8896\n",
      "Epoch 67/100\n",
      "31/31 [==============================] - 1s 30ms/step - loss: 5.9935 - mae: 6.4766\n",
      "Epoch 68/100\n",
      "31/31 [==============================] - 1s 29ms/step - loss: 5.2451 - mae: 5.7213\n",
      "Epoch 69/100\n",
      "31/31 [==============================] - 1s 29ms/step - loss: 5.5708 - mae: 6.0511\n",
      "Epoch 70/100\n",
      "31/31 [==============================] - 1s 29ms/step - loss: 4.8815 - mae: 5.3546\n",
      "Epoch 71/100\n",
      "31/31 [==============================] - 1s 29ms/step - loss: 5.6394 - mae: 6.1206\n",
      "Epoch 72/100\n",
      "31/31 [==============================] - 1s 29ms/step - loss: 5.0506 - mae: 5.5286\n",
      "Epoch 73/100\n",
      "31/31 [==============================] - 1s 29ms/step - loss: 6.3748 - mae: 6.8578\n",
      "Epoch 74/100\n",
      "31/31 [==============================] - 1s 30ms/step - loss: 5.2817 - mae: 5.7559\n",
      "Epoch 75/100\n",
      "31/31 [==============================] - 1s 28ms/step - loss: 5.3537 - mae: 5.8326\n",
      "Epoch 76/100\n",
      "31/31 [==============================] - 1s 29ms/step - loss: 5.5913 - mae: 6.0748\n",
      "Epoch 77/100\n",
      "31/31 [==============================] - 1s 29ms/step - loss: 6.7011 - mae: 7.1871\n",
      "Epoch 78/100\n",
      "31/31 [==============================] - 1s 29ms/step - loss: 7.8348 - mae: 8.3248\n",
      "Epoch 79/100\n",
      "31/31 [==============================] - 1s 29ms/step - loss: 6.9568 - mae: 7.4438\n",
      "Epoch 80/100\n",
      "31/31 [==============================] - 1s 30ms/step - loss: 6.6088 - mae: 7.0928\n",
      "Epoch 81/100\n",
      "31/31 [==============================] - 1s 29ms/step - loss: 5.7557 - mae: 6.2364\n",
      "Epoch 82/100\n",
      "31/31 [==============================] - 1s 29ms/step - loss: 5.7183 - mae: 6.1981\n",
      "Epoch 83/100\n",
      "31/31 [==============================] - 1s 31ms/step - loss: 6.1428 - mae: 6.6278\n",
      "Epoch 84/100\n",
      "31/31 [==============================] - 1s 29ms/step - loss: 6.5875 - mae: 7.0695\n",
      "Epoch 85/100\n",
      "31/31 [==============================] - 1s 27ms/step - loss: 8.6159 - mae: 9.1073\n",
      "Epoch 86/100\n",
      "31/31 [==============================] - 1s 27ms/step - loss: 6.2022 - mae: 6.6859\n",
      "Epoch 87/100\n",
      "31/31 [==============================] - 1s 27ms/step - loss: 9.0977 - mae: 9.5877\n",
      "Epoch 88/100\n",
      "31/31 [==============================] - 1s 26ms/step - loss: 7.4476 - mae: 7.9308\n",
      "Epoch 89/100\n",
      "31/31 [==============================] - 1s 27ms/step - loss: 7.5566 - mae: 8.0447\n",
      "Epoch 90/100\n",
      "31/31 [==============================] - 1s 26ms/step - loss: 6.7840 - mae: 7.2685\n",
      "Epoch 91/100\n",
      "31/31 [==============================] - 1s 26ms/step - loss: 7.3749 - mae: 7.8616\n",
      "Epoch 92/100\n",
      "31/31 [==============================] - 1s 25ms/step - loss: 9.1213 - mae: 9.6095\n",
      "Epoch 93/100\n",
      "31/31 [==============================] - 1s 27ms/step - loss: 7.5663 - mae: 8.0524\n",
      "Epoch 94/100\n",
      "31/31 [==============================] - 1s 27ms/step - loss: 10.1335 - mae: 10.6236\n",
      "Epoch 95/100\n",
      "31/31 [==============================] - 1s 26ms/step - loss: 8.7850 - mae: 9.2739\n",
      "Epoch 96/100\n",
      "31/31 [==============================] - 1s 27ms/step - loss: 9.8690 - mae: 10.3583\n",
      "Epoch 97/100\n",
      "31/31 [==============================] - 1s 27ms/step - loss: 12.9799 - mae: 13.4727\n",
      "Epoch 98/100\n",
      "31/31 [==============================] - 1s 27ms/step - loss: 14.6810 - mae: 15.1729\n",
      "Epoch 99/100\n",
      "31/31 [==============================] - 1s 33ms/step - loss: 14.0526 - mae: 14.5448\n",
      "Epoch 100/100\n",
      "31/31 [==============================] - 1s 27ms/step - loss: 14.2957 - mae: 14.7867\n"
     ]
    }
   ],
   "source": [
    "'''2 camadas'''\n",
    "\n",
    "#isso apaga todas as variáveis internas. Isso torna mais fácil para nós experimentarmos sem modelos impactando versões posteriores de si mesmos.\n",
    "tf.keras.backend.clear_session()\n",
    "tf.random.set_seed(51)\n",
    "np.random.seed(51)\n",
    "\n",
    "tf.keras.backend.clear_session()\n",
    "dataset = windowed_dataset(x_train, window_size, batch_size, shuffle_buffer_size)\n",
    "\n",
    "model = tf.keras.models.Sequential([\n",
    "    #camada Lambda que expande as dimensões\n",
    "  tf.keras.layers.Lambda(lambda x: tf.expand_dims(x, axis=-1),\n",
    "                      input_shape=[None]),\n",
    "    #uma única camada LSTM com 32 células.\n",
    "    #bidirecional para ver o impacto disso em uma previsão.\n",
    "    tf.keras.layers.Bidirectional(tf.keras.layers.LSTM(32, return_sequences=True)),\n",
    "  tf.keras.layers.Bidirectional(tf.keras.layers.LSTM(32)),\n",
    "    #O neurônio de saída nos dará nosso valor de previsão\n",
    "  tf.keras.layers.Dense(1),\n",
    "  tf.keras.layers.Lambda(lambda x: x * 100.0)\n",
    "])\n",
    "\n",
    "lr_schedule = tf.keras.callbacks.LearningRateScheduler(\n",
    "    lambda epoch: 1e-8 * 10**(epoch / 20))\n",
    "optimizer = tf.keras.optimizers.SGD(lr=1e-8, momentum=0.9)\n",
    "model.compile(loss=tf.keras.losses.Huber(),\n",
    "              optimizer=optimizer,\n",
    "              metrics=[\"mae\"])\n",
    "history = model.fit(dataset, epochs=100, callbacks=[lr_schedule])"
   ]
  },
  {
   "cell_type": "code",
   "execution_count": 8,
   "metadata": {
    "colab": {
     "base_uri": "https://localhost:8080/",
     "height": 291
    },
    "id": "AkBsrsXMzoWR",
    "outputId": "99a3f57b-9145-4802-8256-401a54b238e7"
   },
   "outputs": [
    {
     "data": {
      "text/plain": [
       "[1e-08, 0.0001, 0, 30]"
      ]
     },
     "execution_count": 8,
     "metadata": {},
     "output_type": "execute_result"
    },
    {
     "data": {
      "image/png": "[encoded data removed]",
      "text/plain": [
       "<Figure size 432x288 with 1 Axes>"
      ]
     },
     "metadata": {
      "needs_background": "light"
     },
     "output_type": "display_data"
    }
   ],
   "source": [
    "# Perda versus Taxas de aprendizagem\n",
    "plt.semilogx(history.history[\"lr\"], history.history[\"loss\"])\n",
    "plt.axis([1e-8, 1e-4, 0, 30])"
   ]
  },
  {
   "cell_type": "code",
   "execution_count": 9,
   "metadata": {
    "id": "4uh-97bpLZCA"
   },
   "outputs": [],
   "source": [
    "''' 2 camadas'''\n",
    "#Vamos atualizar nossas taxas de aprendizado disso. Vou treiná-lo por cerca de 500 épocas.\n",
    "\n",
    "tf.keras.backend.clear_session()\n",
    "tf.random.set_seed(51)\n",
    "np.random.seed(51)\n",
    "\n",
    "tf.keras.backend.clear_session()\n",
    "dataset = windowed_dataset(x_train, window_size, batch_size, shuffle_buffer_size)\n",
    "\n",
    "model = tf.keras.models.Sequential([\n",
    "  tf.keras.layers.Lambda(lambda x: tf.expand_dims(x, axis=-1),\n",
    "                      input_shape=[None]),\n",
    "   tf.keras.layers.Bidirectional(tf.keras.layers.LSTM(32, return_sequences=True)),\n",
    "    #Adicionando mais uma camada para o nosso LSTM\n",
    "  tf.keras.layers.Bidirectional(tf.keras.layers.LSTM(32)),\n",
    "  tf.keras.layers.Dense(1),\n",
    "  tf.keras.layers.Lambda(lambda x: x * 100.0)\n",
    "])\n",
    "\n",
    "\n",
    "model.compile(loss=\"mse\", optimizer=tf.keras.optimizers.SGD(lr=1e-5, momentum=0.9),metrics=[\"mae\"])\n",
    "history = model.fit(dataset,epochs=500,verbose=0)"
   ]
  },
  {
   "cell_type": "code",
   "execution_count": 10,
   "metadata": {
    "colab": {
     "base_uri": "https://localhost:8080/",
     "height": 393
    },
    "id": "icGDaND7z0ne",
    "outputId": "58b69d1a-82d2-457b-9342-42ceb24b35da"
   },
   "outputs": [
    {
     "data": {
      "image/png": "[encoded data removed]",
      "text/plain": [
       "<Figure size 720x432 with 1 Axes>"
      ]
     },
     "metadata": {
      "needs_background": "light"
     },
     "output_type": "display_data"
    }
   ],
   "source": [
    "forecast = []\n",
    "results = []\n",
    "for time in range(len(series) - window_size):\n",
    "  forecast.append(model.predict(series[time:time + window_size][np.newaxis]))\n",
    "\n",
    "forecast = forecast[split_time-window_size:]\n",
    "results = np.array(forecast)[:, 0, 0]\n",
    "\n",
    "\n",
    "plt.figure(figsize=(10, 6))\n",
    "\n",
    "plot_series(time_valid, x_valid)\n",
    "plot_series(time_valid, results)"
   ]
  },
  {
   "cell_type": "code",
   "execution_count": 11,
   "metadata": {
    "colab": {
     "base_uri": "https://localhost:8080/",
     "height": 35
    },
    "id": "KfPeqI7rz4LD",
    "outputId": "816335be-fd2a-428f-98d6-05983b84d9b5"
   },
   "outputs": [
    {
     "data": {
      "text/plain": [
       "5.683203"
      ]
     },
     "execution_count": 11,
     "metadata": {},
     "output_type": "execute_result"
    }
   ],
   "source": [
    "tf.keras.metrics.mean_absolute_error(x_valid, results).numpy()"
   ]
  },
  {
   "cell_type": "code",
   "execution_count": null,
   "metadata": {
    "colab": {
     "base_uri": "https://localhost:8080/",
     "height": 235
    },
    "id": "JUsdZB_tzDLe",
    "outputId": "964c47d9-7eec-42cd-905f-c45c2fd31d9e"
   },
   "outputs": [
    {
     "ename": "KeyError",
     "evalue": "ignored",
     "output_type": "error",
     "traceback": [
      "\u001b[0;31m---------------------------------------------------------------------------\u001b[0m",
      "\u001b[0;31mKeyError\u001b[0m                                  Traceback (most recent call last)",
      "\u001b[0;32m<ipython-input-13-0d8269471fd6>\u001b[0m in \u001b[0;36m<module>\u001b[0;34m()\u001b[0m\n\u001b[1;32m      6\u001b[0m \u001b[0;31m# sets for each training epoch\u001b[0m\u001b[0;34m\u001b[0m\u001b[0;34m\u001b[0m\u001b[0;34m\u001b[0m\u001b[0m\n\u001b[1;32m      7\u001b[0m \u001b[0;31m#-----------------------------------------------------------\u001b[0m\u001b[0;34m\u001b[0m\u001b[0;34m\u001b[0m\u001b[0;34m\u001b[0m\u001b[0m\n\u001b[0;32m----> 8\u001b[0;31m \u001b[0mmae\u001b[0m\u001b[0;34m=\u001b[0m\u001b[0mhistory\u001b[0m\u001b[0;34m.\u001b[0m\u001b[0mhistory\u001b[0m\u001b[0;34m[\u001b[0m\u001b[0;34m'mae'\u001b[0m\u001b[0;34m]\u001b[0m\u001b[0;34m\u001b[0m\u001b[0;34m\u001b[0m\u001b[0m\n\u001b[0m\u001b[1;32m      9\u001b[0m \u001b[0mloss\u001b[0m\u001b[0;34m=\u001b[0m\u001b[0mhistory\u001b[0m\u001b[0;34m.\u001b[0m\u001b[0mhistory\u001b[0m\u001b[0;34m[\u001b[0m\u001b[0;34m'loss'\u001b[0m\u001b[0;34m]\u001b[0m\u001b[0;34m\u001b[0m\u001b[0;34m\u001b[0m\u001b[0m\n\u001b[1;32m     10\u001b[0m \u001b[0;34m\u001b[0m\u001b[0m\n",
      "\u001b[0;31mKeyError\u001b[0m: 'mae'"
     ]
    }
   ],
   "source": [
    "import matplotlib.image  as mpimg\n",
    "import matplotlib.pyplot as plt\n",
    "\n",
    "#-----------------------------------------------------------\n",
    "# Retrieve a list of list results on training and test data\n",
    "# sets for each training epoch\n",
    "#-----------------------------------------------------------\n",
    "mae=history.history['mae']\n",
    "loss=history.history['loss']\n",
    "\n",
    "epochs=range(len(loss)) # Get number of epochs\n",
    "\n",
    "#------------------------------------------------\n",
    "# Plot MAE and Loss\n",
    "#------------------------------------------------\n",
    "plt.plot(epochs, mae, 'r')\n",
    "plt.plot(epochs, loss, 'b')\n",
    "plt.title('MAE and Loss')\n",
    "plt.xlabel(\"Epochs\")\n",
    "plt.ylabel(\"Accuracy\")\n",
    "plt.legend([\"MAE\", \"Loss\"])\n",
    "\n",
    "plt.figure()\n",
    "\n",
    "epochs_zoom = epochs[200:]\n",
    "mae_zoom = mae[200:]\n",
    "loss_zoom = loss[200:]\n",
    "\n",
    "#------------------------------------------------\n",
    "# Plot Zoomed MAE and Loss\n",
    "#------------------------------------------------\n",
    "plt.plot(epochs_zoom, mae_zoom, 'r')\n",
    "plt.plot(epochs_zoom, loss_zoom, 'b')\n",
    "plt.title('MAE and Loss')\n",
    "plt.xlabel(\"Epochs\")\n",
    "plt.ylabel(\"Accuracy\")\n",
    "plt.legend([\"MAE\", \"Loss\"])\n",
    "\n",
    "plt.figure()"
   ]
  },
  {
   "cell_type": "code",
   "execution_count": null,
   "metadata": {
    "id": "3CGaYFxXNEAK"
   },
   "outputs": [],
   "source": [
    "tf.keras.backend.clear_session()\n",
    "dataset = windowed_dataset(x_train, window_size, batch_size, shuffle_buffer_size)\n",
    "\n",
    "model = tf.keras.models.Sequential([\n",
    "  tf.keras.layers.Lambda(lambda x: tf.expand_dims(x, axis=-1),\n",
    "                      input_shape=[None]),\n",
    "  tf.keras.layers.Bidirectional(tf.keras.layers.LSTM(32, return_sequences=True)),\n",
    "  tf.keras.layers.Bidirectional(tf.keras.layers.LSTM(32)),\n",
    "  tf.keras.layers.Dense(1),\n",
    "  tf.keras.layers.Lambda(lambda x: x * 100.0)\n",
    "])\n",
    "\n",
    "\n",
    "model.compile(loss=\"mse\", optimizer=tf.keras.optimizers.SGD(lr=1e-6, momentum=0.9))\n",
    "model.fit(dataset,epochs=100, verbose=0)"
   ]
  },
  {
   "cell_type": "code",
   "execution_count": null,
   "metadata": {
    "id": "FJ3R8ysauz9e"
   },
   "outputs": [],
   "source": [
    "''' 3 camadas'''\n",
    "tf.keras.backend.clear_session()\n",
    "dataset = windowed_dataset(x_train, window_size, batch_size, shuffle_buffer_size)\n",
    "\n",
    "model = tf.keras.models.Sequential([\n",
    "  tf.keras.layers.Lambda(lambda x: tf.expand_dims(x, axis=-1),\n",
    "                      input_shape=[None]),\n",
    "  tf.keras.layers.Bidirectional(tf.keras.layers.LSTM(32, return_sequences=True)),\n",
    "  tf.keras.layers.Bidirectional(tf.keras.layers.LSTM(32, return_sequences=True)),\n",
    "  tf.keras.layers.Bidirectional(tf.keras.layers.LSTM(32)),\n",
    "  tf.keras.layers.Dense(1),\n",
    "  tf.keras.layers.Lambda(lambda x: x * 100.0)\n",
    "])\n",
    "\n",
    "\n",
    "model.compile(loss=\"mse\", optimizer=tf.keras.optimizers.SGD(lr=1e-6, momentum=0.9))\n",
    "model.fit(dataset,epochs=100)"
   ]
  }
 ],
 "metadata": {
  "colab": {
   "collapsed_sections": [],
   "name": "S+P Week 3 Lesson 4 - LSTM.ipynb",
   "provenance": []
  },
  "kernelspec": {
   "display_name": "Python 3",
   "language": "python",
   "name": "python3"
  },
  "language_info": {
   "codemirror_mode": {
    "name": "ipython",
    "version": 3
   },
   "file_extension": ".py",
   "mimetype": "text/x-python",
   "name": "python",
   "nbconvert_exporter": "python",
   "pygments_lexer": "ipython3",
   "version": "3.8.10"
  }
 },
 "nbformat": 4,
 "nbformat_minor": 1
}
