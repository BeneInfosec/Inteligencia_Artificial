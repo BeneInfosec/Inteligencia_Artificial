{
 "cells": [
  {
   "cell_type": "markdown",
   "id": "e82392a0-4b55-462d-a789-4ae466afc10d",
   "metadata": {
    "tags": []
   },
   "source": [
    "# Livro: Python for Algorithmic Trading"
   ]
  },
  {
   "cell_type": "markdown",
   "id": "659326fd-f437-41bf-b60e-8c407a5a25e5",
   "metadata": {
    "jp-MarkdownHeadingCollapsed": true,
    "tags": []
   },
   "source": [
    "## Dependências"
   ]
  },
  {
   "cell_type": "raw",
   "id": "e40de0e0-b301-45ff-8c77-55a0cae878d5",
   "metadata": {
    "tags": []
   },
   "source": [
    "!pip install tensorflow==2.5.0\n",
    "!pip install plotly\n",
    "!pip install yfinance  or !pip install yahooquery\n",
    "!pip install --upgrade mplfinance\n",
    "sudo apt install nodejs (https://stackoverflow.com/questions/52771328/plotly-chart-not-showing-in-jupyter-notebook)"
   ]
  },
  {
   "cell_type": "markdown",
   "id": "7bb1ccd3-a6b1-456e-b58c-9632415c4593",
   "metadata": {
    "jp-MarkdownHeadingCollapsed": true,
    "tags": []
   },
   "source": [
    "## Especificações da Pesquisa"
   ]
  },
  {
   "cell_type": "markdown",
   "id": "aa1d1dd5-fd37-48ed-af2f-cbbfdb2b62b5",
   "metadata": {},
   "source": [
    "- Horizonte de previsão: 30 min, 1 hora, 3 horas\n"
   ]
  },
  {
   "cell_type": "markdown",
   "id": "95a65bed-3c96-4993-9b32-d158bf62bdf8",
   "metadata": {
    "tags": []
   },
   "source": [
    "## DNN"
   ]
  },
  {
   "cell_type": "code",
   "execution_count": 1,
   "id": "fce3fdb4-db11-47c7-a075-7dd595d6f88f",
   "metadata": {
    "tags": []
   },
   "outputs": [
    {
     "name": "stdout",
     "output_type": "stream",
     "text": [
      "         lag_1     lag_2     lag_3     lag_4     lag_5\n",
      "6    -0.004166  0.000504 -0.003775  0.003144  0.000504\n",
      "7     0.001391 -0.004166  0.000504 -0.003775  0.003144\n",
      "8     0.003280  0.001391 -0.004166  0.000504 -0.003775\n",
      "9     0.001761  0.003280  0.001391 -0.004166  0.000504\n",
      "10    0.004891  0.001761  0.003280  0.001391 -0.004166\n",
      "...        ...       ...       ...       ...       ...\n",
      "5647 -0.002279 -0.000910  0.003646  0.005954  0.010621\n",
      "5648  0.033658 -0.002279 -0.000910  0.003646  0.005954\n",
      "5649  0.007474  0.033658 -0.002279 -0.000910  0.003646\n",
      "5650  0.008288  0.007474  0.033658 -0.002279 -0.000910\n",
      "5651  0.003902  0.008288  0.007474  0.033658 -0.002279\n",
      "\n",
      "[5646 rows x 5 columns]\n"
     ]
    }
   ],
   "source": [
    "import pandas as pd\n",
    "import tensorflow as tf\n",
    "import numpy as np\n",
    "\n",
    "data = pd.read_csv('/home/bene/MachineLearning/TCC/Base de Dados/BPAC_30m_2021.csv') \n",
    "data.head()\n",
    "symbol = \"close\"\n",
    "data = pd.DataFrame(data[symbol])\n",
    "data.head()\n",
    "data.rename(columns={symbol: 'price'}, inplace=True)\n",
    "\n",
    "data['return'] = np.log(data['price']/data['price'].shift(1))\n",
    "data['direction'] = np.where(data['return'] > 0, 1, 0)\n",
    "\n",
    "lags = 5\n",
    "cols = []\n",
    "for lag in range(1, lags + 1):\n",
    "     col = f'lag_{lag}'\n",
    "     data[col] = data['return'].shift(lag)\n",
    "     cols.append(col)\n",
    "data.dropna(inplace=True)\n",
    "\n",
    "print(data[cols])\n",
    "\n",
    "X = data[cols].values\n",
    "X = X.reshape(len(X),lags,1)\n",
    "Y = data['direction'].values\n"
   ]
  },
  {
   "cell_type": "code",
   "execution_count": 2,
   "id": "684bc483-f6e8-4f30-b4a7-af4a08e38329",
   "metadata": {},
   "outputs": [
    {
     "data": {
      "text/plain": [
       "((4500, 5, 1), (4500,), (500, 5, 1), (500,), (646, 5, 1), (646,))"
      ]
     },
     "execution_count": 2,
     "metadata": {},
     "output_type": "execute_result"
    }
   ],
   "source": [
    "X_train, Y_train = X[:4500], Y[:4500]\n",
    "X_val, Y_val = X[4500:5000], Y[4500:5000]\n",
    "X_test, Y_test = X[5000:], Y[5000:]\n",
    "\n",
    "X_train.shape, Y_train.shape, X_val.shape, Y_val.shape, X_test.shape, Y_test.shape"
   ]
  },
  {
   "cell_type": "code",
   "execution_count": 3,
   "id": "fb2ec094-b170-4be0-a1f6-0f3b359dbae6",
   "metadata": {},
   "outputs": [
    {
     "name": "stdout",
     "output_type": "stream",
     "text": [
      "Model: \"sequential\"\n",
      "_________________________________________________________________\n",
      " Layer (type)                Output Shape              Param #   \n",
      "=================================================================\n",
      " lstm (LSTM)                 (None, 20)                1760      \n",
      "                                                                 \n",
      " dense (Dense)               (None, 1)                 21        \n",
      "                                                                 \n",
      "=================================================================\n",
      "Total params: 1,781\n",
      "Trainable params: 1,781\n",
      "Non-trainable params: 0\n",
      "_________________________________________________________________\n"
     ]
    }
   ],
   "source": [
    "import tensorflow as tf\n",
    "from keras.models import Sequential\n",
    "from keras.layers import Dense, Flatten\n",
    "from tensorflow.keras.layers import LSTM, Input, InputLayer\n",
    "from tensorflow.keras.callbacks import ModelCheckpoint \n",
    "from tensorflow.keras import regularizers\n",
    "from tensorflow.keras.optimizers import Adam, RMSprop\n",
    "import random\n",
    "\n",
    "\n",
    "model1=Sequential()\n",
    "model1.add(InputLayer((5,1)))\n",
    "model1.add(LSTM(20))\n",
    "model1.add(Dense(1, activation='sigmoid'))\n",
    "          \n",
    "model1.summary()          \n"
   ]
  },
  {
   "cell_type": "code",
   "execution_count": 4,
   "id": "bc52f86c-bf05-46fb-818d-6f1638010810",
   "metadata": {},
   "outputs": [],
   "source": [
    "cp = ModelCheckpoint('model1/',save_best_only=True)\n",
    "model1.compile(loss='binary_crossentropy', optimizer= Adam(learning_rate=0.0001),metrics=['accuracy'])"
   ]
  },
  {
   "cell_type": "code",
   "execution_count": 5,
   "id": "6159eb25-7635-4b60-bcbb-3fe1fe8837bb",
   "metadata": {},
   "outputs": [
    {
     "name": "stdout",
     "output_type": "stream",
     "text": [
      "Epoch 1/50\n",
      "137/141 [============================>.] - ETA: 0s - loss: 0.6931 - accuracy: 0.5078"
     ]
    },
    {
     "name": "stderr",
     "output_type": "stream",
     "text": [
      "WARNING:absl:Found untraced functions such as lstm_cell_layer_call_fn, lstm_cell_layer_call_and_return_conditional_losses while saving (showing 2 of 2). These functions will not be directly callable after loading.\n"
     ]
    },
    {
     "name": "stdout",
     "output_type": "stream",
     "text": [
      "INFO:tensorflow:Assets written to: model1/assets\n"
     ]
    },
    {
     "name": "stderr",
     "output_type": "stream",
     "text": [
      "INFO:tensorflow:Assets written to: model1/assets\n"
     ]
    },
    {
     "name": "stdout",
     "output_type": "stream",
     "text": [
      "141/141 [==============================] - 7s 33ms/step - loss: 0.6931 - accuracy: 0.5076 - val_loss: 0.6931 - val_accuracy: 0.5100\n",
      "Epoch 2/50\n",
      "137/141 [============================>.] - ETA: 0s - loss: 0.6930 - accuracy: 0.5139"
     ]
    },
    {
     "name": "stderr",
     "output_type": "stream",
     "text": [
      "WARNING:absl:Found untraced functions such as lstm_cell_layer_call_fn, lstm_cell_layer_call_and_return_conditional_losses while saving (showing 2 of 2). These functions will not be directly callable after loading.\n"
     ]
    },
    {
     "name": "stdout",
     "output_type": "stream",
     "text": [
      "INFO:tensorflow:Assets written to: model1/assets\n"
     ]
    },
    {
     "name": "stderr",
     "output_type": "stream",
     "text": [
      "INFO:tensorflow:Assets written to: model1/assets\n"
     ]
    },
    {
     "name": "stdout",
     "output_type": "stream",
     "text": [
      "141/141 [==============================] - 4s 29ms/step - loss: 0.6930 - accuracy: 0.5136 - val_loss: 0.6930 - val_accuracy: 0.5100\n",
      "Epoch 3/50\n",
      "139/141 [============================>.] - ETA: 0s - loss: 0.6929 - accuracy: 0.5133"
     ]
    },
    {
     "name": "stderr",
     "output_type": "stream",
     "text": [
      "WARNING:absl:Found untraced functions such as lstm_cell_layer_call_fn, lstm_cell_layer_call_and_return_conditional_losses while saving (showing 2 of 2). These functions will not be directly callable after loading.\n"
     ]
    },
    {
     "name": "stdout",
     "output_type": "stream",
     "text": [
      "INFO:tensorflow:Assets written to: model1/assets\n"
     ]
    },
    {
     "name": "stderr",
     "output_type": "stream",
     "text": [
      "INFO:tensorflow:Assets written to: model1/assets\n"
     ]
    },
    {
     "name": "stdout",
     "output_type": "stream",
     "text": [
      "141/141 [==============================] - 4s 29ms/step - loss: 0.6929 - accuracy: 0.5136 - val_loss: 0.6930 - val_accuracy: 0.5100\n",
      "Epoch 4/50\n",
      "136/141 [===========================>..] - ETA: 0s - loss: 0.6928 - accuracy: 0.5136"
     ]
    },
    {
     "name": "stderr",
     "output_type": "stream",
     "text": [
      "WARNING:absl:Found untraced functions such as lstm_cell_layer_call_fn, lstm_cell_layer_call_and_return_conditional_losses while saving (showing 2 of 2). These functions will not be directly callable after loading.\n"
     ]
    },
    {
     "name": "stdout",
     "output_type": "stream",
     "text": [
      "INFO:tensorflow:Assets written to: model1/assets\n"
     ]
    },
    {
     "name": "stderr",
     "output_type": "stream",
     "text": [
      "INFO:tensorflow:Assets written to: model1/assets\n"
     ]
    },
    {
     "name": "stdout",
     "output_type": "stream",
     "text": [
      "141/141 [==============================] - 4s 29ms/step - loss: 0.6928 - accuracy: 0.5136 - val_loss: 0.6929 - val_accuracy: 0.5100\n",
      "Epoch 5/50\n",
      "129/141 [==========================>...] - ETA: 0s - loss: 0.6930 - accuracy: 0.5099"
     ]
    },
    {
     "name": "stderr",
     "output_type": "stream",
     "text": [
      "WARNING:absl:Found untraced functions such as lstm_cell_layer_call_fn, lstm_cell_layer_call_and_return_conditional_losses while saving (showing 2 of 2). These functions will not be directly callable after loading.\n"
     ]
    },
    {
     "name": "stdout",
     "output_type": "stream",
     "text": [
      "INFO:tensorflow:Assets written to: model1/assets\n"
     ]
    },
    {
     "name": "stderr",
     "output_type": "stream",
     "text": [
      "INFO:tensorflow:Assets written to: model1/assets\n"
     ]
    },
    {
     "name": "stdout",
     "output_type": "stream",
     "text": [
      "141/141 [==============================] - 4s 28ms/step - loss: 0.6928 - accuracy: 0.5136 - val_loss: 0.6929 - val_accuracy: 0.5100\n",
      "Epoch 6/50\n",
      "141/141 [==============================] - 1s 4ms/step - loss: 0.6928 - accuracy: 0.5136 - val_loss: 0.6930 - val_accuracy: 0.5100\n",
      "Epoch 7/50\n",
      "141/141 [==============================] - 1s 4ms/step - loss: 0.6928 - accuracy: 0.5136 - val_loss: 0.6930 - val_accuracy: 0.5100\n",
      "Epoch 8/50\n",
      "141/141 [==============================] - 1s 4ms/step - loss: 0.6928 - accuracy: 0.5136 - val_loss: 0.6930 - val_accuracy: 0.5100\n",
      "Epoch 9/50\n",
      "141/141 [==============================] - 1s 4ms/step - loss: 0.6928 - accuracy: 0.5136 - val_loss: 0.6930 - val_accuracy: 0.5100\n",
      "Epoch 10/50\n",
      "141/141 [==============================] - 1s 4ms/step - loss: 0.6928 - accuracy: 0.5136 - val_loss: 0.6930 - val_accuracy: 0.5100\n",
      "Epoch 11/50\n",
      "141/141 [==============================] - 1s 4ms/step - loss: 0.6928 - accuracy: 0.5136 - val_loss: 0.6930 - val_accuracy: 0.5100\n",
      "Epoch 12/50\n",
      "141/141 [==============================] - 1s 4ms/step - loss: 0.6928 - accuracy: 0.5136 - val_loss: 0.6930 - val_accuracy: 0.5100\n",
      "Epoch 13/50\n",
      "141/141 [==============================] - 1s 4ms/step - loss: 0.6928 - accuracy: 0.5136 - val_loss: 0.6930 - val_accuracy: 0.5100\n",
      "Epoch 14/50\n",
      "141/141 [==============================] - 1s 4ms/step - loss: 0.6928 - accuracy: 0.5136 - val_loss: 0.6930 - val_accuracy: 0.5100\n",
      "Epoch 15/50\n",
      "141/141 [==============================] - 1s 4ms/step - loss: 0.6928 - accuracy: 0.5136 - val_loss: 0.6930 - val_accuracy: 0.5100\n",
      "Epoch 16/50\n",
      "141/141 [==============================] - 1s 4ms/step - loss: 0.6928 - accuracy: 0.5136 - val_loss: 0.6930 - val_accuracy: 0.5100\n",
      "Epoch 17/50\n",
      "141/141 [==============================] - 1s 4ms/step - loss: 0.6928 - accuracy: 0.5136 - val_loss: 0.6930 - val_accuracy: 0.5100\n",
      "Epoch 18/50\n",
      "141/141 [==============================] - 1s 4ms/step - loss: 0.6928 - accuracy: 0.5136 - val_loss: 0.6930 - val_accuracy: 0.5100\n",
      "Epoch 19/50\n",
      "141/141 [==============================] - 1s 4ms/step - loss: 0.6928 - accuracy: 0.5136 - val_loss: 0.6930 - val_accuracy: 0.5100\n",
      "Epoch 20/50\n",
      "141/141 [==============================] - 1s 4ms/step - loss: 0.6928 - accuracy: 0.5136 - val_loss: 0.6930 - val_accuracy: 0.5100\n",
      "Epoch 21/50\n",
      "141/141 [==============================] - 1s 4ms/step - loss: 0.6928 - accuracy: 0.5136 - val_loss: 0.6930 - val_accuracy: 0.5100\n",
      "Epoch 22/50\n",
      "141/141 [==============================] - 1s 4ms/step - loss: 0.6928 - accuracy: 0.5136 - val_loss: 0.6930 - val_accuracy: 0.5100\n",
      "Epoch 23/50\n",
      "141/141 [==============================] - 1s 4ms/step - loss: 0.6928 - accuracy: 0.5136 - val_loss: 0.6930 - val_accuracy: 0.5100\n",
      "Epoch 24/50\n",
      "141/141 [==============================] - 1s 4ms/step - loss: 0.6928 - accuracy: 0.5136 - val_loss: 0.6930 - val_accuracy: 0.5100\n",
      "Epoch 25/50\n",
      "141/141 [==============================] - 1s 4ms/step - loss: 0.6928 - accuracy: 0.5136 - val_loss: 0.6930 - val_accuracy: 0.5100\n",
      "Epoch 26/50\n",
      "141/141 [==============================] - 1s 5ms/step - loss: 0.6928 - accuracy: 0.5136 - val_loss: 0.6930 - val_accuracy: 0.5100\n",
      "Epoch 27/50\n",
      "141/141 [==============================] - 1s 4ms/step - loss: 0.6928 - accuracy: 0.5136 - val_loss: 0.6930 - val_accuracy: 0.5100\n",
      "Epoch 28/50\n",
      "141/141 [==============================] - 1s 4ms/step - loss: 0.6928 - accuracy: 0.5136 - val_loss: 0.6930 - val_accuracy: 0.5100\n",
      "Epoch 29/50\n",
      "141/141 [==============================] - 1s 4ms/step - loss: 0.6928 - accuracy: 0.5136 - val_loss: 0.6930 - val_accuracy: 0.5100\n",
      "Epoch 30/50\n",
      "141/141 [==============================] - 1s 4ms/step - loss: 0.6928 - accuracy: 0.5136 - val_loss: 0.6930 - val_accuracy: 0.5100\n",
      "Epoch 31/50\n",
      "141/141 [==============================] - 1s 4ms/step - loss: 0.6928 - accuracy: 0.5136 - val_loss: 0.6930 - val_accuracy: 0.5100\n",
      "Epoch 32/50\n",
      "141/141 [==============================] - 1s 4ms/step - loss: 0.6928 - accuracy: 0.5136 - val_loss: 0.6930 - val_accuracy: 0.5100\n",
      "Epoch 33/50\n",
      "141/141 [==============================] - 1s 4ms/step - loss: 0.6928 - accuracy: 0.5136 - val_loss: 0.6930 - val_accuracy: 0.5100\n",
      "Epoch 34/50\n",
      "141/141 [==============================] - 1s 5ms/step - loss: 0.6928 - accuracy: 0.5136 - val_loss: 0.6930 - val_accuracy: 0.5100\n",
      "Epoch 35/50\n",
      "141/141 [==============================] - 1s 4ms/step - loss: 0.6928 - accuracy: 0.5136 - val_loss: 0.6930 - val_accuracy: 0.5100\n",
      "Epoch 36/50\n",
      "141/141 [==============================] - 1s 4ms/step - loss: 0.6928 - accuracy: 0.5136 - val_loss: 0.6930 - val_accuracy: 0.5100\n",
      "Epoch 37/50\n",
      "141/141 [==============================] - 1s 4ms/step - loss: 0.6928 - accuracy: 0.5136 - val_loss: 0.6930 - val_accuracy: 0.5100\n",
      "Epoch 38/50\n",
      "141/141 [==============================] - 1s 4ms/step - loss: 0.6928 - accuracy: 0.5136 - val_loss: 0.6930 - val_accuracy: 0.5100\n",
      "Epoch 39/50\n",
      "141/141 [==============================] - 1s 4ms/step - loss: 0.6928 - accuracy: 0.5136 - val_loss: 0.6930 - val_accuracy: 0.5100\n",
      "Epoch 40/50\n",
      "141/141 [==============================] - 1s 5ms/step - loss: 0.6928 - accuracy: 0.5136 - val_loss: 0.6930 - val_accuracy: 0.5100\n",
      "Epoch 41/50\n",
      "141/141 [==============================] - 1s 4ms/step - loss: 0.6928 - accuracy: 0.5136 - val_loss: 0.6930 - val_accuracy: 0.5100\n",
      "Epoch 42/50\n",
      "141/141 [==============================] - 1s 4ms/step - loss: 0.6928 - accuracy: 0.5136 - val_loss: 0.6930 - val_accuracy: 0.5100\n",
      "Epoch 43/50\n",
      "141/141 [==============================] - 1s 4ms/step - loss: 0.6928 - accuracy: 0.5136 - val_loss: 0.6930 - val_accuracy: 0.5100\n",
      "Epoch 44/50\n",
      "141/141 [==============================] - 1s 4ms/step - loss: 0.6928 - accuracy: 0.5136 - val_loss: 0.6930 - val_accuracy: 0.5100\n",
      "Epoch 45/50\n",
      "141/141 [==============================] - 1s 4ms/step - loss: 0.6928 - accuracy: 0.5136 - val_loss: 0.6930 - val_accuracy: 0.5100\n",
      "Epoch 46/50\n",
      "141/141 [==============================] - 1s 4ms/step - loss: 0.6928 - accuracy: 0.5136 - val_loss: 0.6930 - val_accuracy: 0.5100\n",
      "Epoch 47/50\n",
      "141/141 [==============================] - 1s 4ms/step - loss: 0.6928 - accuracy: 0.5136 - val_loss: 0.6930 - val_accuracy: 0.5100\n",
      "Epoch 48/50\n",
      "141/141 [==============================] - 1s 4ms/step - loss: 0.6928 - accuracy: 0.5136 - val_loss: 0.6930 - val_accuracy: 0.5100\n",
      "Epoch 49/50\n",
      "141/141 [==============================] - 1s 4ms/step - loss: 0.6928 - accuracy: 0.5136 - val_loss: 0.6930 - val_accuracy: 0.5100\n",
      "Epoch 50/50\n",
      "141/141 [==============================] - 1s 4ms/step - loss: 0.6928 - accuracy: 0.5136 - val_loss: 0.6930 - val_accuracy: 0.5100\n"
     ]
    },
    {
     "data": {
      "text/plain": [
       "<keras.callbacks.History at 0x7f6515589730>"
      ]
     },
     "execution_count": 5,
     "metadata": {},
     "output_type": "execute_result"
    }
   ],
   "source": [
    "model1.fit(X_train,Y_train,epochs=50, verbose=True, validation_data=(X_val,Y_val),shuffle=False, callbacks=[cp])"
   ]
  },
  {
   "cell_type": "code",
   "execution_count": 6,
   "id": "d8599872-f2f4-43c5-b94a-24cac96a57e0",
   "metadata": {},
   "outputs": [
    {
     "data": {
      "image/png": "[encoded data removed]",
      "text/plain": [
       "<Figure size 720x432 with 1 Axes>"
      ]
     },
     "metadata": {
      "needs_background": "light"
     },
     "output_type": "display_data"
    },
    {
     "data": {
      "image/png": "[encoded data removed]",
      "text/plain": [
       "<Figure size 720x432 with 1 Axes>"
      ]
     },
     "metadata": {
      "needs_background": "light"
     },
     "output_type": "display_data"
    }
   ],
   "source": [
    "res = pd.DataFrame(model1.history.history)\n",
    "res[['accuracy', 'val_accuracy']].plot(figsize=(10, 6), style='--');\n",
    "res[['loss', 'val_loss']].plot(figsize=(10, 6), style='--');"
   ]
  },
  {
   "cell_type": "code",
   "execution_count": 7,
   "id": "7c07c914-34da-47f1-9e9f-9bf3337ec502",
   "metadata": {},
   "outputs": [
    {
     "name": "stdout",
     "output_type": "stream",
     "text": [
      "141/141 [==============================] - 1s 2ms/step\n"
     ]
    },
    {
     "data": {
      "text/html": [
       "<div>\n",
       "<style scoped>\n",
       "    .dataframe tbody tr th:only-of-type {\n",
       "        vertical-align: middle;\n",
       "    }\n",
       "\n",
       "    .dataframe tbody tr th {\n",
       "        vertical-align: top;\n",
       "    }\n",
       "\n",
       "    .dataframe thead th {\n",
       "        text-align: right;\n",
       "    }\n",
       "</style>\n",
       "<table border=\"1\" class=\"dataframe\">\n",
       "  <thead>\n",
       "    <tr style=\"text-align: right;\">\n",
       "      <th></th>\n",
       "      <th>Train Predictions</th>\n",
       "      <th>Actuals</th>\n",
       "    </tr>\n",
       "  </thead>\n",
       "  <tbody>\n",
       "    <tr>\n",
       "      <th>0</th>\n",
       "      <td>0.485420</td>\n",
       "      <td>1</td>\n",
       "    </tr>\n",
       "    <tr>\n",
       "      <th>1</th>\n",
       "      <td>0.485428</td>\n",
       "      <td>1</td>\n",
       "    </tr>\n",
       "    <tr>\n",
       "      <th>2</th>\n",
       "      <td>0.485449</td>\n",
       "      <td>1</td>\n",
       "    </tr>\n",
       "    <tr>\n",
       "      <th>3</th>\n",
       "      <td>0.485439</td>\n",
       "      <td>1</td>\n",
       "    </tr>\n",
       "    <tr>\n",
       "      <th>4</th>\n",
       "      <td>0.485444</td>\n",
       "      <td>1</td>\n",
       "    </tr>\n",
       "    <tr>\n",
       "      <th>...</th>\n",
       "      <td>...</td>\n",
       "      <td>...</td>\n",
       "    </tr>\n",
       "    <tr>\n",
       "      <th>4495</th>\n",
       "      <td>0.485414</td>\n",
       "      <td>0</td>\n",
       "    </tr>\n",
       "    <tr>\n",
       "      <th>4496</th>\n",
       "      <td>0.485434</td>\n",
       "      <td>0</td>\n",
       "    </tr>\n",
       "    <tr>\n",
       "      <th>4497</th>\n",
       "      <td>0.485422</td>\n",
       "      <td>1</td>\n",
       "    </tr>\n",
       "    <tr>\n",
       "      <th>4498</th>\n",
       "      <td>0.485420</td>\n",
       "      <td>0</td>\n",
       "    </tr>\n",
       "    <tr>\n",
       "      <th>4499</th>\n",
       "      <td>0.485449</td>\n",
       "      <td>1</td>\n",
       "    </tr>\n",
       "  </tbody>\n",
       "</table>\n",
       "<p>4500 rows × 2 columns</p>\n",
       "</div>"
      ],
      "text/plain": [
       "      Train Predictions  Actuals\n",
       "0              0.485420        1\n",
       "1              0.485428        1\n",
       "2              0.485449        1\n",
       "3              0.485439        1\n",
       "4              0.485444        1\n",
       "...                 ...      ...\n",
       "4495           0.485414        0\n",
       "4496           0.485434        0\n",
       "4497           0.485422        1\n",
       "4498           0.485420        0\n",
       "4499           0.485449        1\n",
       "\n",
       "[4500 rows x 2 columns]"
      ]
     },
     "execution_count": 7,
     "metadata": {},
     "output_type": "execute_result"
    }
   ],
   "source": [
    "train_predictions = model1.predict(X_train).flatten()\n",
    "train_results = pd.DataFrame(data={'Train Predictions':train_predictions, \"Actuals\":Y_train})\n",
    "train_results"
   ]
  },
  {
   "cell_type": "code",
   "execution_count": 8,
   "id": "f79d23db-6fac-424b-97a0-0d9dd100ff42",
   "metadata": {},
   "outputs": [
    {
     "data": {
      "text/plain": [
       "[<matplotlib.lines.Line2D at 0x7f64fc2fd2b0>]"
      ]
     },
     "execution_count": 8,
     "metadata": {},
     "output_type": "execute_result"
    },
    {
     "data": {
      "image/png": "[encoded data removed]",
      "text/plain": [
       "<Figure size 432x288 with 1 Axes>"
      ]
     },
     "metadata": {
      "needs_background": "light"
     },
     "output_type": "display_data"
    }
   ],
   "source": [
    "import matplotlib.pyplot as plt\n",
    "plt.plot(train_results['Train Predictions'][:10])\n",
    "plt.plot(train_results['Actuals'[:10]])"
   ]
  },
  {
   "cell_type": "code",
   "execution_count": null,
   "id": "fec16493-61b0-4e34-a713-7521726d07c1",
   "metadata": {},
   "outputs": [],
   "source": []
  }
 ],
 "metadata": {
  "kernelspec": {
   "display_name": "Python 3",
   "language": "python",
   "name": "python3"
  },
  "language_info": {
   "codemirror_mode": {
    "name": "ipython",
    "version": 3
   },
   "file_extension": ".py",
   "mimetype": "text/x-python",
   "name": "python",
   "nbconvert_exporter": "python",
   "pygments_lexer": "ipython3",
   "version": "3.8.10"
  }
 },
 "nbformat": 4,
 "nbformat_minor": 5
}
