{
 "cells": [
  {
   "cell_type": "markdown",
   "id": "e82392a0-4b55-462d-a789-4ae466afc10d",
   "metadata": {
    "id": "e82392a0-4b55-462d-a789-4ae466afc10d",
    "tags": []
   },
   "source": [
    "# Livro: Python for Algorithmic Trading DNN using\n",
    "## Using Deep Neural Networks to Predict Market Direction"
   ]
  },
  {
   "cell_type": "code",
   "execution_count": 1,
   "id": "fce3fdb4-db11-47c7-a075-7dd595d6f88f",
   "metadata": {
    "colab": {
     "base_uri": "https://localhost:8080/",
     "height": 206
    },
    "executionInfo": {
     "elapsed": 63,
     "status": "ok",
     "timestamp": 1663121624525,
     "user": {
      "displayName": "Larissa Benevides Vieira",
      "userId": "07170501787859993395"
     },
     "user_tz": 180
    },
    "id": "fce3fdb4-db11-47c7-a075-7dd595d6f88f",
    "outputId": "a3ad7fbe-0c51-47b1-98af-38ecf846499e",
    "tags": []
   },
   "outputs": [
    {
     "data": {
      "text/html": [
       "<div>\n",
       "<style scoped>\n",
       "    .dataframe tbody tr th:only-of-type {\n",
       "        vertical-align: middle;\n",
       "    }\n",
       "\n",
       "    .dataframe tbody tr th {\n",
       "        vertical-align: top;\n",
       "    }\n",
       "\n",
       "    .dataframe thead th {\n",
       "        text-align: right;\n",
       "    }\n",
       "</style>\n",
       "<table border=\"1\" class=\"dataframe\">\n",
       "  <thead>\n",
       "    <tr style=\"text-align: right;\">\n",
       "      <th></th>\n",
       "      <th>time</th>\n",
       "      <th>open</th>\n",
       "      <th>high</th>\n",
       "      <th>low</th>\n",
       "      <th>close</th>\n",
       "      <th>Volume</th>\n",
       "      <th>Volume MA</th>\n",
       "    </tr>\n",
       "  </thead>\n",
       "  <tbody>\n",
       "    <tr>\n",
       "      <th>0</th>\n",
       "      <td>2021-01-04T10:00:00-03:00</td>\n",
       "      <td>23.7500</td>\n",
       "      <td>23.8750</td>\n",
       "      <td>23.6125</td>\n",
       "      <td>23.6225</td>\n",
       "      <td>401600</td>\n",
       "      <td>492360</td>\n",
       "    </tr>\n",
       "    <tr>\n",
       "      <th>1</th>\n",
       "      <td>2021-01-04T10:30:00-03:00</td>\n",
       "      <td>23.6300</td>\n",
       "      <td>23.6725</td>\n",
       "      <td>23.4225</td>\n",
       "      <td>23.5300</td>\n",
       "      <td>358000</td>\n",
       "      <td>476720</td>\n",
       "    </tr>\n",
       "    <tr>\n",
       "      <th>2</th>\n",
       "      <td>2021-01-04T11:00:00-03:00</td>\n",
       "      <td>23.5225</td>\n",
       "      <td>23.5375</td>\n",
       "      <td>23.4475</td>\n",
       "      <td>23.5000</td>\n",
       "      <td>258800</td>\n",
       "      <td>455300</td>\n",
       "    </tr>\n",
       "    <tr>\n",
       "      <th>3</th>\n",
       "      <td>2021-01-04T11:30:00-03:00</td>\n",
       "      <td>23.5000</td>\n",
       "      <td>23.5200</td>\n",
       "      <td>23.4300</td>\n",
       "      <td>23.4825</td>\n",
       "      <td>273200</td>\n",
       "      <td>436000</td>\n",
       "    </tr>\n",
       "    <tr>\n",
       "      <th>4</th>\n",
       "      <td>2021-01-04T12:00:00-03:00</td>\n",
       "      <td>23.4875</td>\n",
       "      <td>23.5125</td>\n",
       "      <td>23.3875</td>\n",
       "      <td>23.3900</td>\n",
       "      <td>762000</td>\n",
       "      <td>457560</td>\n",
       "    </tr>\n",
       "  </tbody>\n",
       "</table>\n",
       "</div>"
      ],
      "text/plain": [
       "                        time     open     high      low    close  Volume  \\\n",
       "0  2021-01-04T10:00:00-03:00  23.7500  23.8750  23.6125  23.6225  401600   \n",
       "1  2021-01-04T10:30:00-03:00  23.6300  23.6725  23.4225  23.5300  358000   \n",
       "2  2021-01-04T11:00:00-03:00  23.5225  23.5375  23.4475  23.5000  258800   \n",
       "3  2021-01-04T11:30:00-03:00  23.5000  23.5200  23.4300  23.4825  273200   \n",
       "4  2021-01-04T12:00:00-03:00  23.4875  23.5125  23.3875  23.3900  762000   \n",
       "\n",
       "   Volume MA  \n",
       "0     492360  \n",
       "1     476720  \n",
       "2     455300  \n",
       "3     436000  \n",
       "4     457560  "
      ]
     },
     "execution_count": 1,
     "metadata": {},
     "output_type": "execute_result"
    }
   ],
   "source": [
    "import pandas as pd\n",
    "import tensorflow as tf\n",
    "import numpy as np\n",
    "\n",
    "\n",
    "#-----------------------------------------------------------\n",
    "# Lê os dados do arquivo CSV.\n",
    "#-----------------------------------------------------------\n",
    "data = pd.read_csv('Inteligencia_Artificial/Trabalho de Conclusão de Curso/Base de Dados/2021/BPAC11_30m_2021.csv') \n",
    "data.head()\n",
    "#print(df)\n",
    "#df.info()"
   ]
  },
  {
   "cell_type": "code",
   "execution_count": 2,
   "id": "5dabc399-ddca-4204-99da-6f08d7acd564",
   "metadata": {
    "colab": {
     "base_uri": "https://localhost:8080/",
     "height": 206
    },
    "executionInfo": {
     "elapsed": 60,
     "status": "ok",
     "timestamp": 1663121624527,
     "user": {
      "displayName": "Larissa Benevides Vieira",
      "userId": "07170501787859993395"
     },
     "user_tz": 180
    },
    "id": "5dabc399-ddca-4204-99da-6f08d7acd564",
    "outputId": "5c4123ba-6e77-4723-b24a-d83a1d89d32c"
   },
   "outputs": [
    {
     "data": {
      "text/html": [
       "<div>\n",
       "<style scoped>\n",
       "    .dataframe tbody tr th:only-of-type {\n",
       "        vertical-align: middle;\n",
       "    }\n",
       "\n",
       "    .dataframe tbody tr th {\n",
       "        vertical-align: top;\n",
       "    }\n",
       "\n",
       "    .dataframe thead th {\n",
       "        text-align: right;\n",
       "    }\n",
       "</style>\n",
       "<table border=\"1\" class=\"dataframe\">\n",
       "  <thead>\n",
       "    <tr style=\"text-align: right;\">\n",
       "      <th></th>\n",
       "      <th>close</th>\n",
       "    </tr>\n",
       "  </thead>\n",
       "  <tbody>\n",
       "    <tr>\n",
       "      <th>0</th>\n",
       "      <td>23.6225</td>\n",
       "    </tr>\n",
       "    <tr>\n",
       "      <th>1</th>\n",
       "      <td>23.5300</td>\n",
       "    </tr>\n",
       "    <tr>\n",
       "      <th>2</th>\n",
       "      <td>23.5000</td>\n",
       "    </tr>\n",
       "    <tr>\n",
       "      <th>3</th>\n",
       "      <td>23.4825</td>\n",
       "    </tr>\n",
       "    <tr>\n",
       "      <th>4</th>\n",
       "      <td>23.3900</td>\n",
       "    </tr>\n",
       "  </tbody>\n",
       "</table>\n",
       "</div>"
      ],
      "text/plain": [
       "     close\n",
       "0  23.6225\n",
       "1  23.5300\n",
       "2  23.5000\n",
       "3  23.4825\n",
       "4  23.3900"
      ]
     },
     "execution_count": 2,
     "metadata": {},
     "output_type": "execute_result"
    }
   ],
   "source": [
    "#-----------------------------------------------------------\n",
    "# Escolhe a coluna de série temporal única de interesse.\n",
    "#-----------------------------------------------------------\n",
    "symbol = \"close\"\n",
    "\n",
    "data = pd.DataFrame(data[symbol])\n",
    "data.head()\n"
   ]
  },
  {
   "cell_type": "code",
   "execution_count": 3,
   "id": "5535a90d-30ac-4c49-a165-a085fe52beda",
   "metadata": {
    "colab": {
     "base_uri": "https://localhost:8080/",
     "height": 206
    },
    "executionInfo": {
     "elapsed": 59,
     "status": "ok",
     "timestamp": 1663121624528,
     "user": {
      "displayName": "Larissa Benevides Vieira",
      "userId": "07170501787859993395"
     },
     "user_tz": 180
    },
    "id": "5535a90d-30ac-4c49-a165-a085fe52beda",
    "outputId": "4544ef90-d157-46a7-8004-8cb42284621d"
   },
   "outputs": [
    {
     "data": {
      "text/html": [
       "<div>\n",
       "<style scoped>\n",
       "    .dataframe tbody tr th:only-of-type {\n",
       "        vertical-align: middle;\n",
       "    }\n",
       "\n",
       "    .dataframe tbody tr th {\n",
       "        vertical-align: top;\n",
       "    }\n",
       "\n",
       "    .dataframe thead th {\n",
       "        text-align: right;\n",
       "    }\n",
       "</style>\n",
       "<table border=\"1\" class=\"dataframe\">\n",
       "  <thead>\n",
       "    <tr style=\"text-align: right;\">\n",
       "      <th></th>\n",
       "      <th>price</th>\n",
       "    </tr>\n",
       "  </thead>\n",
       "  <tbody>\n",
       "    <tr>\n",
       "      <th>0</th>\n",
       "      <td>23.6225</td>\n",
       "    </tr>\n",
       "    <tr>\n",
       "      <th>1</th>\n",
       "      <td>23.5300</td>\n",
       "    </tr>\n",
       "    <tr>\n",
       "      <th>2</th>\n",
       "      <td>23.5000</td>\n",
       "    </tr>\n",
       "    <tr>\n",
       "      <th>3</th>\n",
       "      <td>23.4825</td>\n",
       "    </tr>\n",
       "    <tr>\n",
       "      <th>4</th>\n",
       "      <td>23.3900</td>\n",
       "    </tr>\n",
       "  </tbody>\n",
       "</table>\n",
       "</div>"
      ],
      "text/plain": [
       "     price\n",
       "0  23.6225\n",
       "1  23.5300\n",
       "2  23.5000\n",
       "3  23.4825\n",
       "4  23.3900"
      ]
     },
     "execution_count": 3,
     "metadata": {},
     "output_type": "execute_result"
    }
   ],
   "source": [
    "#-----------------------------------------------------------\n",
    "# Renomeia a única coluna para price\n",
    "#-----------------------------------------------------------\n",
    "data.rename(columns={symbol: 'price'}, inplace=True)\n",
    "\n",
    "data.head()"
   ]
  },
  {
   "cell_type": "code",
   "execution_count": 4,
   "id": "0d011aea-8408-4921-837e-ce58c1b1bf0e",
   "metadata": {
    "colab": {
     "base_uri": "https://localhost:8080/",
     "height": 423
    },
    "executionInfo": {
     "elapsed": 57,
     "status": "ok",
     "timestamp": 1663121624529,
     "user": {
      "displayName": "Larissa Benevides Vieira",
      "userId": "07170501787859993395"
     },
     "user_tz": 180
    },
    "id": "0d011aea-8408-4921-837e-ce58c1b1bf0e",
    "outputId": "6e068fe4-1b03-456b-94c7-656a3d692b86"
   },
   "outputs": [
    {
     "data": {
      "text/html": [
       "<div>\n",
       "<style scoped>\n",
       "    .dataframe tbody tr th:only-of-type {\n",
       "        vertical-align: middle;\n",
       "    }\n",
       "\n",
       "    .dataframe tbody tr th {\n",
       "        vertical-align: top;\n",
       "    }\n",
       "\n",
       "    .dataframe thead th {\n",
       "        text-align: right;\n",
       "    }\n",
       "</style>\n",
       "<table border=\"1\" class=\"dataframe\">\n",
       "  <thead>\n",
       "    <tr style=\"text-align: right;\">\n",
       "      <th></th>\n",
       "      <th>price</th>\n",
       "      <th>return</th>\n",
       "      <th>direction</th>\n",
       "    </tr>\n",
       "  </thead>\n",
       "  <tbody>\n",
       "    <tr>\n",
       "      <th>0</th>\n",
       "      <td>23.6225</td>\n",
       "      <td>NaN</td>\n",
       "      <td>0</td>\n",
       "    </tr>\n",
       "    <tr>\n",
       "      <th>1</th>\n",
       "      <td>23.5300</td>\n",
       "      <td>-0.003923</td>\n",
       "      <td>0</td>\n",
       "    </tr>\n",
       "    <tr>\n",
       "      <th>2</th>\n",
       "      <td>23.5000</td>\n",
       "      <td>-0.001276</td>\n",
       "      <td>0</td>\n",
       "    </tr>\n",
       "    <tr>\n",
       "      <th>3</th>\n",
       "      <td>23.4825</td>\n",
       "      <td>-0.000745</td>\n",
       "      <td>0</td>\n",
       "    </tr>\n",
       "    <tr>\n",
       "      <th>4</th>\n",
       "      <td>23.3900</td>\n",
       "      <td>-0.003947</td>\n",
       "      <td>0</td>\n",
       "    </tr>\n",
       "    <tr>\n",
       "      <th>...</th>\n",
       "      <td>...</td>\n",
       "      <td>...</td>\n",
       "      <td>...</td>\n",
       "    </tr>\n",
       "    <tr>\n",
       "      <th>3927</th>\n",
       "      <td>21.0300</td>\n",
       "      <td>0.001428</td>\n",
       "      <td>1</td>\n",
       "    </tr>\n",
       "    <tr>\n",
       "      <th>3928</th>\n",
       "      <td>21.0200</td>\n",
       "      <td>-0.000476</td>\n",
       "      <td>0</td>\n",
       "    </tr>\n",
       "    <tr>\n",
       "      <th>3929</th>\n",
       "      <td>20.9800</td>\n",
       "      <td>-0.001905</td>\n",
       "      <td>0</td>\n",
       "    </tr>\n",
       "    <tr>\n",
       "      <th>3930</th>\n",
       "      <td>20.9000</td>\n",
       "      <td>-0.003820</td>\n",
       "      <td>0</td>\n",
       "    </tr>\n",
       "    <tr>\n",
       "      <th>3931</th>\n",
       "      <td>20.8800</td>\n",
       "      <td>-0.000957</td>\n",
       "      <td>0</td>\n",
       "    </tr>\n",
       "  </tbody>\n",
       "</table>\n",
       "<p>3932 rows × 3 columns</p>\n",
       "</div>"
      ],
      "text/plain": [
       "        price    return  direction\n",
       "0     23.6225       NaN          0\n",
       "1     23.5300 -0.003923          0\n",
       "2     23.5000 -0.001276          0\n",
       "3     23.4825 -0.000745          0\n",
       "4     23.3900 -0.003947          0\n",
       "...       ...       ...        ...\n",
       "3927  21.0300  0.001428          1\n",
       "3928  21.0200 -0.000476          0\n",
       "3929  20.9800 -0.001905          0\n",
       "3930  20.9000 -0.003820          0\n",
       "3931  20.8800 -0.000957          0\n",
       "\n",
       "[3932 rows x 3 columns]"
      ]
     },
     "metadata": {},
     "output_type": "display_data"
    }
   ],
   "source": [
    "#-----------------------------------------------------------\n",
    "# Calcula o log de retorno e define a direção como uma coluna binária.\n",
    "#-----------------------------------------------------------\n",
    "\n",
    "#-----------------------------------------------------------\n",
    "# Log Retorno\n",
    "#-----------------------------------------------------------\n",
    "data['return'] = np.log(data['price']/data['price'].shift(1))\n",
    "\n",
    "#-----------------------------------------------------------\n",
    "# Coluna binária\n",
    "#-----------------------------------------------------------\n",
    "data['direction'] = np.where(data['return'] > 0, 1, 0)\n",
    "#data.head()\n",
    "\n",
    "display(data)\n",
    "#data.to_csv('dados.csv', encoding='utf-8', index=False)"
   ]
  },
  {
   "cell_type": "code",
   "execution_count": 5,
   "id": "df75492b-acfd-42aa-9a6b-b0d32de5f98c",
   "metadata": {
    "executionInfo": {
     "elapsed": 56,
     "status": "ok",
     "timestamp": 1663121624530,
     "user": {
      "displayName": "Larissa Benevides Vieira",
      "userId": "07170501787859993395"
     },
     "user_tz": 180
    },
    "id": "df75492b-acfd-42aa-9a6b-b0d32de5f98c"
   },
   "outputs": [],
   "source": [
    "#-----------------------------------------------------------\n",
    "# Dados atrasados em 5 lags. \n",
    "# Para a previsão do mercado de ações, é crucial encontrar dependências de tempo bem definidas\n",
    "#-----------------------------------------------------------\n",
    "lags = 5\n",
    "\n",
    "cols = []\n",
    "\n",
    "#-----------------------------------------------------------\n",
    "# Cria os Lagged Data\n",
    "#-----------------------------------------------------------\n",
    "for lag in range(1, lags + 1):\n",
    "     col = f'lag_{lag}'\n",
    "        \n",
    "#-----------------------------------------------------------\n",
    "# Cria novas colunas DataFrame com os retornos de log deslocados pelo respectivo número de atrasos\n",
    "#-----------------------------------------------------------\n",
    "     data[col] = data['return'].shift(lag)\n",
    "     cols.append(col)\n",
    "        \n",
    "#-----------------------------------------------------------\n",
    "# Exclui as linhas que contêm valores NaN.\n",
    "#-----------------------------------------------------------\n",
    "data.dropna(inplace=True)"
   ]
  },
  {
   "cell_type": "code",
   "execution_count": 6,
   "id": "070422d7-cc6b-4666-b2aa-859e72344c17",
   "metadata": {
    "colab": {
     "base_uri": "https://localhost:8080/",
     "height": 423
    },
    "executionInfo": {
     "elapsed": 51,
     "status": "ok",
     "timestamp": 1663121624531,
     "user": {
      "displayName": "Larissa Benevides Vieira",
      "userId": "07170501787859993395"
     },
     "user_tz": 180
    },
    "id": "070422d7-cc6b-4666-b2aa-859e72344c17",
    "outputId": "a627215b-2f15-4b60-fc33-1c2471d9db7a"
   },
   "outputs": [
    {
     "data": {
      "text/html": [
       "<div>\n",
       "<style scoped>\n",
       "    .dataframe tbody tr th:only-of-type {\n",
       "        vertical-align: middle;\n",
       "    }\n",
       "\n",
       "    .dataframe tbody tr th {\n",
       "        vertical-align: top;\n",
       "    }\n",
       "\n",
       "    .dataframe thead th {\n",
       "        text-align: right;\n",
       "    }\n",
       "</style>\n",
       "<table border=\"1\" class=\"dataframe\">\n",
       "  <thead>\n",
       "    <tr style=\"text-align: right;\">\n",
       "      <th></th>\n",
       "      <th>price</th>\n",
       "      <th>return</th>\n",
       "      <th>direction</th>\n",
       "      <th>lag_1</th>\n",
       "      <th>lag_2</th>\n",
       "      <th>lag_3</th>\n",
       "      <th>lag_4</th>\n",
       "      <th>lag_5</th>\n",
       "    </tr>\n",
       "  </thead>\n",
       "  <tbody>\n",
       "    <tr>\n",
       "      <th>6</th>\n",
       "      <td>23.1900</td>\n",
       "      <td>-0.002584</td>\n",
       "      <td>0</td>\n",
       "      <td>-0.006003</td>\n",
       "      <td>-0.003947</td>\n",
       "      <td>-0.000745</td>\n",
       "      <td>-0.001276</td>\n",
       "      <td>-0.003923</td>\n",
       "    </tr>\n",
       "    <tr>\n",
       "      <th>7</th>\n",
       "      <td>23.1000</td>\n",
       "      <td>-0.003889</td>\n",
       "      <td>0</td>\n",
       "      <td>-0.002584</td>\n",
       "      <td>-0.006003</td>\n",
       "      <td>-0.003947</td>\n",
       "      <td>-0.000745</td>\n",
       "      <td>-0.001276</td>\n",
       "    </tr>\n",
       "    <tr>\n",
       "      <th>8</th>\n",
       "      <td>23.1850</td>\n",
       "      <td>0.003673</td>\n",
       "      <td>1</td>\n",
       "      <td>-0.003889</td>\n",
       "      <td>-0.002584</td>\n",
       "      <td>-0.006003</td>\n",
       "      <td>-0.003947</td>\n",
       "      <td>-0.000745</td>\n",
       "    </tr>\n",
       "    <tr>\n",
       "      <th>9</th>\n",
       "      <td>23.2250</td>\n",
       "      <td>0.001724</td>\n",
       "      <td>1</td>\n",
       "      <td>0.003673</td>\n",
       "      <td>-0.003889</td>\n",
       "      <td>-0.002584</td>\n",
       "      <td>-0.006003</td>\n",
       "      <td>-0.003947</td>\n",
       "    </tr>\n",
       "    <tr>\n",
       "      <th>10</th>\n",
       "      <td>23.2625</td>\n",
       "      <td>0.001613</td>\n",
       "      <td>1</td>\n",
       "      <td>0.001724</td>\n",
       "      <td>0.003673</td>\n",
       "      <td>-0.003889</td>\n",
       "      <td>-0.002584</td>\n",
       "      <td>-0.006003</td>\n",
       "    </tr>\n",
       "    <tr>\n",
       "      <th>...</th>\n",
       "      <td>...</td>\n",
       "      <td>...</td>\n",
       "      <td>...</td>\n",
       "      <td>...</td>\n",
       "      <td>...</td>\n",
       "      <td>...</td>\n",
       "      <td>...</td>\n",
       "      <td>...</td>\n",
       "    </tr>\n",
       "    <tr>\n",
       "      <th>3927</th>\n",
       "      <td>21.0300</td>\n",
       "      <td>0.001428</td>\n",
       "      <td>1</td>\n",
       "      <td>0.000953</td>\n",
       "      <td>0.000000</td>\n",
       "      <td>0.000000</td>\n",
       "      <td>0.007656</td>\n",
       "      <td>-0.001440</td>\n",
       "    </tr>\n",
       "    <tr>\n",
       "      <th>3928</th>\n",
       "      <td>21.0200</td>\n",
       "      <td>-0.000476</td>\n",
       "      <td>0</td>\n",
       "      <td>0.001428</td>\n",
       "      <td>0.000953</td>\n",
       "      <td>0.000000</td>\n",
       "      <td>0.000000</td>\n",
       "      <td>0.007656</td>\n",
       "    </tr>\n",
       "    <tr>\n",
       "      <th>3929</th>\n",
       "      <td>20.9800</td>\n",
       "      <td>-0.001905</td>\n",
       "      <td>0</td>\n",
       "      <td>-0.000476</td>\n",
       "      <td>0.001428</td>\n",
       "      <td>0.000953</td>\n",
       "      <td>0.000000</td>\n",
       "      <td>0.000000</td>\n",
       "    </tr>\n",
       "    <tr>\n",
       "      <th>3930</th>\n",
       "      <td>20.9000</td>\n",
       "      <td>-0.003820</td>\n",
       "      <td>0</td>\n",
       "      <td>-0.001905</td>\n",
       "      <td>-0.000476</td>\n",
       "      <td>0.001428</td>\n",
       "      <td>0.000953</td>\n",
       "      <td>0.000000</td>\n",
       "    </tr>\n",
       "    <tr>\n",
       "      <th>3931</th>\n",
       "      <td>20.8800</td>\n",
       "      <td>-0.000957</td>\n",
       "      <td>0</td>\n",
       "      <td>-0.003820</td>\n",
       "      <td>-0.001905</td>\n",
       "      <td>-0.000476</td>\n",
       "      <td>0.001428</td>\n",
       "      <td>0.000953</td>\n",
       "    </tr>\n",
       "  </tbody>\n",
       "</table>\n",
       "<p>3926 rows × 8 columns</p>\n",
       "</div>"
      ],
      "text/plain": [
       "        price    return  direction     lag_1     lag_2     lag_3     lag_4  \\\n",
       "6     23.1900 -0.002584          0 -0.006003 -0.003947 -0.000745 -0.001276   \n",
       "7     23.1000 -0.003889          0 -0.002584 -0.006003 -0.003947 -0.000745   \n",
       "8     23.1850  0.003673          1 -0.003889 -0.002584 -0.006003 -0.003947   \n",
       "9     23.2250  0.001724          1  0.003673 -0.003889 -0.002584 -0.006003   \n",
       "10    23.2625  0.001613          1  0.001724  0.003673 -0.003889 -0.002584   \n",
       "...       ...       ...        ...       ...       ...       ...       ...   \n",
       "3927  21.0300  0.001428          1  0.000953  0.000000  0.000000  0.007656   \n",
       "3928  21.0200 -0.000476          0  0.001428  0.000953  0.000000  0.000000   \n",
       "3929  20.9800 -0.001905          0 -0.000476  0.001428  0.000953  0.000000   \n",
       "3930  20.9000 -0.003820          0 -0.001905 -0.000476  0.001428  0.000953   \n",
       "3931  20.8800 -0.000957          0 -0.003820 -0.001905 -0.000476  0.001428   \n",
       "\n",
       "         lag_5  \n",
       "6    -0.003923  \n",
       "7    -0.001276  \n",
       "8    -0.000745  \n",
       "9    -0.003947  \n",
       "10   -0.006003  \n",
       "...        ...  \n",
       "3927 -0.001440  \n",
       "3928  0.007656  \n",
       "3929  0.000000  \n",
       "3930  0.000000  \n",
       "3931  0.000953  \n",
       "\n",
       "[3926 rows x 8 columns]"
      ]
     },
     "metadata": {},
     "output_type": "display_data"
    }
   ],
   "source": [
    "#-----------------------------------------------------------\n",
    "# Imprime as cinco linhas finais indicando os “padrões” emergentes nas quatro colunas de recursos\n",
    "#-----------------------------------------------------------\n",
    "# data.round(4).tail() \n",
    "display(data)"
   ]
  },
  {
   "cell_type": "markdown",
   "id": "724f0dfc-af6f-4643-a745-d2fbafc14758",
   "metadata": {
    "id": "724f0dfc-af6f-4643-a745-d2fbafc14758",
    "tags": []
   },
   "source": [
    "# Separação"
   ]
  },
  {
   "cell_type": "code",
   "execution_count": 7,
   "id": "87f0bfe9-248d-485a-a832-bd5d078c4a64",
   "metadata": {
    "executionInfo": {
     "elapsed": 48,
     "status": "ok",
     "timestamp": 1663121624531,
     "user": {
      "displayName": "Larissa Benevides Vieira",
      "userId": "07170501787859993395"
     },
     "user_tz": 180
    },
    "id": "87f0bfe9-248d-485a-a832-bd5d078c4a64"
   },
   "outputs": [],
   "source": [
    "#-----------------------------------------------------------\n",
    "# Importa o pacote TensorFlow.\n",
    "#-----------------------------------------------------------\n",
    "import tensorflow as tf\n",
    "#-----------------------------------------------------------\n",
    "# Importa o objeto de modelo necessário do Keras\n",
    "#-----------------------------------------------------------\n",
    "from keras.models import Sequential\n",
    "#-----------------------------------------------------------\n",
    "# Importa o objeto de camada relevante do Keras\n",
    "#-----------------------------------------------------------\n",
    "from keras.layers import Dense\n",
    "#-----------------------------------------------------------\n",
    "# Importa a LSTM\n",
    "#-----------------------------------------------------------\n",
    "from tensorflow.keras.layers import LSTM, Input, Dropout\n",
    "#-----------------------------------------------------------\n",
    "# Importa Layer weight regularizers\n",
    "# https://keras.io/api/layers/regularizers/\n",
    "#-----------------------------------------------------------\n",
    "from tensorflow.keras import regularizers\n",
    "\n",
    "from tensorflow.keras.optimizers import Adam, RMSprop\n",
    "\n",
    "optimizer = Adam(learning_rate=0.0001)\n",
    "#optimizer = Adam(learning_rate=.01)"
   ]
  },
  {
   "cell_type": "code",
   "execution_count": 8,
   "id": "77293ce4-58d6-4d5f-b70d-0a8e24ec5fa2",
   "metadata": {
    "executionInfo": {
     "elapsed": 48,
     "status": "ok",
     "timestamp": 1663121624532,
     "user": {
      "displayName": "Larissa Benevides Vieira",
      "userId": "07170501787859993395"
     },
     "user_tz": 180
    },
    "id": "77293ce4-58d6-4d5f-b70d-0a8e24ec5fa2"
   },
   "outputs": [],
   "source": [
    "import random\n",
    "\n",
    "def set_seeds(seed=100):\n",
    "    random.seed(seed)\n",
    "    np.random.seed(seed)\n",
    "    tf.random.set_seed(100)"
   ]
  },
  {
   "cell_type": "code",
   "execution_count": 9,
   "id": "d4aad7af-ac5b-45ca-b2cf-e509af2139f3",
   "metadata": {
    "colab": {
     "base_uri": "https://localhost:8080/"
    },
    "executionInfo": {
     "elapsed": 48,
     "status": "ok",
     "timestamp": 1663121624533,
     "user": {
      "displayName": "Larissa Benevides Vieira",
      "userId": "07170501787859993395"
     },
     "user_tz": 180
    },
    "id": "d4aad7af-ac5b-45ca-b2cf-e509af2139f3",
    "outputId": "ae1c9501-be37-4141-de2d-50469770e24c"
   },
   "outputs": [
    {
     "name": "stdout",
     "output_type": "stream",
     "text": [
      "Model: \"sequential\"\n",
      "_________________________________________________________________\n",
      " Layer (type)                Output Shape              Param #   \n",
      "=================================================================\n",
      " dense (Dense)               (None, 64)                384       \n",
      "                                                                 \n",
      " dense_1 (Dense)             (None, 64)                4160      \n",
      "                                                                 \n",
      " dense_2 (Dense)             (None, 64)                4160      \n",
      "                                                                 \n",
      " dense_3 (Dense)             (None, 1)                 65        \n",
      "                                                                 \n",
      "=================================================================\n",
      "Total params: 8,769\n",
      "Trainable params: 8,769\n",
      "Non-trainable params: 0\n",
      "_________________________________________________________________\n"
     ]
    }
   ],
   "source": [
    "set_seeds()\n",
    "\n",
    "#-----------------------------------------------------------\n",
    "# Um modelo Sequencial é instanciado.\n",
    "#-----------------------------------------------------------\n",
    "model=Sequential()\n",
    "\n",
    "#-----------------------------------------------------------\n",
    "# As camadas ocultas e a camada de saída são definidas.\n",
    "#-----------------------------------------------------------\n",
    "# Se cada amostra de entrada tiver 4 passos de tempo, onde cada passo de tempo \n",
    "# consiste em 1 valor de recurso, então a forma de entrada seria (4, 1).\n",
    "# https://stackoverflow.com/questions/61153831/how-to-properly-set-the-input-shape-of-lstm-layers\n",
    "# input_shape = Deve ser 3 dimensôes, batch_size, timestep, the number of units in one input sequence\n",
    "model.add(Dense(64, activation='relu',input_shape=(lags,)))\n",
    "model.add(Dense(64, activation='relu'))\n",
    "model.add(Dense(64, activation='relu'))\n",
    "model.add(Dense(1, activation='sigmoid'))\n",
    "\n",
    "#-----------------------------------------------------------\n",
    "# Compila o objeto de modelo Sequencial para classificação.\n",
    "#-----------------------------------------------------------\n",
    "# https://keras.io/api/losses/probabilistic_losses/#binary_crossentropy-function\n",
    "# https://keras.io/api/losses/\n",
    "model.compile(optimizer=optimizer,\n",
    " loss='binary_crossentropy',\n",
    "metrics=['accuracy'])\n",
    "# https://keras.io/api/metrics/\n",
    "model.summary()\n"
   ]
  },
  {
   "cell_type": "code",
   "execution_count": 10,
   "id": "e6557a23-27e6-4500-8475-2c36e26d426e",
   "metadata": {
    "executionInfo": {
     "elapsed": 38,
     "status": "ok",
     "timestamp": 1663121624534,
     "user": {
      "displayName": "Larissa Benevides Vieira",
      "userId": "07170501787859993395"
     },
     "user_tz": 180
    },
    "id": "e6557a23-27e6-4500-8475-2c36e26d426e"
   },
   "outputs": [],
   "source": [
    "#-----------------------------------------------------------\n",
    "# Define a data limite entre os dados de treinamento e teste.\n",
    "#-----------------------------------------------------------\n",
    "cutoff = 2740\n",
    "\n",
    "#-----------------------------------------------------------\n",
    "# Define os conjuntos de dados de treinamento.\n",
    "#-----------------------------------------------------------\n",
    "training_data = data[data.index < cutoff].copy()\n",
    "\n",
    "#-----------------------------------------------------------\n",
    "# Normaliza os dados de recursos por normalização gaussiana.\n",
    "#-----------------------------------------------------------\n",
    "mu, std = training_data.mean(), training_data.std()\n",
    "training_data_ = (training_data - mu) / std\n",
    "\n",
    "#-----------------------------------------------------------\n",
    "# Define os conjuntos de dados de teste.\n",
    "#-----------------------------------------------------------\n",
    "test_data = data[data.index >= cutoff].copy()\n",
    "\n",
    "\n",
    "#-----------------------------------------------------------\n",
    "# Normaliza os dados de recursos por normalização gaussiana.\n",
    "#-----------------------------------------------------------\n",
    "test_data_ = (test_data - mu) / std \n",
    "\n",
    "#display(training_data)\n",
    "#display(test_data)"
   ]
  },
  {
   "cell_type": "code",
   "execution_count": 11,
   "id": "613bc31b-b0c9-49a3-842f-4b19243b5769",
   "metadata": {
    "colab": {
     "base_uri": "https://localhost:8080/",
     "height": 423
    },
    "executionInfo": {
     "elapsed": 37,
     "status": "ok",
     "timestamp": 1663121624534,
     "user": {
      "displayName": "Larissa Benevides Vieira",
      "userId": "07170501787859993395"
     },
     "user_tz": 180
    },
    "id": "613bc31b-b0c9-49a3-842f-4b19243b5769",
    "outputId": "667e1f57-95a9-483c-da3f-0fd419833706"
   },
   "outputs": [
    {
     "data": {
      "text/html": [
       "<div>\n",
       "<style scoped>\n",
       "    .dataframe tbody tr th:only-of-type {\n",
       "        vertical-align: middle;\n",
       "    }\n",
       "\n",
       "    .dataframe tbody tr th {\n",
       "        vertical-align: top;\n",
       "    }\n",
       "\n",
       "    .dataframe thead th {\n",
       "        text-align: right;\n",
       "    }\n",
       "</style>\n",
       "<table border=\"1\" class=\"dataframe\">\n",
       "  <thead>\n",
       "    <tr style=\"text-align: right;\">\n",
       "      <th></th>\n",
       "      <th>lag_1</th>\n",
       "      <th>lag_2</th>\n",
       "      <th>lag_3</th>\n",
       "      <th>lag_4</th>\n",
       "      <th>lag_5</th>\n",
       "    </tr>\n",
       "  </thead>\n",
       "  <tbody>\n",
       "    <tr>\n",
       "      <th>6</th>\n",
       "      <td>-0.924330</td>\n",
       "      <td>-0.610062</td>\n",
       "      <td>-0.121586</td>\n",
       "      <td>-0.202912</td>\n",
       "      <td>-0.606677</td>\n",
       "    </tr>\n",
       "    <tr>\n",
       "      <th>7</th>\n",
       "      <td>-0.402329</td>\n",
       "      <td>-0.923989</td>\n",
       "      <td>-0.610411</td>\n",
       "      <td>-0.121861</td>\n",
       "      <td>-0.202379</td>\n",
       "    </tr>\n",
       "    <tr>\n",
       "      <th>8</th>\n",
       "      <td>-0.601476</td>\n",
       "      <td>-0.402020</td>\n",
       "      <td>-0.924379</td>\n",
       "      <td>-0.610757</td>\n",
       "      <td>-0.121322</td>\n",
       "    </tr>\n",
       "    <tr>\n",
       "      <th>9</th>\n",
       "      <td>0.552820</td>\n",
       "      <td>-0.601155</td>\n",
       "      <td>-0.402342</td>\n",
       "      <td>-0.924770</td>\n",
       "      <td>-0.610256</td>\n",
       "    </tr>\n",
       "    <tr>\n",
       "      <th>10</th>\n",
       "      <td>0.255274</td>\n",
       "      <td>0.553068</td>\n",
       "      <td>-0.601503</td>\n",
       "      <td>-0.402658</td>\n",
       "      <td>-0.924294</td>\n",
       "    </tr>\n",
       "    <tr>\n",
       "      <th>...</th>\n",
       "      <td>...</td>\n",
       "      <td>...</td>\n",
       "      <td>...</td>\n",
       "      <td>...</td>\n",
       "      <td>...</td>\n",
       "    </tr>\n",
       "    <tr>\n",
       "      <th>2735</th>\n",
       "      <td>0.500890</td>\n",
       "      <td>-3.422880</td>\n",
       "      <td>0.769355</td>\n",
       "      <td>-0.508277</td>\n",
       "      <td>0.047930</td>\n",
       "    </tr>\n",
       "    <tr>\n",
       "      <th>2736</th>\n",
       "      <td>0.892425</td>\n",
       "      <td>0.501140</td>\n",
       "      <td>-3.423599</td>\n",
       "      <td>0.769207</td>\n",
       "      <td>-0.507768</td>\n",
       "    </tr>\n",
       "    <tr>\n",
       "      <th>2737</th>\n",
       "      <td>-0.908163</td>\n",
       "      <td>0.892651</td>\n",
       "      <td>0.500937</td>\n",
       "      <td>-3.424348</td>\n",
       "      <td>0.769816</td>\n",
       "    </tr>\n",
       "    <tr>\n",
       "      <th>2738</th>\n",
       "      <td>-0.856745</td>\n",
       "      <td>-0.907823</td>\n",
       "      <td>0.892500</td>\n",
       "      <td>0.500751</td>\n",
       "      <td>-3.424068</td>\n",
       "    </tr>\n",
       "    <tr>\n",
       "      <th>2739</th>\n",
       "      <td>0.162284</td>\n",
       "      <td>-0.856408</td>\n",
       "      <td>-0.908212</td>\n",
       "      <td>0.892370</td>\n",
       "      <td>0.501339</td>\n",
       "    </tr>\n",
       "  </tbody>\n",
       "</table>\n",
       "<p>2734 rows × 5 columns</p>\n",
       "</div>"
      ],
      "text/plain": [
       "         lag_1     lag_2     lag_3     lag_4     lag_5\n",
       "6    -0.924330 -0.610062 -0.121586 -0.202912 -0.606677\n",
       "7    -0.402329 -0.923989 -0.610411 -0.121861 -0.202379\n",
       "8    -0.601476 -0.402020 -0.924379 -0.610757 -0.121322\n",
       "9     0.552820 -0.601155 -0.402342 -0.924770 -0.610256\n",
       "10    0.255274  0.553068 -0.601503 -0.402658 -0.924294\n",
       "...        ...       ...       ...       ...       ...\n",
       "2735  0.500890 -3.422880  0.769355 -0.508277  0.047930\n",
       "2736  0.892425  0.501140 -3.423599  0.769207 -0.507768\n",
       "2737 -0.908163  0.892651  0.500937 -3.424348  0.769816\n",
       "2738 -0.856745 -0.907823  0.892500  0.500751 -3.424068\n",
       "2739  0.162284 -0.856408 -0.908212  0.892370  0.501339\n",
       "\n",
       "[2734 rows x 5 columns]"
      ]
     },
     "execution_count": 11,
     "metadata": {},
     "output_type": "execute_result"
    }
   ],
   "source": [
    "training_data_[cols]\n",
    "# training_data[cols]"
   ]
  },
  {
   "cell_type": "code",
   "execution_count": 12,
   "id": "1ebd3e75-efe5-46ad-b0aa-00d20640879b",
   "metadata": {
    "colab": {
     "base_uri": "https://localhost:8080/"
    },
    "executionInfo": {
     "elapsed": 6643,
     "status": "ok",
     "timestamp": 1663121631141,
     "user": {
      "displayName": "Larissa Benevides Vieira",
      "userId": "07170501787859993395"
     },
     "user_tz": 180
    },
    "id": "1ebd3e75-efe5-46ad-b0aa-00d20640879b",
    "outputId": "ffda4dd4-2de0-48a4-d908-c90be5bb1f37"
   },
   "outputs": [
    {
     "name": "stdout",
     "output_type": "stream",
     "text": [
      "CPU times: user 11.6 s, sys: 714 ms, total: 12.3 s\n",
      "Wall time: 8.54 s\n"
     ]
    },
    {
     "data": {
      "text/plain": [
       "<keras.callbacks.History at 0x7efd9bf74ac0>"
      ]
     },
     "execution_count": 12,
     "metadata": {},
     "output_type": "execute_result"
    }
   ],
   "source": [
    "%%time\n",
    "#-----------------------------------------------------------\n",
    "# Ajusta o modelo ao conjunto de dados de treinamento.\n",
    "#-----------------------------------------------------------\n",
    "# model.fit(training_data[cols], # Lags\n",
    "#    training_data['direction'], # 0 e 1\n",
    "#    epochs=250, verbose=False, batch_size=100,\n",
    "#    validation_split=0.5, shuffle=False)\n",
    "\n",
    "model.fit(training_data_[cols], # Lags\n",
    "    training_data['direction'], # 0 e 1\n",
    "    epochs=50, verbose=False,\n",
    "    validation_split=0.2, shuffle=False)"
   ]
  },
  {
   "cell_type": "code",
   "execution_count": 13,
   "id": "092822a3-c34c-4d1b-93cc-a9f869e98331",
   "metadata": {
    "colab": {
     "base_uri": "https://localhost:8080/",
     "height": 206
    },
    "executionInfo": {
     "elapsed": 42,
     "status": "ok",
     "timestamp": 1663121631142,
     "user": {
      "displayName": "Larissa Benevides Vieira",
      "userId": "07170501787859993395"
     },
     "user_tz": 180
    },
    "id": "092822a3-c34c-4d1b-93cc-a9f869e98331",
    "outputId": "5abdd09d-b463-4019-e10b-dc2a19490582"
   },
   "outputs": [
    {
     "data": {
      "text/html": [
       "<div>\n",
       "<style scoped>\n",
       "    .dataframe tbody tr th:only-of-type {\n",
       "        vertical-align: middle;\n",
       "    }\n",
       "\n",
       "    .dataframe tbody tr th {\n",
       "        vertical-align: top;\n",
       "    }\n",
       "\n",
       "    .dataframe thead th {\n",
       "        text-align: right;\n",
       "    }\n",
       "</style>\n",
       "<table border=\"1\" class=\"dataframe\">\n",
       "  <thead>\n",
       "    <tr style=\"text-align: right;\">\n",
       "      <th></th>\n",
       "      <th>loss</th>\n",
       "      <th>accuracy</th>\n",
       "      <th>val_loss</th>\n",
       "      <th>val_accuracy</th>\n",
       "    </tr>\n",
       "  </thead>\n",
       "  <tbody>\n",
       "    <tr>\n",
       "      <th>0</th>\n",
       "      <td>0.693938</td>\n",
       "      <td>0.502058</td>\n",
       "      <td>0.692816</td>\n",
       "      <td>0.504570</td>\n",
       "    </tr>\n",
       "    <tr>\n",
       "      <th>1</th>\n",
       "      <td>0.692474</td>\n",
       "      <td>0.518061</td>\n",
       "      <td>0.692089</td>\n",
       "      <td>0.526508</td>\n",
       "    </tr>\n",
       "    <tr>\n",
       "      <th>2</th>\n",
       "      <td>0.691529</td>\n",
       "      <td>0.523548</td>\n",
       "      <td>0.691753</td>\n",
       "      <td>0.517367</td>\n",
       "    </tr>\n",
       "    <tr>\n",
       "      <th>3</th>\n",
       "      <td>0.690697</td>\n",
       "      <td>0.529950</td>\n",
       "      <td>0.691566</td>\n",
       "      <td>0.519196</td>\n",
       "    </tr>\n",
       "    <tr>\n",
       "      <th>4</th>\n",
       "      <td>0.689941</td>\n",
       "      <td>0.540009</td>\n",
       "      <td>0.691480</td>\n",
       "      <td>0.506399</td>\n",
       "    </tr>\n",
       "  </tbody>\n",
       "</table>\n",
       "</div>"
      ],
      "text/plain": [
       "       loss  accuracy  val_loss  val_accuracy\n",
       "0  0.693938  0.502058  0.692816      0.504570\n",
       "1  0.692474  0.518061  0.692089      0.526508\n",
       "2  0.691529  0.523548  0.691753      0.517367\n",
       "3  0.690697  0.529950  0.691566      0.519196\n",
       "4  0.689941  0.540009  0.691480      0.506399"
      ]
     },
     "execution_count": 13,
     "metadata": {},
     "output_type": "execute_result"
    }
   ],
   "source": [
    "res = pd.DataFrame(model.history.history)\n",
    "res.head()"
   ]
  },
  {
   "cell_type": "code",
   "execution_count": 14,
   "id": "b06d1d5e-ff2e-42d5-af2b-f5610ba22f7e",
   "metadata": {
    "colab": {
     "base_uri": "https://localhost:8080/",
     "height": 374
    },
    "executionInfo": {
     "elapsed": 39,
     "status": "ok",
     "timestamp": 1663121631143,
     "user": {
      "displayName": "Larissa Benevides Vieira",
      "userId": "07170501787859993395"
     },
     "user_tz": 180
    },
    "id": "b06d1d5e-ff2e-42d5-af2b-f5610ba22f7e",
    "outputId": "7cbed8ca-556b-4659-e7eb-7e1480eab76f"
   },
   "outputs": [
    {
     "data": {
      "image/png": "[encoded data removed]",
      "text/plain": [
       "<Figure size 720x432 with 1 Axes>"
      ]
     },
     "metadata": {
      "needs_background": "light"
     },
     "output_type": "display_data"
    }
   ],
   "source": [
    "#-----------------------------------------------------------\n",
    "# Precisão do classificador LSTM nos dados de treinamento e validação por etapa de treinamento\n",
    "#-----------------------------------------------------------\n",
    "\n",
    "res[['accuracy', 'val_accuracy']].plot(figsize=(10, 6), style='--');"
   ]
  },
  {
   "cell_type": "code",
   "execution_count": 15,
   "id": "a35ff528-efa7-4ebd-b86b-7cdb856c3b22",
   "metadata": {
    "colab": {
     "base_uri": "https://localhost:8080/"
    },
    "executionInfo": {
     "elapsed": 834,
     "status": "ok",
     "timestamp": 1663121631944,
     "user": {
      "displayName": "Larissa Benevides Vieira",
      "userId": "07170501787859993395"
     },
     "user_tz": 180
    },
    "id": "a35ff528-efa7-4ebd-b86b-7cdb856c3b22",
    "outputId": "51fc840b-cf95-489d-d6e0-df55715629d9"
   },
   "outputs": [
    {
     "name": "stdout",
     "output_type": "stream",
     "text": [
      "86/86 [==============================] - 0s 1ms/step - loss: 0.6734 - accuracy: 0.5823\n"
     ]
    },
    {
     "data": {
      "text/plain": [
       "[0.673419177532196, 0.5822970271110535]"
      ]
     },
     "execution_count": 15,
     "metadata": {},
     "output_type": "execute_result"
    }
   ],
   "source": [
    "model.evaluate(training_data_[cols], training_data['direction'])"
   ]
  },
  {
   "cell_type": "code",
   "execution_count": 16,
   "id": "6b3b8d1a-e20b-41ca-8a70-17e79556c5a6",
   "metadata": {
    "colab": {
     "base_uri": "https://localhost:8080/",
     "height": 374
    },
    "executionInfo": {
     "elapsed": 11,
     "status": "ok",
     "timestamp": 1663121631945,
     "user": {
      "displayName": "Larissa Benevides Vieira",
      "userId": "07170501787859993395"
     },
     "user_tz": 180
    },
    "id": "6b3b8d1a-e20b-41ca-8a70-17e79556c5a6",
    "outputId": "e9440ed3-53a9-4829-c13c-4a491452b001"
   },
   "outputs": [
    {
     "data": {
      "image/png": "[encoded data removed]",
      "text/plain": [
       "<Figure size 720x432 with 1 Axes>"
      ]
     },
     "metadata": {
      "needs_background": "light"
     },
     "output_type": "display_data"
    }
   ],
   "source": [
    "res[['loss', 'val_loss']].plot(figsize=(10, 6), style='--');"
   ]
  }
 ],
 "metadata": {
  "colab": {
   "collapsed_sections": [],
   "provenance": []
  },
  "kernelspec": {
   "display_name": "Python 3",
   "language": "python",
   "name": "python3"
  },
  "language_info": {
   "codemirror_mode": {
    "name": "ipython",
    "version": 3
   },
   "file_extension": ".py",
   "mimetype": "text/x-python",
   "name": "python",
   "nbconvert_exporter": "python",
   "pygments_lexer": "ipython3",
   "version": "3.8.10"
  }
 },
 "nbformat": 4,
 "nbformat_minor": 5
}
