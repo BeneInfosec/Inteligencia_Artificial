{
 "cells": [
  {
   "cell_type": "code",
   "execution_count": 1,
   "metadata": {
    "colab": {
     "base_uri": "https://localhost:8080/",
     "height": 206
    },
    "executionInfo": {
     "elapsed": 3038,
     "status": "ok",
     "timestamp": 1665089341654,
     "user": {
      "displayName": "Larissa Benevides Vieira",
      "userId": "07170501787859993395"
     },
     "user_tz": 180
    },
    "id": "lQ1l2Mw2mque",
    "outputId": "77f26970-176c-4081-eaf1-17fb378b6ef9"
   },
   "outputs": [
    {
     "data": {
      "text/html": [
       "<div>\n",
       "<style scoped>\n",
       "    .dataframe tbody tr th:only-of-type {\n",
       "        vertical-align: middle;\n",
       "    }\n",
       "\n",
       "    .dataframe tbody tr th {\n",
       "        vertical-align: top;\n",
       "    }\n",
       "\n",
       "    .dataframe thead th {\n",
       "        text-align: right;\n",
       "    }\n",
       "</style>\n",
       "<table border=\"1\" class=\"dataframe\">\n",
       "  <thead>\n",
       "    <tr style=\"text-align: right;\">\n",
       "      <th></th>\n",
       "      <th>time</th>\n",
       "      <th>open</th>\n",
       "      <th>high</th>\n",
       "      <th>low</th>\n",
       "      <th>close</th>\n",
       "      <th>Volume</th>\n",
       "      <th>Volume MA</th>\n",
       "    </tr>\n",
       "  </thead>\n",
       "  <tbody>\n",
       "    <tr>\n",
       "      <th>0</th>\n",
       "      <td>2021-01-04T10:00:00-03:00</td>\n",
       "      <td>21.814317</td>\n",
       "      <td>21.814317</td>\n",
       "      <td>21.505287</td>\n",
       "      <td>21.521135</td>\n",
       "      <td>1880012</td>\n",
       "      <td>1384668.55</td>\n",
       "    </tr>\n",
       "    <tr>\n",
       "      <th>1</th>\n",
       "      <td>2021-01-04T10:30:00-03:00</td>\n",
       "      <td>21.529059</td>\n",
       "      <td>21.576602</td>\n",
       "      <td>21.441896</td>\n",
       "      <td>21.497363</td>\n",
       "      <td>1532703</td>\n",
       "      <td>1368010.00</td>\n",
       "    </tr>\n",
       "    <tr>\n",
       "      <th>2</th>\n",
       "      <td>2021-01-04T11:00:00-03:00</td>\n",
       "      <td>21.505287</td>\n",
       "      <td>21.552830</td>\n",
       "      <td>21.473592</td>\n",
       "      <td>21.481516</td>\n",
       "      <td>877715</td>\n",
       "      <td>1345874.15</td>\n",
       "    </tr>\n",
       "    <tr>\n",
       "      <th>3</th>\n",
       "      <td>2021-01-04T11:30:00-03:00</td>\n",
       "      <td>21.497363</td>\n",
       "      <td>21.521135</td>\n",
       "      <td>21.132867</td>\n",
       "      <td>21.188334</td>\n",
       "      <td>5465393</td>\n",
       "      <td>1548509.50</td>\n",
       "    </tr>\n",
       "    <tr>\n",
       "      <th>4</th>\n",
       "      <td>2021-01-04T12:00:00-03:00</td>\n",
       "      <td>21.188334</td>\n",
       "      <td>21.227953</td>\n",
       "      <td>21.085324</td>\n",
       "      <td>21.124943</td>\n",
       "      <td>4150374</td>\n",
       "      <td>1694177.35</td>\n",
       "    </tr>\n",
       "  </tbody>\n",
       "</table>\n",
       "</div>"
      ],
      "text/plain": [
       "                        time       open       high        low      close  \\\n",
       "0  2021-01-04T10:00:00-03:00  21.814317  21.814317  21.505287  21.521135   \n",
       "1  2021-01-04T10:30:00-03:00  21.529059  21.576602  21.441896  21.497363   \n",
       "2  2021-01-04T11:00:00-03:00  21.505287  21.552830  21.473592  21.481516   \n",
       "3  2021-01-04T11:30:00-03:00  21.497363  21.521135  21.132867  21.188334   \n",
       "4  2021-01-04T12:00:00-03:00  21.188334  21.227953  21.085324  21.124943   \n",
       "\n",
       "    Volume   Volume MA  \n",
       "0  1880012  1384668.55  \n",
       "1  1532703  1368010.00  \n",
       "2   877715  1345874.15  \n",
       "3  5465393  1548509.50  \n",
       "4  4150374  1694177.35  "
      ]
     },
     "execution_count": 1,
     "metadata": {},
     "output_type": "execute_result"
    }
   ],
   "source": [
    "import pandas as pd\n",
    "import tensorflow as tf\n",
    "import numpy as np\n",
    "\n",
    "#pd.set_option('display.max_rows', None)\n",
    "pd.reset_option(\"display.min_rows\")\n",
    "#-----------------------------------------------------------\n",
    "#Lê os dados do arquivo CSV.\n",
    "#-----------------------------------------------------------\n",
    "data = pd.read_csv('Inteligencia_Artificial/Trabalho de Conclusão de Curso/Base de Dados/2021/BBDC4_30m_2021.csv') \n",
    "data.head()\n",
    "#print(df)\n",
    "#df.info()"
   ]
  },
  {
   "cell_type": "code",
   "execution_count": 2,
   "metadata": {
    "colab": {
     "base_uri": "https://localhost:8080/"
    },
    "executionInfo": {
     "elapsed": 43,
     "status": "ok",
     "timestamp": 1665089341657,
     "user": {
      "displayName": "Larissa Benevides Vieira",
      "userId": "07170501787859993395"
     },
     "user_tz": 180
    },
    "id": "SgxZ_qLPvfCC",
    "outputId": "0d6a73ac-6749-4e39-e713-0ffa2c687bdf"
   },
   "outputs": [
    {
     "name": "stdout",
     "output_type": "stream",
     "text": [
      "<class 'pandas.core.frame.DataFrame'>\n",
      "Index: 3938 entries, 2021-01-04T10:00:00-03:00 to 2021-12-30T17:30:00-03:00\n",
      "Data columns (total 6 columns):\n",
      " #   Column     Non-Null Count  Dtype  \n",
      "---  ------     --------------  -----  \n",
      " 0   open       3938 non-null   float64\n",
      " 1   high       3938 non-null   float64\n",
      " 2   low        3938 non-null   float64\n",
      " 3   close      3938 non-null   float64\n",
      " 4   Volume     3938 non-null   int64  \n",
      " 5   Volume MA  3938 non-null   float64\n",
      "dtypes: float64(5), int64(1)\n",
      "memory usage: 215.4+ KB\n"
     ]
    }
   ],
   "source": [
    "data = data.set_index('time') #Mudando o index para o date\n",
    "#print(df.index)\n",
    "\n",
    "#-----------------------------------------------------------\n",
    "#Sabe se mudou o index, porque com o df.info, ele não aparece como um dos parametros\n",
    "#-----------------------------------------------------------\n",
    "data.info()"
   ]
  },
  {
   "cell_type": "code",
   "execution_count": 3,
   "metadata": {
    "colab": {
     "base_uri": "https://localhost:8080/",
     "height": 238
    },
    "executionInfo": {
     "elapsed": 36,
     "status": "ok",
     "timestamp": 1665089341658,
     "user": {
      "displayName": "Larissa Benevides Vieira",
      "userId": "07170501787859993395"
     },
     "user_tz": 180
    },
    "id": "uAsEX_NtnPNw",
    "outputId": "4f6c0efb-65be-42b9-b70d-7841e807132d"
   },
   "outputs": [
    {
     "data": {
      "text/html": [
       "<div>\n",
       "<style scoped>\n",
       "    .dataframe tbody tr th:only-of-type {\n",
       "        vertical-align: middle;\n",
       "    }\n",
       "\n",
       "    .dataframe tbody tr th {\n",
       "        vertical-align: top;\n",
       "    }\n",
       "\n",
       "    .dataframe thead th {\n",
       "        text-align: right;\n",
       "    }\n",
       "</style>\n",
       "<table border=\"1\" class=\"dataframe\">\n",
       "  <thead>\n",
       "    <tr style=\"text-align: right;\">\n",
       "      <th></th>\n",
       "      <th>close</th>\n",
       "    </tr>\n",
       "    <tr>\n",
       "      <th>time</th>\n",
       "      <th></th>\n",
       "    </tr>\n",
       "  </thead>\n",
       "  <tbody>\n",
       "    <tr>\n",
       "      <th>2021-01-04T10:00:00-03:00</th>\n",
       "      <td>21.521135</td>\n",
       "    </tr>\n",
       "    <tr>\n",
       "      <th>2021-01-04T10:30:00-03:00</th>\n",
       "      <td>21.497363</td>\n",
       "    </tr>\n",
       "    <tr>\n",
       "      <th>2021-01-04T11:00:00-03:00</th>\n",
       "      <td>21.481516</td>\n",
       "    </tr>\n",
       "    <tr>\n",
       "      <th>2021-01-04T11:30:00-03:00</th>\n",
       "      <td>21.188334</td>\n",
       "    </tr>\n",
       "    <tr>\n",
       "      <th>2021-01-04T12:00:00-03:00</th>\n",
       "      <td>21.124943</td>\n",
       "    </tr>\n",
       "  </tbody>\n",
       "</table>\n",
       "</div>"
      ],
      "text/plain": [
       "                               close\n",
       "time                                \n",
       "2021-01-04T10:00:00-03:00  21.521135\n",
       "2021-01-04T10:30:00-03:00  21.497363\n",
       "2021-01-04T11:00:00-03:00  21.481516\n",
       "2021-01-04T11:30:00-03:00  21.188334\n",
       "2021-01-04T12:00:00-03:00  21.124943"
      ]
     },
     "execution_count": 3,
     "metadata": {},
     "output_type": "execute_result"
    }
   ],
   "source": [
    "#-----------------------------------------------------------\n",
    "#Escolhe a coluna de série temporal única de interesse.\n",
    "#-----------------------------------------------------------\n",
    "symbol = \"close\"\n",
    "\n",
    "data = pd.DataFrame(data[symbol])\n",
    "data.head()"
   ]
  },
  {
   "cell_type": "code",
   "execution_count": 4,
   "metadata": {
    "colab": {
     "base_uri": "https://localhost:8080/",
     "height": 238
    },
    "executionInfo": {
     "elapsed": 394,
     "status": "ok",
     "timestamp": 1665089342020,
     "user": {
      "displayName": "Larissa Benevides Vieira",
      "userId": "07170501787859993395"
     },
     "user_tz": 180
    },
    "id": "JwkcxBY7nRVn",
    "outputId": "8e4cd553-d5b5-4c70-e64a-05482a0211ab"
   },
   "outputs": [
    {
     "data": {
      "text/html": [
       "<div>\n",
       "<style scoped>\n",
       "    .dataframe tbody tr th:only-of-type {\n",
       "        vertical-align: middle;\n",
       "    }\n",
       "\n",
       "    .dataframe tbody tr th {\n",
       "        vertical-align: top;\n",
       "    }\n",
       "\n",
       "    .dataframe thead th {\n",
       "        text-align: right;\n",
       "    }\n",
       "</style>\n",
       "<table border=\"1\" class=\"dataframe\">\n",
       "  <thead>\n",
       "    <tr style=\"text-align: right;\">\n",
       "      <th></th>\n",
       "      <th>price</th>\n",
       "    </tr>\n",
       "    <tr>\n",
       "      <th>time</th>\n",
       "      <th></th>\n",
       "    </tr>\n",
       "  </thead>\n",
       "  <tbody>\n",
       "    <tr>\n",
       "      <th>2021-01-04T10:00:00-03:00</th>\n",
       "      <td>21.521135</td>\n",
       "    </tr>\n",
       "    <tr>\n",
       "      <th>2021-01-04T10:30:00-03:00</th>\n",
       "      <td>21.497363</td>\n",
       "    </tr>\n",
       "    <tr>\n",
       "      <th>2021-01-04T11:00:00-03:00</th>\n",
       "      <td>21.481516</td>\n",
       "    </tr>\n",
       "    <tr>\n",
       "      <th>2021-01-04T11:30:00-03:00</th>\n",
       "      <td>21.188334</td>\n",
       "    </tr>\n",
       "    <tr>\n",
       "      <th>2021-01-04T12:00:00-03:00</th>\n",
       "      <td>21.124943</td>\n",
       "    </tr>\n",
       "  </tbody>\n",
       "</table>\n",
       "</div>"
      ],
      "text/plain": [
       "                               price\n",
       "time                                \n",
       "2021-01-04T10:00:00-03:00  21.521135\n",
       "2021-01-04T10:30:00-03:00  21.497363\n",
       "2021-01-04T11:00:00-03:00  21.481516\n",
       "2021-01-04T11:30:00-03:00  21.188334\n",
       "2021-01-04T12:00:00-03:00  21.124943"
      ]
     },
     "execution_count": 4,
     "metadata": {},
     "output_type": "execute_result"
    }
   ],
   "source": [
    "#-----------------------------------------------------------\n",
    "#Renomeia a única coluna para price\n",
    "#-----------------------------------------------------------\n",
    "\n",
    "data.rename(columns={symbol: 'price'}, inplace=True)\n",
    "\n",
    "data.head()"
   ]
  },
  {
   "cell_type": "code",
   "execution_count": 5,
   "metadata": {
    "colab": {
     "base_uri": "https://localhost:8080/",
     "height": 455
    },
    "executionInfo": {
     "elapsed": 70,
     "status": "ok",
     "timestamp": 1665089342022,
     "user": {
      "displayName": "Larissa Benevides Vieira",
      "userId": "07170501787859993395"
     },
     "user_tz": 180
    },
    "id": "ni2NoncknTd4",
    "outputId": "d1129087-7920-450d-c300-d129c9d6ff92"
   },
   "outputs": [
    {
     "data": {
      "text/html": [
       "<div>\n",
       "<style scoped>\n",
       "    .dataframe tbody tr th:only-of-type {\n",
       "        vertical-align: middle;\n",
       "    }\n",
       "\n",
       "    .dataframe tbody tr th {\n",
       "        vertical-align: top;\n",
       "    }\n",
       "\n",
       "    .dataframe thead th {\n",
       "        text-align: right;\n",
       "    }\n",
       "</style>\n",
       "<table border=\"1\" class=\"dataframe\">\n",
       "  <thead>\n",
       "    <tr style=\"text-align: right;\">\n",
       "      <th></th>\n",
       "      <th>price</th>\n",
       "      <th>return</th>\n",
       "      <th>direction</th>\n",
       "    </tr>\n",
       "    <tr>\n",
       "      <th>time</th>\n",
       "      <th></th>\n",
       "      <th></th>\n",
       "      <th></th>\n",
       "    </tr>\n",
       "  </thead>\n",
       "  <tbody>\n",
       "    <tr>\n",
       "      <th>2021-01-04T10:00:00-03:00</th>\n",
       "      <td>21.521135</td>\n",
       "      <td>NaN</td>\n",
       "      <td>0</td>\n",
       "    </tr>\n",
       "    <tr>\n",
       "      <th>2021-01-04T10:30:00-03:00</th>\n",
       "      <td>21.497363</td>\n",
       "      <td>-0.001105</td>\n",
       "      <td>0</td>\n",
       "    </tr>\n",
       "    <tr>\n",
       "      <th>2021-01-04T11:00:00-03:00</th>\n",
       "      <td>21.481516</td>\n",
       "      <td>-0.000737</td>\n",
       "      <td>0</td>\n",
       "    </tr>\n",
       "    <tr>\n",
       "      <th>2021-01-04T11:30:00-03:00</th>\n",
       "      <td>21.188334</td>\n",
       "      <td>-0.013742</td>\n",
       "      <td>0</td>\n",
       "    </tr>\n",
       "    <tr>\n",
       "      <th>2021-01-04T12:00:00-03:00</th>\n",
       "      <td>21.124943</td>\n",
       "      <td>-0.002996</td>\n",
       "      <td>0</td>\n",
       "    </tr>\n",
       "    <tr>\n",
       "      <th>...</th>\n",
       "      <td>...</td>\n",
       "      <td>...</td>\n",
       "      <td>...</td>\n",
       "    </tr>\n",
       "    <tr>\n",
       "      <th>2021-12-30T15:30:00-03:00</th>\n",
       "      <td>17.476119</td>\n",
       "      <td>0.002594</td>\n",
       "      <td>1</td>\n",
       "    </tr>\n",
       "    <tr>\n",
       "      <th>2021-12-30T16:00:00-03:00</th>\n",
       "      <td>17.430844</td>\n",
       "      <td>-0.002594</td>\n",
       "      <td>0</td>\n",
       "    </tr>\n",
       "    <tr>\n",
       "      <th>2021-12-30T16:30:00-03:00</th>\n",
       "      <td>17.430844</td>\n",
       "      <td>0.000000</td>\n",
       "      <td>0</td>\n",
       "    </tr>\n",
       "    <tr>\n",
       "      <th>2021-12-30T17:00:00-03:00</th>\n",
       "      <td>17.412734</td>\n",
       "      <td>-0.001040</td>\n",
       "      <td>0</td>\n",
       "    </tr>\n",
       "    <tr>\n",
       "      <th>2021-12-30T17:30:00-03:00</th>\n",
       "      <td>17.394624</td>\n",
       "      <td>-0.001041</td>\n",
       "      <td>0</td>\n",
       "    </tr>\n",
       "  </tbody>\n",
       "</table>\n",
       "<p>3938 rows × 3 columns</p>\n",
       "</div>"
      ],
      "text/plain": [
       "                               price    return  direction\n",
       "time                                                     \n",
       "2021-01-04T10:00:00-03:00  21.521135       NaN          0\n",
       "2021-01-04T10:30:00-03:00  21.497363 -0.001105          0\n",
       "2021-01-04T11:00:00-03:00  21.481516 -0.000737          0\n",
       "2021-01-04T11:30:00-03:00  21.188334 -0.013742          0\n",
       "2021-01-04T12:00:00-03:00  21.124943 -0.002996          0\n",
       "...                              ...       ...        ...\n",
       "2021-12-30T15:30:00-03:00  17.476119  0.002594          1\n",
       "2021-12-30T16:00:00-03:00  17.430844 -0.002594          0\n",
       "2021-12-30T16:30:00-03:00  17.430844  0.000000          0\n",
       "2021-12-30T17:00:00-03:00  17.412734 -0.001040          0\n",
       "2021-12-30T17:30:00-03:00  17.394624 -0.001041          0\n",
       "\n",
       "[3938 rows x 3 columns]"
      ]
     },
     "metadata": {},
     "output_type": "display_data"
    }
   ],
   "source": [
    "#-----------------------------------------------------------\n",
    "# Calcula o log de retorno e define a direção como uma coluna binária.\n",
    "#-----------------------------------------------------------\n",
    "\n",
    "#Log Retorno\n",
    "data['return'] = np.log(data['price']/data['price'].shift(1))\n",
    "\n",
    "\n",
    "#Coluna binária\n",
    "data['direction'] = np.where(data['return'] > 0, 1, 0)\n",
    "#data.head()\n",
    "\n",
    "display(data)"
   ]
  },
  {
   "cell_type": "code",
   "execution_count": 6,
   "metadata": {
    "colab": {
     "base_uri": "https://localhost:8080/"
    },
    "executionInfo": {
     "elapsed": 67,
     "status": "ok",
     "timestamp": 1665089342024,
     "user": {
      "displayName": "Larissa Benevides Vieira",
      "userId": "07170501787859993395"
     },
     "user_tz": 180
    },
    "id": "sWdPpFFVnVBJ",
    "outputId": "97c7e7c7-7ee2-4a06-da07-14ed0fc67db4"
   },
   "outputs": [
    {
     "data": {
      "text/plain": [
       "time\n",
       "2021-01-04T12:30:00-03:00   -0.001105\n",
       "2021-01-04T13:00:00-03:00   -0.000737\n",
       "2021-01-04T13:30:00-03:00   -0.013742\n",
       "2021-01-04T14:00:00-03:00   -0.002996\n",
       "2021-01-04T14:30:00-03:00   -0.007530\n",
       "                               ...   \n",
       "2021-12-30T15:30:00-03:00    0.002612\n",
       "2021-12-30T16:00:00-03:00   -0.000522\n",
       "2021-12-30T16:30:00-03:00   -0.001567\n",
       "2021-12-30T17:00:00-03:00    0.006253\n",
       "2021-12-30T17:30:00-03:00    0.002594\n",
       "Name: lag_4, Length: 3933, dtype: float64"
      ]
     },
     "execution_count": 6,
     "metadata": {},
     "output_type": "execute_result"
    }
   ],
   "source": [
    "#Para a previsão do mercado de ações, é crucial encontrar dependências de tempo bem definidas\n",
    "lags = 4\n",
    "\n",
    "cols = []\n",
    "#-----------------------------------------------------------\n",
    "# Cria os Lagged Data\n",
    "#-----------------------------------------------------------\n",
    "for lag in range(1, lags + 1):\n",
    "     col = f'lag_{lag}'\n",
    "#-----------------------------------------------------------\n",
    "# Cria novas colunas DataFrame com os retornos de log deslocados pelo respectivo número de atrasos\n",
    "#-----------------------------------------------------------\n",
    "     data[col] = data['return'].shift(lag)\n",
    "     cols.append(col)\n",
    "#-----------------------------------------------------------\n",
    "# Exclui as linhas que contêm valores NaN.\n",
    "#-----------------------------------------------------------\n",
    "data.dropna(inplace=True)\n",
    "data[col]"
   ]
  },
  {
   "cell_type": "code",
   "execution_count": 7,
   "metadata": {
    "colab": {
     "base_uri": "https://localhost:8080/",
     "height": 225
    },
    "executionInfo": {
     "elapsed": 61,
     "status": "ok",
     "timestamp": 1665089342025,
     "user": {
      "displayName": "Larissa Benevides Vieira",
      "userId": "07170501787859993395"
     },
     "user_tz": 180
    },
    "id": "ppTrd0BhnX76",
    "outputId": "7d159c29-1dd6-4093-e6ff-692f8022a3a0"
   },
   "outputs": [
    {
     "data": {
      "text/plain": [
       "Index(['2021-01-04T12:30:00-03:00', '2021-01-04T13:00:00-03:00',\n",
       "       '2021-01-04T13:30:00-03:00', '2021-01-04T14:00:00-03:00',\n",
       "       '2021-01-04T14:30:00-03:00', '2021-01-04T15:00:00-03:00',\n",
       "       '2021-01-04T15:30:00-03:00', '2021-01-04T16:00:00-03:00',\n",
       "       '2021-01-04T16:30:00-03:00', '2021-01-04T17:00:00-03:00',\n",
       "       ...\n",
       "       '2021-12-30T13:00:00-03:00', '2021-12-30T13:30:00-03:00',\n",
       "       '2021-12-30T14:00:00-03:00', '2021-12-30T14:30:00-03:00',\n",
       "       '2021-12-30T15:00:00-03:00', '2021-12-30T15:30:00-03:00',\n",
       "       '2021-12-30T16:00:00-03:00', '2021-12-30T16:30:00-03:00',\n",
       "       '2021-12-30T17:00:00-03:00', '2021-12-30T17:30:00-03:00'],\n",
       "      dtype='object', name='time', length=3933)"
      ]
     },
     "metadata": {},
     "output_type": "display_data"
    }
   ],
   "source": [
    "#-----------------------------------------------------------\n",
    "# Imprime as cinco linhas finais indicando os “padrões” emergentes nas quatro colunas de recursos\n",
    "#-----------------------------------------------------------\n",
    "\n",
    "#data.round(4).tail() \n",
    "display(data.index)"
   ]
  },
  {
   "cell_type": "code",
   "execution_count": 8,
   "metadata": {
    "colab": {
     "base_uri": "https://localhost:8080/",
     "height": 441
    },
    "executionInfo": {
     "elapsed": 59,
     "status": "ok",
     "timestamp": 1665089342027,
     "user": {
      "displayName": "Larissa Benevides Vieira",
      "userId": "07170501787859993395"
     },
     "user_tz": 180
    },
    "id": "cGYOW2zlrLxr",
    "outputId": "945d2b93-c4a7-4121-8403-bfd200cf67a8"
   },
   "outputs": [
    {
     "name": "stdout",
     "output_type": "stream",
     "text": [
      "3146\n"
     ]
    },
    {
     "data": {
      "text/html": [
       "<div>\n",
       "<style scoped>\n",
       "    .dataframe tbody tr th:only-of-type {\n",
       "        vertical-align: middle;\n",
       "    }\n",
       "\n",
       "    .dataframe tbody tr th {\n",
       "        vertical-align: top;\n",
       "    }\n",
       "\n",
       "    .dataframe thead th {\n",
       "        text-align: right;\n",
       "    }\n",
       "</style>\n",
       "<table border=\"1\" class=\"dataframe\">\n",
       "  <thead>\n",
       "    <tr style=\"text-align: right;\">\n",
       "      <th></th>\n",
       "      <th>price</th>\n",
       "      <th>return</th>\n",
       "      <th>direction</th>\n",
       "      <th>lag_1</th>\n",
       "      <th>lag_2</th>\n",
       "      <th>lag_3</th>\n",
       "      <th>lag_4</th>\n",
       "    </tr>\n",
       "  </thead>\n",
       "  <tbody>\n",
       "    <tr>\n",
       "      <th>0</th>\n",
       "      <td>20.966466</td>\n",
       "      <td>-0.007530</td>\n",
       "      <td>0</td>\n",
       "      <td>-0.002996</td>\n",
       "      <td>-0.013742</td>\n",
       "      <td>-0.000737</td>\n",
       "      <td>-0.001105</td>\n",
       "    </tr>\n",
       "    <tr>\n",
       "      <th>1</th>\n",
       "      <td>20.926847</td>\n",
       "      <td>-0.001891</td>\n",
       "      <td>0</td>\n",
       "      <td>-0.007530</td>\n",
       "      <td>-0.002996</td>\n",
       "      <td>-0.013742</td>\n",
       "      <td>-0.000737</td>\n",
       "    </tr>\n",
       "    <tr>\n",
       "      <th>2</th>\n",
       "      <td>20.926847</td>\n",
       "      <td>0.000000</td>\n",
       "      <td>0</td>\n",
       "      <td>-0.001891</td>\n",
       "      <td>-0.007530</td>\n",
       "      <td>-0.002996</td>\n",
       "      <td>-0.013742</td>\n",
       "    </tr>\n",
       "    <tr>\n",
       "      <th>3</th>\n",
       "      <td>20.879304</td>\n",
       "      <td>-0.002274</td>\n",
       "      <td>0</td>\n",
       "      <td>0.000000</td>\n",
       "      <td>-0.001891</td>\n",
       "      <td>-0.007530</td>\n",
       "      <td>-0.002996</td>\n",
       "    </tr>\n",
       "    <tr>\n",
       "      <th>4</th>\n",
       "      <td>21.006085</td>\n",
       "      <td>0.006054</td>\n",
       "      <td>1</td>\n",
       "      <td>-0.002274</td>\n",
       "      <td>0.000000</td>\n",
       "      <td>-0.001891</td>\n",
       "      <td>-0.007530</td>\n",
       "    </tr>\n",
       "    <tr>\n",
       "      <th>...</th>\n",
       "      <td>...</td>\n",
       "      <td>...</td>\n",
       "      <td>...</td>\n",
       "      <td>...</td>\n",
       "      <td>...</td>\n",
       "      <td>...</td>\n",
       "      <td>...</td>\n",
       "    </tr>\n",
       "    <tr>\n",
       "      <th>3928</th>\n",
       "      <td>17.476119</td>\n",
       "      <td>0.002594</td>\n",
       "      <td>1</td>\n",
       "      <td>0.006253</td>\n",
       "      <td>-0.001567</td>\n",
       "      <td>-0.000522</td>\n",
       "      <td>0.002612</td>\n",
       "    </tr>\n",
       "    <tr>\n",
       "      <th>3929</th>\n",
       "      <td>17.430844</td>\n",
       "      <td>-0.002594</td>\n",
       "      <td>0</td>\n",
       "      <td>0.002594</td>\n",
       "      <td>0.006253</td>\n",
       "      <td>-0.001567</td>\n",
       "      <td>-0.000522</td>\n",
       "    </tr>\n",
       "    <tr>\n",
       "      <th>3930</th>\n",
       "      <td>17.430844</td>\n",
       "      <td>0.000000</td>\n",
       "      <td>0</td>\n",
       "      <td>-0.002594</td>\n",
       "      <td>0.002594</td>\n",
       "      <td>0.006253</td>\n",
       "      <td>-0.001567</td>\n",
       "    </tr>\n",
       "    <tr>\n",
       "      <th>3931</th>\n",
       "      <td>17.412734</td>\n",
       "      <td>-0.001040</td>\n",
       "      <td>0</td>\n",
       "      <td>0.000000</td>\n",
       "      <td>-0.002594</td>\n",
       "      <td>0.002594</td>\n",
       "      <td>0.006253</td>\n",
       "    </tr>\n",
       "    <tr>\n",
       "      <th>3932</th>\n",
       "      <td>17.394624</td>\n",
       "      <td>-0.001041</td>\n",
       "      <td>0</td>\n",
       "      <td>-0.001040</td>\n",
       "      <td>0.000000</td>\n",
       "      <td>-0.002594</td>\n",
       "      <td>0.002594</td>\n",
       "    </tr>\n",
       "  </tbody>\n",
       "</table>\n",
       "<p>3933 rows × 7 columns</p>\n",
       "</div>"
      ],
      "text/plain": [
       "          price    return  direction     lag_1     lag_2     lag_3     lag_4\n",
       "0     20.966466 -0.007530          0 -0.002996 -0.013742 -0.000737 -0.001105\n",
       "1     20.926847 -0.001891          0 -0.007530 -0.002996 -0.013742 -0.000737\n",
       "2     20.926847  0.000000          0 -0.001891 -0.007530 -0.002996 -0.013742\n",
       "3     20.879304 -0.002274          0  0.000000 -0.001891 -0.007530 -0.002996\n",
       "4     21.006085  0.006054          1 -0.002274  0.000000 -0.001891 -0.007530\n",
       "...         ...       ...        ...       ...       ...       ...       ...\n",
       "3928  17.476119  0.002594          1  0.006253 -0.001567 -0.000522  0.002612\n",
       "3929  17.430844 -0.002594          0  0.002594  0.006253 -0.001567 -0.000522\n",
       "3930  17.430844  0.000000          0 -0.002594  0.002594  0.006253 -0.001567\n",
       "3931  17.412734 -0.001040          0  0.000000 -0.002594  0.002594  0.006253\n",
       "3932  17.394624 -0.001041          0 -0.001040  0.000000 -0.002594  0.002594\n",
       "\n",
       "[3933 rows x 7 columns]"
      ]
     },
     "metadata": {},
     "output_type": "display_data"
    }
   ],
   "source": [
    "#-----------------------------------------------------------\n",
    "# Define a data limite entre os dados de treinamento e teste.\n",
    "#-----------------------------------------------------------\n",
    "data.index = range(len(data['direction']))\n",
    "cutoff = int(len(data['direction']) * 0.80)\n",
    "print(cutoff)\n",
    "\n",
    "\n",
    "display(data)"
   ]
  },
  {
   "cell_type": "code",
   "execution_count": 9,
   "metadata": {
    "colab": {
     "base_uri": "https://localhost:8080/"
    },
    "executionInfo": {
     "elapsed": 51,
     "status": "ok",
     "timestamp": 1665089342029,
     "user": {
      "displayName": "Larissa Benevides Vieira",
      "userId": "07170501787859993395"
     },
     "user_tz": 180
    },
    "id": "AJ1cF55LnbM8",
    "outputId": "d78f2af4-7f72-4a0b-d822-cb0d071f2c4b"
   },
   "outputs": [
    {
     "data": {
      "text/plain": [
       "array([[[-0.59697302],\n",
       "        [-2.76039067],\n",
       "        [-0.14055013],\n",
       "        [-0.21427121]],\n",
       "\n",
       "       [[-1.51116221],\n",
       "        [-0.59585174],\n",
       "        [-2.7603883 ],\n",
       "        [-0.14017061]],\n",
       "\n",
       "       [[-0.37419783],\n",
       "        [-1.50911805],\n",
       "        [-0.59560188],\n",
       "        [-2.76045265]],\n",
       "\n",
       "       ...,\n",
       "\n",
       "       [[ 1.05413795],\n",
       "        [-0.94334881],\n",
       "        [ 0.86384144],\n",
       "        [-0.84756517]],\n",
       "\n",
       "       [[ 0.85975362],\n",
       "        [ 1.05359244],\n",
       "        [-0.94313869],\n",
       "        [ 0.86439113]],\n",
       "\n",
       "       [[-1.13040304],\n",
       "        [ 0.85940434],\n",
       "        [ 1.05403088],\n",
       "        [-0.94289515]]])"
      ]
     },
     "execution_count": 9,
     "metadata": {},
     "output_type": "execute_result"
    }
   ],
   "source": [
    "\"\"\"                      TREINAMENTO                      \"\"\"\n",
    "#-----------------------------------------------------------\n",
    "# Define os conjuntos de dados de treinamento.\n",
    "#-----------------------------------------------------------\n",
    "training_data = data[data.index < cutoff].copy()\n",
    "\n",
    "\n",
    "#-----------------------------------------------------------\n",
    "# Normalizes the features data by Gaussian normalization. (z-score)\n",
    "#-----------------------------------------------------------\n",
    "mu, std = training_data.mean(), training_data.std()\n",
    "training_data_ = (training_data - mu) / std\n",
    "#print(training_data_[cols])\n",
    "\n",
    "\n",
    "\n",
    "\"\"\"-------------------Dados de Entrada--------------------\"\"\"\n",
    "\n",
    "#-----------------------------------------------------------\n",
    "# Pega os dados de 'Lag' de treinamentos e coloca na variavel X_train\n",
    "#-----------------------------------------------------------\n",
    "X_train = training_data[cols].values\n",
    "X_train_ = training_data_[cols].values\n",
    "\n",
    "\n",
    "#-----------------------------------------------------------\n",
    "# Redefine os dados de treinamento para serem 3D (TRAINING_DAYS, TimeSteps, FEATURES)\n",
    "#-----------------------------------------------------------\n",
    "X_train = X_train.reshape(len(X_train),lags,1)\n",
    "X_train_ = X_train_.reshape(len(X_train_),lags,1)\n",
    "\n",
    "\n",
    "\"\"\"-------------------Dados de Saida----------------------\"\"\"\n",
    "\n",
    "#-----------------------------------------------------------\n",
    "# Pega os dados de direção(0 e 1) de treinamento e coloca na variavel Y_train\n",
    "#-----------------------------------------------------------\n",
    "Y_train = training_data['direction'].values\n",
    "\n",
    "X_train_.shape, Y_train.shape\n",
    "X_train_"
   ]
  },
  {
   "cell_type": "code",
   "execution_count": 10,
   "metadata": {
    "colab": {
     "base_uri": "https://localhost:8080/"
    },
    "executionInfo": {
     "elapsed": 49,
     "status": "ok",
     "timestamp": 1665089342031,
     "user": {
      "displayName": "Larissa Benevides Vieira",
      "userId": "07170501787859993395"
     },
     "user_tz": 180
    },
    "id": "6gSqs7FGrjfR",
    "outputId": "1441a3ba-0815-4bd9-93e6-98b787ca5ddf"
   },
   "outputs": [
    {
     "name": "stdout",
     "output_type": "stream",
     "text": [
      "TREINAMENTO \n",
      "Quantos 1 tem na saida?  1444\n",
      "Quantos 0 tem na saida?  1702\n",
      "Total:  3146\n"
     ]
    }
   ],
   "source": [
    "#-----------------------------------------------------------\n",
    "# Quantos 0 e quantos 1 possuem no meu dado de Treino? \n",
    "#-----------------------------------------------------------\n",
    "count1 = 0\n",
    "count0 = 0\n",
    "for i in Y_train:\n",
    "    if i == 1:\n",
    "        count1 += 1\n",
    "    elif i == 0:\n",
    "        count0 += 1\n",
    "print(\"TREINAMENTO \")\n",
    "print(\"Quantos 1 tem na saida? \",count1)\n",
    "print(\"Quantos 0 tem na saida? \",count0)\n",
    "print(\"Total: \",len(Y_train))"
   ]
  },
  {
   "cell_type": "code",
   "execution_count": 11,
   "metadata": {
    "colab": {
     "base_uri": "https://localhost:8080/"
    },
    "executionInfo": {
     "elapsed": 45,
     "status": "ok",
     "timestamp": 1665089342032,
     "user": {
      "displayName": "Larissa Benevides Vieira",
      "userId": "07170501787859993395"
     },
     "user_tz": 180
    },
    "id": "ZpzUS3YAr8Vn",
    "outputId": "fca774b6-e0e7-4691-bd17-7a5ddc40fed3"
   },
   "outputs": [
    {
     "name": "stdout",
     "output_type": "stream",
     "text": [
      "(787, 4, 1) (787,)\n"
     ]
    },
    {
     "data": {
      "text/plain": [
       "array([[[-1.04125593],\n",
       "        [-1.12874325],\n",
       "        [ 0.85982058],\n",
       "        [ 1.0546128 ]],\n",
       "\n",
       "       [[-0.66286855],\n",
       "        [-1.03968614],\n",
       "        [-1.12855433],\n",
       "        [ 0.86036959]],\n",
       "\n",
       "       [[ 1.53544508],\n",
       "        [-0.66168074],\n",
       "        [-1.03948704],\n",
       "        [-1.1283422 ]],\n",
       "\n",
       "       ...,\n",
       "\n",
       "       [[-0.5158692 ],\n",
       "        [ 0.53020865],\n",
       "        [ 1.26774488],\n",
       "        [-0.30731683]],\n",
       "\n",
       "       [[ 0.00717804],\n",
       "        [-0.51482979],\n",
       "        [ 0.53058725],\n",
       "        [ 1.268363  ]],\n",
       "\n",
       "       [[-0.20242136],\n",
       "        [ 0.00768943],\n",
       "        [-0.51457067],\n",
       "        [ 0.53108048]]])"
      ]
     },
     "execution_count": 11,
     "metadata": {},
     "output_type": "execute_result"
    }
   ],
   "source": [
    "\"\"\"                           TESTE                     \"\"\"\n",
    "#-----------------------------------------------------------\n",
    "# Define os conjuntos de dados de teste.\n",
    "#-----------------------------------------------------------\n",
    "test_data = data[data.index >= cutoff].copy()\n",
    "#print(test_data[cols])\n",
    "\n",
    "#-----------------------------------------------------------\n",
    "# Normalizes the features data by Gaussian normalization.\n",
    "#-----------------------------------------------------------\n",
    "test_data_ = (test_data - mu) / std\n",
    "#print(test_data_[cols])\n",
    "\n",
    "\"\"\"-------------------Dados de Entrada--------------------\"\"\"\n",
    "\n",
    "#-----------------------------------------------------------\n",
    "# Pega os dados de 'Lag' de teste e coloca na variavel X_test\n",
    "#-----------------------------------------------------------\n",
    "X_test = test_data[cols].values\n",
    "X_test_ = test_data_[cols].values\n",
    "\n",
    "#-----------------------------------------------------------\n",
    "# Redefine os dados de 'Lag' teste para serem 3D (TRAINING_DAYS, TimeSteps, FEATURES)\n",
    "#-----------------------------------------------------------\n",
    "X_test = X_test.reshape(len(X_test),lags, 1)\n",
    "X_test_ = X_test_.reshape(len(X_test_),lags, 1)\n",
    "\n",
    "\n",
    "\"\"\"-------------------Dados de Saida----------------------\"\"\"\n",
    "\n",
    "#-----------------------------------------------------------\n",
    "# Pega os dados de direção(0 e 1) de teste e coloca na variavel Y_teste\n",
    "#-----------------------------------------------------------\n",
    "Y_test = test_data['direction'].values\n",
    "print(X_test_.shape, Y_test.shape)\n",
    "X_test_"
   ]
  },
  {
   "cell_type": "code",
   "execution_count": 12,
   "metadata": {
    "colab": {
     "base_uri": "https://localhost:8080/"
    },
    "executionInfo": {
     "elapsed": 42,
     "status": "ok",
     "timestamp": 1665089342034,
     "user": {
      "displayName": "Larissa Benevides Vieira",
      "userId": "07170501787859993395"
     },
     "user_tz": 180
    },
    "id": "h-BGcddetY0Z",
    "outputId": "04db7cf3-1054-43f7-b536-c5cbf63fd07d"
   },
   "outputs": [
    {
     "name": "stdout",
     "output_type": "stream",
     "text": [
      "TESTE \n",
      "Quantos 1 tem na saida?  353\n",
      "Quantos 0 tem na saida?  434\n",
      "Total:  787\n"
     ]
    }
   ],
   "source": [
    "#-----------------------------------------------------------\n",
    "# Quantos 0 e quantos 1 possuem no meu dado de Teste? \n",
    "#-----------------------------------------------------------\n",
    "count1 = 0\n",
    "count0 = 0\n",
    "for i in Y_test:\n",
    "    if i == 1:\n",
    "        count1 += 1\n",
    "    elif i == 0:\n",
    "        count0 += 1\n",
    "        \n",
    "print(\"TESTE \")\n",
    "print(\"Quantos 1 tem na saida? \",count1)\n",
    "print(\"Quantos 0 tem na saida? \",count0)\n",
    "print(\"Total: \",len(Y_test))"
   ]
  },
  {
   "cell_type": "code",
   "execution_count": 13,
   "metadata": {
    "executionInfo": {
     "elapsed": 38,
     "status": "ok",
     "timestamp": 1665089342036,
     "user": {
      "displayName": "Larissa Benevides Vieira",
      "userId": "07170501787859993395"
     },
     "user_tz": 180
    },
    "id": "XC8hIjylV4Uw"
   },
   "outputs": [],
   "source": [
    "#-----------------------------------------------------------\n",
    "# Importa o pacote TensorFlow.\n",
    "#-----------------------------------------------------------\n",
    "import tensorflow as tf\n",
    "#-----------------------------------------------------------\n",
    "# Importa o objeto de modelo necessário do Keras\n",
    "#-----------------------------------------------------------\n",
    "from keras.models import Sequential\n",
    "#-----------------------------------------------------------\n",
    "# Importa o objeto de camada relevante do Keras\n",
    "#-----------------------------------------------------------\n",
    "from keras.layers import Dense, Flatten,Dropout, LSTM, Embedding, Input\n",
    "\n",
    "# Importa Layer weight regularizers\n",
    "# https://keras.io/api/layers/regularizers/\n",
    "#-----------------------------------------------------------\n",
    "from tensorflow import keras\n",
    "\n",
    "from keras import layers\n",
    "\n",
    "from tensorflow.keras.optimizers import Adam, RMSprop\n",
    "#-----------------------------------------------------------\n",
    "# Otimizador https://keras.io/api/optimizers/\n",
    "#-----------------------------------------------------------\n",
    "optimizer = Adam(learning_rate=0.001)"
   ]
  },
  {
   "cell_type": "code",
   "execution_count": 14,
   "metadata": {
    "executionInfo": {
     "elapsed": 330,
     "status": "ok",
     "timestamp": 1665089342329,
     "user": {
      "displayName": "Larissa Benevides Vieira",
      "userId": "07170501787859993395"
     },
     "user_tz": 180
    },
    "id": "nMVsZOU5WYNq"
   },
   "outputs": [],
   "source": [
    "#-----------------------------------------------------------\n",
    "# Um modelo Sequencial é instanciado.\n",
    "#-----------------------------------------------------------\n",
    "model=Sequential()\n",
    "model.add(LSTM(5 ,activation = 'relu',input_shape=(lags,1)))\n",
    "model.add(Dense(1, activation='sigmoid'))"
   ]
  },
  {
   "cell_type": "code",
   "execution_count": 15,
   "metadata": {
    "colab": {
     "base_uri": "https://localhost:8080/"
    },
    "executionInfo": {
     "elapsed": 27,
     "status": "ok",
     "timestamp": 1665089342331,
     "user": {
      "displayName": "Larissa Benevides Vieira",
      "userId": "07170501787859993395"
     },
     "user_tz": 180
    },
    "id": "wTcfecZGWwRy",
    "outputId": "8fcaa2d0-cf85-47c1-b899-09a8a5c031e6"
   },
   "outputs": [
    {
     "name": "stdout",
     "output_type": "stream",
     "text": [
      "Model: \"sequential\"\n",
      "_________________________________________________________________\n",
      " Layer (type)                Output Shape              Param #   \n",
      "=================================================================\n",
      " lstm (LSTM)                 (None, 5)                 140       \n",
      "                                                                 \n",
      " dense (Dense)               (None, 1)                 6         \n",
      "                                                                 \n",
      "=================================================================\n",
      "Total params: 146\n",
      "Trainable params: 146\n",
      "Non-trainable params: 0\n",
      "_________________________________________________________________\n"
     ]
    }
   ],
   "source": [
    "#-----------------------------------------------------------\n",
    "# Compila o objeto de modelo Sequencial para classificação.\n",
    "#-----------------------------------------------------------\n",
    "model.compile(optimizer= optimizer,\n",
    " loss='binary_crossentropy',\n",
    "# https://machinelearningmastery.com/how-to-choose-loss-functions-when-training-deep-learning-neural-networks/\n",
    "# https://keras.io/api/metrics/\n",
    "metrics=['accuracy'])\n",
    "model.summary()"
   ]
  },
  {
   "cell_type": "code",
   "execution_count": 16,
   "metadata": {
    "colab": {
     "base_uri": "https://localhost:8080/"
    },
    "executionInfo": {
     "elapsed": 13056,
     "status": "ok",
     "timestamp": 1665089355379,
     "user": {
      "displayName": "Larissa Benevides Vieira",
      "userId": "07170501787859993395"
     },
     "user_tz": 180
    },
    "id": "0a0Aci8sW5-V",
    "outputId": "802c42fd-73ad-4ee6-e464-235e1c3b3350"
   },
   "outputs": [
    {
     "name": "stdout",
     "output_type": "stream",
     "text": [
      "Epoch 1/10\n",
      "79/79 [==============================] - 2s 7ms/step - loss: 0.6947 - accuracy: 0.5124 - val_loss: 0.6929 - val_accuracy: 0.5299\n",
      "Epoch 2/10\n",
      "79/79 [==============================] - 0s 4ms/step - loss: 0.6914 - accuracy: 0.5413 - val_loss: 0.6901 - val_accuracy: 0.5426\n",
      "Epoch 3/10\n",
      "79/79 [==============================] - 0s 4ms/step - loss: 0.6905 - accuracy: 0.5410 - val_loss: 0.6893 - val_accuracy: 0.5451\n",
      "Epoch 4/10\n",
      "79/79 [==============================] - 0s 5ms/step - loss: 0.6902 - accuracy: 0.5397 - val_loss: 0.6889 - val_accuracy: 0.5464\n",
      "Epoch 5/10\n",
      "79/79 [==============================] - 0s 5ms/step - loss: 0.6901 - accuracy: 0.5407 - val_loss: 0.6887 - val_accuracy: 0.5489\n",
      "Epoch 6/10\n",
      "79/79 [==============================] - 0s 6ms/step - loss: 0.6901 - accuracy: 0.5404 - val_loss: 0.6886 - val_accuracy: 0.5489\n",
      "Epoch 7/10\n",
      "79/79 [==============================] - 0s 4ms/step - loss: 0.6900 - accuracy: 0.5407 - val_loss: 0.6885 - val_accuracy: 0.5489\n",
      "Epoch 8/10\n",
      "79/79 [==============================] - 0s 4ms/step - loss: 0.6900 - accuracy: 0.5407 - val_loss: 0.6884 - val_accuracy: 0.5489\n",
      "Epoch 9/10\n",
      "79/79 [==============================] - 0s 4ms/step - loss: 0.6899 - accuracy: 0.5407 - val_loss: 0.6884 - val_accuracy: 0.5489\n",
      "Epoch 10/10\n",
      "79/79 [==============================] - 0s 4ms/step - loss: 0.6899 - accuracy: 0.5407 - val_loss: 0.6883 - val_accuracy: 0.5502\n",
      "CPU times: user 6.76 s, sys: 360 ms, total: 7.12 s\n",
      "Wall time: 4.97 s\n"
     ]
    },
    {
     "data": {
      "text/plain": [
       "<keras.callbacks.History at 0x7fb2e2dcd8e0>"
      ]
     },
     "execution_count": 16,
     "metadata": {},
     "output_type": "execute_result"
    }
   ],
   "source": [
    "%%time\n",
    "#-----------------------------------------------------------\n",
    "# Ajusta o modelo ao conjunto de dados de treinamento.\n",
    "#-----------------------------------------------------------\n",
    "model.fit(X_train_, # Lags\n",
    "    Y_train, # 0 e 1\n",
    "   epochs=10, batch_size=40, verbose=True,validation_data=(X_test_, Y_test), #Gera conjunto de dados de validação aleatórios (https://curiousily.com/posts/time-series-forecasting-with-lstms-using-tensorflow-2-and-keras-in-python/) # https://github.com/keras-team/keras/issues/597\n",
    "          shuffle=False)"
   ]
  },
  {
   "cell_type": "code",
   "execution_count": 17,
   "metadata": {
    "colab": {
     "base_uri": "https://localhost:8080/",
     "height": 206
    },
    "executionInfo": {
     "elapsed": 860,
     "status": "ok",
     "timestamp": 1665089356203,
     "user": {
      "displayName": "Larissa Benevides Vieira",
      "userId": "07170501787859993395"
     },
     "user_tz": 180
    },
    "id": "-P1nFAqG0YfK",
    "outputId": "a669d143-67db-4fce-f96c-5f8486836659"
   },
   "outputs": [
    {
     "data": {
      "text/html": [
       "<div>\n",
       "<style scoped>\n",
       "    .dataframe tbody tr th:only-of-type {\n",
       "        vertical-align: middle;\n",
       "    }\n",
       "\n",
       "    .dataframe tbody tr th {\n",
       "        vertical-align: top;\n",
       "    }\n",
       "\n",
       "    .dataframe thead th {\n",
       "        text-align: right;\n",
       "    }\n",
       "</style>\n",
       "<table border=\"1\" class=\"dataframe\">\n",
       "  <thead>\n",
       "    <tr style=\"text-align: right;\">\n",
       "      <th></th>\n",
       "      <th>loss</th>\n",
       "      <th>accuracy</th>\n",
       "      <th>val_loss</th>\n",
       "      <th>val_accuracy</th>\n",
       "    </tr>\n",
       "  </thead>\n",
       "  <tbody>\n",
       "    <tr>\n",
       "      <th>0</th>\n",
       "      <td>0.694726</td>\n",
       "      <td>0.512397</td>\n",
       "      <td>0.692851</td>\n",
       "      <td>0.529860</td>\n",
       "    </tr>\n",
       "    <tr>\n",
       "      <th>1</th>\n",
       "      <td>0.691383</td>\n",
       "      <td>0.541322</td>\n",
       "      <td>0.690138</td>\n",
       "      <td>0.542567</td>\n",
       "    </tr>\n",
       "    <tr>\n",
       "      <th>2</th>\n",
       "      <td>0.690485</td>\n",
       "      <td>0.541004</td>\n",
       "      <td>0.689265</td>\n",
       "      <td>0.545108</td>\n",
       "    </tr>\n",
       "    <tr>\n",
       "      <th>3</th>\n",
       "      <td>0.690238</td>\n",
       "      <td>0.539733</td>\n",
       "      <td>0.688885</td>\n",
       "      <td>0.546379</td>\n",
       "    </tr>\n",
       "    <tr>\n",
       "      <th>4</th>\n",
       "      <td>0.690128</td>\n",
       "      <td>0.540687</td>\n",
       "      <td>0.688683</td>\n",
       "      <td>0.548920</td>\n",
       "    </tr>\n",
       "  </tbody>\n",
       "</table>\n",
       "</div>"
      ],
      "text/plain": [
       "       loss  accuracy  val_loss  val_accuracy\n",
       "0  0.694726  0.512397  0.692851      0.529860\n",
       "1  0.691383  0.541322  0.690138      0.542567\n",
       "2  0.690485  0.541004  0.689265      0.545108\n",
       "3  0.690238  0.539733  0.688885      0.546379\n",
       "4  0.690128  0.540687  0.688683      0.548920"
      ]
     },
     "execution_count": 17,
     "metadata": {},
     "output_type": "execute_result"
    }
   ],
   "source": [
    "res = pd.DataFrame(model.history.history)\n",
    "model.history.history\n",
    "res.head()"
   ]
  },
  {
   "cell_type": "code",
   "execution_count": 18,
   "metadata": {
    "colab": {
     "base_uri": "https://localhost:8080/",
     "height": 374
    },
    "executionInfo": {
     "elapsed": 25,
     "status": "ok",
     "timestamp": 1665089356203,
     "user": {
      "displayName": "Larissa Benevides Vieira",
      "userId": "07170501787859993395"
     },
     "user_tz": 180
    },
    "id": "qtZEeFeD0qAf",
    "outputId": "dd2a06a1-e074-4c13-ba7c-d2aec696a2b4"
   },
   "outputs": [
    {
     "data": {
      "image/png": "[encoded data removed]",
      "text/plain": [
       "<Figure size 720x432 with 1 Axes>"
      ]
     },
     "metadata": {
      "needs_background": "light"
     },
     "output_type": "display_data"
    }
   ],
   "source": [
    "\n",
    "res[['accuracy']].plot(figsize=(10, 6), style='--');"
   ]
  },
  {
   "cell_type": "code",
   "execution_count": 19,
   "metadata": {
    "colab": {
     "base_uri": "https://localhost:8080/",
     "height": 374
    },
    "executionInfo": {
     "elapsed": 22,
     "status": "ok",
     "timestamp": 1665089356204,
     "user": {
      "displayName": "Larissa Benevides Vieira",
      "userId": "07170501787859993395"
     },
     "user_tz": 180
    },
    "id": "EajGBhyU0u-G",
    "outputId": "d2feb795-4a68-4bfd-832f-1d60f1656bbb"
   },
   "outputs": [
    {
     "data": {
      "image/png": "[encoded data removed]",
      "text/plain": [
       "<Figure size 720x432 with 1 Axes>"
      ]
     },
     "metadata": {
      "needs_background": "light"
     },
     "output_type": "display_data"
    }
   ],
   "source": [
    "res[['loss']].plot(figsize=(10, 6), style='--');"
   ]
  },
  {
   "cell_type": "code",
   "execution_count": 20,
   "metadata": {
    "colab": {
     "base_uri": "https://localhost:8080/"
    },
    "executionInfo": {
     "elapsed": 21,
     "status": "ok",
     "timestamp": 1665089356205,
     "user": {
      "displayName": "Larissa Benevides Vieira",
      "userId": "07170501787859993395"
     },
     "user_tz": 180
    },
    "id": "HnNdwRxba_x-",
    "outputId": "adb2d4fe-1533-450d-8c01-e8af1b230b09"
   },
   "outputs": [
    {
     "name": "stdout",
     "output_type": "stream",
     "text": [
      "Test Accuracy: 55.02%\n",
      "Train Accuracy: 54.13%\n"
     ]
    }
   ],
   "source": [
    "# Final evaluation of the model\n",
    "scores_test = model.evaluate(X_test_, Y_test, verbose=0)\n",
    "print(\"Test Accuracy: %.2f%%\" % (scores_test[1]*100))\n",
    "scores_train = model.evaluate(X_train_, Y_train, verbose=0)\n",
    "print(\"Train Accuracy: %.2f%%\" % (scores_train[1]*100))\n",
    "# Média e Desvio padrão. \n",
    "#Box plots"
   ]
  },
  {
   "cell_type": "code",
   "execution_count": 21,
   "metadata": {},
   "outputs": [
    {
     "data": {
      "text/plain": [
       "<matplotlib.legend.Legend at 0x7fb2d1c318b0>"
      ]
     },
     "execution_count": 21,
     "metadata": {},
     "output_type": "execute_result"
    },
    {
     "data": {
      "image/png": "[encoded data removed]",
      "text/plain": [
       "<Figure size 432x288 with 1 Axes>"
      ]
     },
     "metadata": {
      "needs_background": "light"
     },
     "output_type": "display_data"
    }
   ],
   "source": [
    "from matplotlib import pyplot\n",
    "# plot loss during training\n",
    "pyplot.subplot(211)\n",
    "pyplot.title('Loss')\n",
    "pyplot.plot(res['loss'], label='train')\n",
    "pyplot.plot(res['val_loss'], label='test')\n",
    "pyplot.legend()"
   ]
  },
  {
   "cell_type": "code",
   "execution_count": 22,
   "metadata": {},
   "outputs": [
    {
     "data": {
      "image/png": "[encoded data removed]",
      "text/plain": [
       "<Figure size 432x288 with 1 Axes>"
      ]
     },
     "metadata": {
      "needs_background": "light"
     },
     "output_type": "display_data"
    }
   ],
   "source": [
    "# plot accuracy during training\n",
    "pyplot.subplot(212)\n",
    "pyplot.title('Accuracy')\n",
    "pyplot.plot(res['accuracy'], label='train')\n",
    "pyplot.plot(res['val_accuracy'], label='test')\n",
    "pyplot.legend()\n",
    "pyplot.show()"
   ]
  }
 ],
 "metadata": {
  "colab": {
   "authorship_tag": "ABX9TyMOfqjndQxEfzF4L+7BMGes",
   "collapsed_sections": [],
   "mount_file_id": "1pny91fB-uRHkkSmzD0fDm-QGuJbT0OXL",
   "provenance": []
  },
  "kernelspec": {
   "display_name": "Python 3",
   "language": "python",
   "name": "python3"
  },
  "language_info": {
   "codemirror_mode": {
    "name": "ipython",
    "version": 3
   },
   "file_extension": ".py",
   "mimetype": "text/x-python",
   "name": "python",
   "nbconvert_exporter": "python",
   "pygments_lexer": "ipython3",
   "version": "3.8.10"
  }
 },
 "nbformat": 4,
 "nbformat_minor": 4
}
