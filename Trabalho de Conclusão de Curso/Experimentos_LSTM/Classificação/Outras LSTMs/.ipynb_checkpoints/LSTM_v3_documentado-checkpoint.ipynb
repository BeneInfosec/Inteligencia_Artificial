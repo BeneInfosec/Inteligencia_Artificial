{
 "cells": [
  {
   "cell_type": "markdown",
   "id": "90aeaeed-3cb0-48c6-803f-4bad61c92271",
   "metadata": {
    "id": "90aeaeed-3cb0-48c6-803f-4bad61c92271",
    "jp-MarkdownHeadingCollapsed": true,
    "tags": []
   },
   "source": [
    "# INFORMAÇÕES IMPORTANTES:"
   ]
  },
  {
   "cell_type": "markdown",
   "id": "659326fd-f437-41bf-b60e-8c407a5a25e5",
   "metadata": {
    "id": "659326fd-f437-41bf-b60e-8c407a5a25e5",
    "jp-MarkdownHeadingCollapsed": true,
    "tags": []
   },
   "source": [
    "## Dependências"
   ]
  },
  {
   "cell_type": "raw",
   "id": "e40de0e0-b301-45ff-8c77-55a0cae878d5",
   "metadata": {
    "id": "e40de0e0-b301-45ff-8c77-55a0cae878d5",
    "tags": []
   },
   "source": [
    "!pip install tensorflow==2.5.0\n",
    "!pip install plotly\n",
    "!pip install yfinance  or !pip install yahooquery\n",
    "!pip install --upgrade mplfinance\n",
    "sudo apt install nodejs (https://stackoverflow.com/questions/52771328/plotly-chart-not-showing-in-jupyter-notebook)"
   ]
  },
  {
   "cell_type": "markdown",
   "id": "7bb1ccd3-a6b1-456e-b58c-9632415c4593",
   "metadata": {
    "id": "7bb1ccd3-a6b1-456e-b58c-9632415c4593",
    "jp-MarkdownHeadingCollapsed": true,
    "tags": []
   },
   "source": [
    "## Especificações da Pesquisa"
   ]
  },
  {
   "cell_type": "markdown",
   "id": "aa1d1dd5-fd37-48ed-af2f-cbbfdb2b62b5",
   "metadata": {
    "id": "aa1d1dd5-fd37-48ed-af2f-cbbfdb2b62b5"
   },
   "source": [
    "- Horizonte de previsão: 30 min, 1 hora, 3 horas\n"
   ]
  },
  {
   "cell_type": "code",
   "execution_count": null,
   "id": "K6hHYIo7aGK3",
   "metadata": {
    "colab": {
     "base_uri": "https://localhost:8080/"
    },
    "executionInfo": {
     "elapsed": 27814,
     "status": "ok",
     "timestamp": 1663717861310,
     "user": {
      "displayName": "Larissa Benevides Vieira",
      "userId": "07170501787859993395"
     },
     "user_tz": 180
    },
    "id": "K6hHYIo7aGK3",
    "outputId": "30f4fb0d-5f40-4d69-f9a3-c9194f8b6326"
   },
   "outputs": [
    {
     "name": "stdout",
     "output_type": "stream",
     "text": [
      "Mounted at /content/drive\n"
     ]
    }
   ],
   "source": [
    "from google.colab import drive\n",
    "drive.mount('/content/drive')"
   ]
  },
  {
   "cell_type": "markdown",
   "id": "95a65bed-3c96-4993-9b32-d158bf62bdf8",
   "metadata": {
    "id": "95a65bed-3c96-4993-9b32-d158bf62bdf8",
    "tags": []
   },
   "source": [
    "# Utilização de rede neural recorrente LSTM para previsões intradiárias do mercado de ações. "
   ]
  },
  {
   "cell_type": "code",
   "execution_count": 1,
   "id": "fce3fdb4-db11-47c7-a075-7dd595d6f88f",
   "metadata": {
    "colab": {
     "base_uri": "https://localhost:8080/",
     "height": 206
    },
    "executionInfo": {
     "elapsed": 5908,
     "status": "ok",
     "timestamp": 1663717867213,
     "user": {
      "displayName": "Larissa Benevides Vieira",
      "userId": "07170501787859993395"
     },
     "user_tz": 180
    },
    "id": "fce3fdb4-db11-47c7-a075-7dd595d6f88f",
    "outputId": "0a728d76-ca66-4cc8-d321-ea17c5a94eb6",
    "tags": []
   },
   "outputs": [
    {
     "data": {
      "text/html": [
       "<div>\n",
       "<style scoped>\n",
       "    .dataframe tbody tr th:only-of-type {\n",
       "        vertical-align: middle;\n",
       "    }\n",
       "\n",
       "    .dataframe tbody tr th {\n",
       "        vertical-align: top;\n",
       "    }\n",
       "\n",
       "    .dataframe thead th {\n",
       "        text-align: right;\n",
       "    }\n",
       "</style>\n",
       "<table border=\"1\" class=\"dataframe\">\n",
       "  <thead>\n",
       "    <tr style=\"text-align: right;\">\n",
       "      <th></th>\n",
       "      <th>time</th>\n",
       "      <th>open</th>\n",
       "      <th>high</th>\n",
       "      <th>low</th>\n",
       "      <th>close</th>\n",
       "      <th>Volume</th>\n",
       "      <th>Volume MA</th>\n",
       "    </tr>\n",
       "  </thead>\n",
       "  <tbody>\n",
       "    <tr>\n",
       "      <th>0</th>\n",
       "      <td>2021-01-04T10:00:00-03:00</td>\n",
       "      <td>21.814317</td>\n",
       "      <td>21.814317</td>\n",
       "      <td>21.505287</td>\n",
       "      <td>21.521135</td>\n",
       "      <td>1880012</td>\n",
       "      <td>1384668.55</td>\n",
       "    </tr>\n",
       "    <tr>\n",
       "      <th>1</th>\n",
       "      <td>2021-01-04T10:30:00-03:00</td>\n",
       "      <td>21.529059</td>\n",
       "      <td>21.576602</td>\n",
       "      <td>21.441896</td>\n",
       "      <td>21.497363</td>\n",
       "      <td>1532703</td>\n",
       "      <td>1368010.00</td>\n",
       "    </tr>\n",
       "    <tr>\n",
       "      <th>2</th>\n",
       "      <td>2021-01-04T11:00:00-03:00</td>\n",
       "      <td>21.505287</td>\n",
       "      <td>21.552830</td>\n",
       "      <td>21.473592</td>\n",
       "      <td>21.481516</td>\n",
       "      <td>877715</td>\n",
       "      <td>1345874.15</td>\n",
       "    </tr>\n",
       "    <tr>\n",
       "      <th>3</th>\n",
       "      <td>2021-01-04T11:30:00-03:00</td>\n",
       "      <td>21.497363</td>\n",
       "      <td>21.521135</td>\n",
       "      <td>21.132867</td>\n",
       "      <td>21.188334</td>\n",
       "      <td>5465393</td>\n",
       "      <td>1548509.50</td>\n",
       "    </tr>\n",
       "    <tr>\n",
       "      <th>4</th>\n",
       "      <td>2021-01-04T12:00:00-03:00</td>\n",
       "      <td>21.188334</td>\n",
       "      <td>21.227953</td>\n",
       "      <td>21.085324</td>\n",
       "      <td>21.124943</td>\n",
       "      <td>4150374</td>\n",
       "      <td>1694177.35</td>\n",
       "    </tr>\n",
       "  </tbody>\n",
       "</table>\n",
       "</div>"
      ],
      "text/plain": [
       "                        time       open       high        low      close  \\\n",
       "0  2021-01-04T10:00:00-03:00  21.814317  21.814317  21.505287  21.521135   \n",
       "1  2021-01-04T10:30:00-03:00  21.529059  21.576602  21.441896  21.497363   \n",
       "2  2021-01-04T11:00:00-03:00  21.505287  21.552830  21.473592  21.481516   \n",
       "3  2021-01-04T11:30:00-03:00  21.497363  21.521135  21.132867  21.188334   \n",
       "4  2021-01-04T12:00:00-03:00  21.188334  21.227953  21.085324  21.124943   \n",
       "\n",
       "    Volume   Volume MA  \n",
       "0  1880012  1384668.55  \n",
       "1  1532703  1368010.00  \n",
       "2   877715  1345874.15  \n",
       "3  5465393  1548509.50  \n",
       "4  4150374  1694177.35  "
      ]
     },
     "execution_count": 1,
     "metadata": {},
     "output_type": "execute_result"
    }
   ],
   "source": [
    "import pandas as pd\n",
    "import tensorflow as tf\n",
    "import numpy as np\n",
    "\n",
    "\n",
    "#-----------------------------------------------------------\n",
    "#Lê os dados do arquivo CSV.\n",
    "#-----------------------------------------------------------\n",
    "data = pd.read_csv('Inteligencia_Artificial/Trabalho de Conclusão de Curso/Base de Dados/2021/BBDC4_30m_2021.csv') \n",
    "data.head()\n",
    "#print(df)\n",
    "#df.info()"
   ]
  },
  {
   "cell_type": "code",
   "execution_count": 2,
   "id": "5dabc399-ddca-4204-99da-6f08d7acd564",
   "metadata": {
    "colab": {
     "base_uri": "https://localhost:8080/",
     "height": 206
    },
    "executionInfo": {
     "elapsed": 77,
     "status": "ok",
     "timestamp": 1663717867214,
     "user": {
      "displayName": "Larissa Benevides Vieira",
      "userId": "07170501787859993395"
     },
     "user_tz": 180
    },
    "id": "5dabc399-ddca-4204-99da-6f08d7acd564",
    "outputId": "b4662dc3-b935-4dc3-a431-912527fb0b5f"
   },
   "outputs": [
    {
     "data": {
      "text/html": [
       "<div>\n",
       "<style scoped>\n",
       "    .dataframe tbody tr th:only-of-type {\n",
       "        vertical-align: middle;\n",
       "    }\n",
       "\n",
       "    .dataframe tbody tr th {\n",
       "        vertical-align: top;\n",
       "    }\n",
       "\n",
       "    .dataframe thead th {\n",
       "        text-align: right;\n",
       "    }\n",
       "</style>\n",
       "<table border=\"1\" class=\"dataframe\">\n",
       "  <thead>\n",
       "    <tr style=\"text-align: right;\">\n",
       "      <th></th>\n",
       "      <th>close</th>\n",
       "    </tr>\n",
       "  </thead>\n",
       "  <tbody>\n",
       "    <tr>\n",
       "      <th>0</th>\n",
       "      <td>21.521135</td>\n",
       "    </tr>\n",
       "    <tr>\n",
       "      <th>1</th>\n",
       "      <td>21.497363</td>\n",
       "    </tr>\n",
       "    <tr>\n",
       "      <th>2</th>\n",
       "      <td>21.481516</td>\n",
       "    </tr>\n",
       "    <tr>\n",
       "      <th>3</th>\n",
       "      <td>21.188334</td>\n",
       "    </tr>\n",
       "    <tr>\n",
       "      <th>4</th>\n",
       "      <td>21.124943</td>\n",
       "    </tr>\n",
       "  </tbody>\n",
       "</table>\n",
       "</div>"
      ],
      "text/plain": [
       "       close\n",
       "0  21.521135\n",
       "1  21.497363\n",
       "2  21.481516\n",
       "3  21.188334\n",
       "4  21.124943"
      ]
     },
     "execution_count": 2,
     "metadata": {},
     "output_type": "execute_result"
    }
   ],
   "source": [
    "#-----------------------------------------------------------\n",
    "#Escolhe a coluna de série temporal única de interesse.\n",
    "#-----------------------------------------------------------\n",
    "symbol = \"close\"\n",
    "\n",
    "data = pd.DataFrame(data[symbol])\n",
    "data.head()\n"
   ]
  },
  {
   "cell_type": "code",
   "execution_count": 3,
   "id": "5535a90d-30ac-4c49-a165-a085fe52beda",
   "metadata": {
    "colab": {
     "base_uri": "https://localhost:8080/",
     "height": 206
    },
    "executionInfo": {
     "elapsed": 74,
     "status": "ok",
     "timestamp": 1663717867215,
     "user": {
      "displayName": "Larissa Benevides Vieira",
      "userId": "07170501787859993395"
     },
     "user_tz": 180
    },
    "id": "5535a90d-30ac-4c49-a165-a085fe52beda",
    "outputId": "43a9d3fe-3c8f-49b2-85bf-fb3b8ca4daf9"
   },
   "outputs": [
    {
     "data": {
      "text/html": [
       "<div>\n",
       "<style scoped>\n",
       "    .dataframe tbody tr th:only-of-type {\n",
       "        vertical-align: middle;\n",
       "    }\n",
       "\n",
       "    .dataframe tbody tr th {\n",
       "        vertical-align: top;\n",
       "    }\n",
       "\n",
       "    .dataframe thead th {\n",
       "        text-align: right;\n",
       "    }\n",
       "</style>\n",
       "<table border=\"1\" class=\"dataframe\">\n",
       "  <thead>\n",
       "    <tr style=\"text-align: right;\">\n",
       "      <th></th>\n",
       "      <th>price</th>\n",
       "    </tr>\n",
       "  </thead>\n",
       "  <tbody>\n",
       "    <tr>\n",
       "      <th>0</th>\n",
       "      <td>21.521135</td>\n",
       "    </tr>\n",
       "    <tr>\n",
       "      <th>1</th>\n",
       "      <td>21.497363</td>\n",
       "    </tr>\n",
       "    <tr>\n",
       "      <th>2</th>\n",
       "      <td>21.481516</td>\n",
       "    </tr>\n",
       "    <tr>\n",
       "      <th>3</th>\n",
       "      <td>21.188334</td>\n",
       "    </tr>\n",
       "    <tr>\n",
       "      <th>4</th>\n",
       "      <td>21.124943</td>\n",
       "    </tr>\n",
       "  </tbody>\n",
       "</table>\n",
       "</div>"
      ],
      "text/plain": [
       "       price\n",
       "0  21.521135\n",
       "1  21.497363\n",
       "2  21.481516\n",
       "3  21.188334\n",
       "4  21.124943"
      ]
     },
     "execution_count": 3,
     "metadata": {},
     "output_type": "execute_result"
    }
   ],
   "source": [
    "#-----------------------------------------------------------\n",
    "#Renomeia a única coluna para price\n",
    "#-----------------------------------------------------------\n",
    "\n",
    "data.rename(columns={symbol: 'price'}, inplace=True)\n",
    "\n",
    "data.head()"
   ]
  },
  {
   "cell_type": "code",
   "execution_count": 4,
   "id": "0d011aea-8408-4921-837e-ce58c1b1bf0e",
   "metadata": {
    "colab": {
     "base_uri": "https://localhost:8080/",
     "height": 423
    },
    "executionInfo": {
     "elapsed": 72,
     "status": "ok",
     "timestamp": 1663717867216,
     "user": {
      "displayName": "Larissa Benevides Vieira",
      "userId": "07170501787859993395"
     },
     "user_tz": 180
    },
    "id": "0d011aea-8408-4921-837e-ce58c1b1bf0e",
    "outputId": "ea958e28-9700-4e22-ada3-658ca0a0d549"
   },
   "outputs": [
    {
     "data": {
      "text/html": [
       "<div>\n",
       "<style scoped>\n",
       "    .dataframe tbody tr th:only-of-type {\n",
       "        vertical-align: middle;\n",
       "    }\n",
       "\n",
       "    .dataframe tbody tr th {\n",
       "        vertical-align: top;\n",
       "    }\n",
       "\n",
       "    .dataframe thead th {\n",
       "        text-align: right;\n",
       "    }\n",
       "</style>\n",
       "<table border=\"1\" class=\"dataframe\">\n",
       "  <thead>\n",
       "    <tr style=\"text-align: right;\">\n",
       "      <th></th>\n",
       "      <th>direction</th>\n",
       "    </tr>\n",
       "  </thead>\n",
       "  <tbody>\n",
       "    <tr>\n",
       "      <th>0</th>\n",
       "      <td>0</td>\n",
       "    </tr>\n",
       "    <tr>\n",
       "      <th>1</th>\n",
       "      <td>0</td>\n",
       "    </tr>\n",
       "    <tr>\n",
       "      <th>2</th>\n",
       "      <td>0</td>\n",
       "    </tr>\n",
       "    <tr>\n",
       "      <th>3</th>\n",
       "      <td>0</td>\n",
       "    </tr>\n",
       "    <tr>\n",
       "      <th>4</th>\n",
       "      <td>0</td>\n",
       "    </tr>\n",
       "    <tr>\n",
       "      <th>...</th>\n",
       "      <td>...</td>\n",
       "    </tr>\n",
       "    <tr>\n",
       "      <th>3933</th>\n",
       "      <td>1</td>\n",
       "    </tr>\n",
       "    <tr>\n",
       "      <th>3934</th>\n",
       "      <td>0</td>\n",
       "    </tr>\n",
       "    <tr>\n",
       "      <th>3935</th>\n",
       "      <td>0</td>\n",
       "    </tr>\n",
       "    <tr>\n",
       "      <th>3936</th>\n",
       "      <td>0</td>\n",
       "    </tr>\n",
       "    <tr>\n",
       "      <th>3937</th>\n",
       "      <td>0</td>\n",
       "    </tr>\n",
       "  </tbody>\n",
       "</table>\n",
       "<p>3938 rows × 1 columns</p>\n",
       "</div>"
      ],
      "text/plain": [
       "      direction\n",
       "0             0\n",
       "1             0\n",
       "2             0\n",
       "3             0\n",
       "4             0\n",
       "...         ...\n",
       "3933          1\n",
       "3934          0\n",
       "3935          0\n",
       "3936          0\n",
       "3937          0\n",
       "\n",
       "[3938 rows x 1 columns]"
      ]
     },
     "metadata": {},
     "output_type": "display_data"
    }
   ],
   "source": [
    "#-----------------------------------------------------------\n",
    "# Calcula o log de retorno e define a direção como uma coluna binária.\n",
    "#-----------------------------------------------------------\n",
    "\n",
    "#Log Retorno\n",
    "data['return'] = np.log(data['price']/data['price'].shift(1))\n",
    "\n",
    "temp = pd.DataFrame({})\n",
    "\n",
    "#Coluna binária\n",
    "temp['direction'] = np.where(data['return'] > 0, 1, 0)\n",
    "#data.head()\n",
    "\n",
    "display(temp)"
   ]
  },
  {
   "cell_type": "code",
   "execution_count": 5,
   "id": "df75492b-acfd-42aa-9a6b-b0d32de5f98c",
   "metadata": {
    "id": "df75492b-acfd-42aa-9a6b-b0d32de5f98c"
   },
   "outputs": [],
   "source": [
    "#Para a previsão do mercado de ações, é crucial encontrar dependências de tempo bem definidas\n",
    "lags = 4\n",
    "\n",
    "cols = []\n",
    "#-----------------------------------------------------------\n",
    "# Cria os Lagged Data\n",
    "#-----------------------------------------------------------\n",
    "for lag in range(1, lags + 1):\n",
    "     col = f'lag_{lag}'\n",
    "#-----------------------------------------------------------\n",
    "# Cria novas colunas DataFrame com os retornos de log deslocados pelo respectivo número de atrasos\n",
    "#-----------------------------------------------------------\n",
    "     temp[col] = data['return'].shift(lag)\n",
    "     cols.append(col)\n",
    "#-----------------------------------------------------------\n",
    "# Exclui as linhas que contêm valores NaN.\n",
    "#-----------------------------------------------------------\n",
    "temp.dropna(inplace=True)"
   ]
  },
  {
   "cell_type": "code",
   "execution_count": 6,
   "id": "070422d7-cc6b-4666-b2aa-859e72344c17",
   "metadata": {
    "colab": {
     "base_uri": "https://localhost:8080/",
     "height": 423
    },
    "executionInfo": {
     "elapsed": 69,
     "status": "ok",
     "timestamp": 1663717867217,
     "user": {
      "displayName": "Larissa Benevides Vieira",
      "userId": "07170501787859993395"
     },
     "user_tz": 180
    },
    "id": "070422d7-cc6b-4666-b2aa-859e72344c17",
    "outputId": "28b70752-83b5-4b1f-f54c-d39ba361587a"
   },
   "outputs": [
    {
     "data": {
      "text/html": [
       "<div>\n",
       "<style scoped>\n",
       "    .dataframe tbody tr th:only-of-type {\n",
       "        vertical-align: middle;\n",
       "    }\n",
       "\n",
       "    .dataframe tbody tr th {\n",
       "        vertical-align: top;\n",
       "    }\n",
       "\n",
       "    .dataframe thead th {\n",
       "        text-align: right;\n",
       "    }\n",
       "</style>\n",
       "<table border=\"1\" class=\"dataframe\">\n",
       "  <thead>\n",
       "    <tr style=\"text-align: right;\">\n",
       "      <th></th>\n",
       "      <th>direction</th>\n",
       "      <th>lag_1</th>\n",
       "      <th>lag_2</th>\n",
       "      <th>lag_3</th>\n",
       "      <th>lag_4</th>\n",
       "    </tr>\n",
       "  </thead>\n",
       "  <tbody>\n",
       "    <tr>\n",
       "      <th>5</th>\n",
       "      <td>0</td>\n",
       "      <td>-0.002996</td>\n",
       "      <td>-0.013742</td>\n",
       "      <td>-0.000737</td>\n",
       "      <td>-0.001105</td>\n",
       "    </tr>\n",
       "    <tr>\n",
       "      <th>6</th>\n",
       "      <td>0</td>\n",
       "      <td>-0.007530</td>\n",
       "      <td>-0.002996</td>\n",
       "      <td>-0.013742</td>\n",
       "      <td>-0.000737</td>\n",
       "    </tr>\n",
       "    <tr>\n",
       "      <th>7</th>\n",
       "      <td>0</td>\n",
       "      <td>-0.001891</td>\n",
       "      <td>-0.007530</td>\n",
       "      <td>-0.002996</td>\n",
       "      <td>-0.013742</td>\n",
       "    </tr>\n",
       "    <tr>\n",
       "      <th>8</th>\n",
       "      <td>0</td>\n",
       "      <td>0.000000</td>\n",
       "      <td>-0.001891</td>\n",
       "      <td>-0.007530</td>\n",
       "      <td>-0.002996</td>\n",
       "    </tr>\n",
       "    <tr>\n",
       "      <th>9</th>\n",
       "      <td>1</td>\n",
       "      <td>-0.002274</td>\n",
       "      <td>0.000000</td>\n",
       "      <td>-0.001891</td>\n",
       "      <td>-0.007530</td>\n",
       "    </tr>\n",
       "    <tr>\n",
       "      <th>...</th>\n",
       "      <td>...</td>\n",
       "      <td>...</td>\n",
       "      <td>...</td>\n",
       "      <td>...</td>\n",
       "      <td>...</td>\n",
       "    </tr>\n",
       "    <tr>\n",
       "      <th>3933</th>\n",
       "      <td>1</td>\n",
       "      <td>0.006253</td>\n",
       "      <td>-0.001567</td>\n",
       "      <td>-0.000522</td>\n",
       "      <td>0.002612</td>\n",
       "    </tr>\n",
       "    <tr>\n",
       "      <th>3934</th>\n",
       "      <td>0</td>\n",
       "      <td>0.002594</td>\n",
       "      <td>0.006253</td>\n",
       "      <td>-0.001567</td>\n",
       "      <td>-0.000522</td>\n",
       "    </tr>\n",
       "    <tr>\n",
       "      <th>3935</th>\n",
       "      <td>0</td>\n",
       "      <td>-0.002594</td>\n",
       "      <td>0.002594</td>\n",
       "      <td>0.006253</td>\n",
       "      <td>-0.001567</td>\n",
       "    </tr>\n",
       "    <tr>\n",
       "      <th>3936</th>\n",
       "      <td>0</td>\n",
       "      <td>0.000000</td>\n",
       "      <td>-0.002594</td>\n",
       "      <td>0.002594</td>\n",
       "      <td>0.006253</td>\n",
       "    </tr>\n",
       "    <tr>\n",
       "      <th>3937</th>\n",
       "      <td>0</td>\n",
       "      <td>-0.001040</td>\n",
       "      <td>0.000000</td>\n",
       "      <td>-0.002594</td>\n",
       "      <td>0.002594</td>\n",
       "    </tr>\n",
       "  </tbody>\n",
       "</table>\n",
       "<p>3933 rows × 5 columns</p>\n",
       "</div>"
      ],
      "text/plain": [
       "      direction     lag_1     lag_2     lag_3     lag_4\n",
       "5             0 -0.002996 -0.013742 -0.000737 -0.001105\n",
       "6             0 -0.007530 -0.002996 -0.013742 -0.000737\n",
       "7             0 -0.001891 -0.007530 -0.002996 -0.013742\n",
       "8             0  0.000000 -0.001891 -0.007530 -0.002996\n",
       "9             1 -0.002274  0.000000 -0.001891 -0.007530\n",
       "...         ...       ...       ...       ...       ...\n",
       "3933          1  0.006253 -0.001567 -0.000522  0.002612\n",
       "3934          0  0.002594  0.006253 -0.001567 -0.000522\n",
       "3935          0 -0.002594  0.002594  0.006253 -0.001567\n",
       "3936          0  0.000000 -0.002594  0.002594  0.006253\n",
       "3937          0 -0.001040  0.000000 -0.002594  0.002594\n",
       "\n",
       "[3933 rows x 5 columns]"
      ]
     },
     "metadata": {},
     "output_type": "display_data"
    }
   ],
   "source": [
    "#-----------------------------------------------------------\n",
    "# Imprime as cinco linhas finais indicando os “padrões” emergentes nas quatro colunas de recursos\n",
    "#-----------------------------------------------------------\n",
    "\n",
    "#data.round(4).tail() \n",
    "display(temp)"
   ]
  },
  {
   "cell_type": "code",
   "execution_count": 7,
   "id": "5b7bc8b4-fbf0-4d4a-b328-ab6caf85f6a3",
   "metadata": {
    "colab": {
     "base_uri": "https://localhost:8080/"
    },
    "executionInfo": {
     "elapsed": 66,
     "status": "ok",
     "timestamp": 1663717867218,
     "user": {
      "displayName": "Larissa Benevides Vieira",
      "userId": "07170501787859993395"
     },
     "user_tz": 180
    },
    "id": "5b7bc8b4-fbf0-4d4a-b328-ab6caf85f6a3",
    "outputId": "dc9e90dd-234b-4a08-b64b-7220b82b3bdc"
   },
   "outputs": [
    {
     "data": {
      "text/plain": [
       "(3933, 4)"
      ]
     },
     "execution_count": 7,
     "metadata": {},
     "output_type": "execute_result"
    }
   ],
   "source": [
    "temp[cols].shape"
   ]
  },
  {
   "cell_type": "markdown",
   "id": "724f0dfc-af6f-4643-a745-d2fbafc14758",
   "metadata": {
    "id": "724f0dfc-af6f-4643-a745-d2fbafc14758",
    "tags": []
   },
   "source": [
    "# Separação"
   ]
  },
  {
   "cell_type": "code",
   "execution_count": 8,
   "id": "WC0PFm0TgK47",
   "metadata": {
    "colab": {
     "base_uri": "https://localhost:8080/"
    },
    "executionInfo": {
     "elapsed": 4,
     "status": "ok",
     "timestamp": 1663717895328,
     "user": {
      "displayName": "Larissa Benevides Vieira",
      "userId": "07170501787859993395"
     },
     "user_tz": 180
    },
    "id": "WC0PFm0TgK47",
    "outputId": "ffe5bfef-4bb9-4ef3-c589-632a1fceba60"
   },
   "outputs": [
    {
     "name": "stdout",
     "output_type": "stream",
     "text": [
      "(3933,) (3933, 4, 1)\n"
     ]
    },
    {
     "data": {
      "text/plain": [
       "(array([[[-0.00299627],\n",
       "         [-0.0137421 ],\n",
       "         [-0.00073743],\n",
       "         [-0.0011052 ]],\n",
       " \n",
       "        [[-0.00753017],\n",
       "         [-0.00299627],\n",
       "         [-0.0137421 ],\n",
       "         [-0.00073743]],\n",
       " \n",
       "        [[-0.00189142],\n",
       "         [-0.00753017],\n",
       "         [-0.00299627],\n",
       "         [-0.0137421 ]],\n",
       " \n",
       "        ...,\n",
       " \n",
       "        [[-0.00259404],\n",
       "         [ 0.00259404],\n",
       "         [ 0.00625323],\n",
       "         [-0.00156699]],\n",
       " \n",
       "        [[ 0.        ],\n",
       "         [-0.00259404],\n",
       "         [ 0.00259404],\n",
       "         [ 0.00625323]],\n",
       " \n",
       "        [[-0.0010395 ],\n",
       "         [ 0.        ],\n",
       "         [-0.00259404],\n",
       "         [ 0.00259404]]]),\n",
       " array([0, 0, 0, ..., 0, 0, 0]))"
      ]
     },
     "execution_count": 8,
     "metadata": {},
     "output_type": "execute_result"
    }
   ],
   "source": [
    "#-----------------------------------------------------------\n",
    "# Redefine os dados de treinamento e teste para serem 3D (TRAINING_DAYS, TimeSteps, FEATURES)\n",
    "#-----------------------------------------------------------\n",
    "def windowed_df_to_date_X_y(windowed_dataframe):\n",
    "  df_as_np = windowed_dataframe.to_numpy()\n",
    "\n",
    "  Y = df_as_np[:,0]\n",
    "\n",
    "  middle_matrix = df_as_np[:,1:5]\n",
    "\n",
    "  X = middle_matrix.reshape((len(Y), middle_matrix.shape[1], 1))\n",
    "\n",
    "  return X, Y.astype(int)\n",
    "\n",
    "X, y = windowed_df_to_date_X_y(temp)\n",
    "\n",
    "print(y.shape, X.shape)\n",
    "X, y\n",
    "\n"
   ]
  },
  {
   "cell_type": "code",
   "execution_count": 9,
   "id": "rjEkT877j7av",
   "metadata": {
    "colab": {
     "base_uri": "https://localhost:8080/"
    },
    "executionInfo": {
     "elapsed": 449,
     "status": "ok",
     "timestamp": 1663717933673,
     "user": {
      "displayName": "Larissa Benevides Vieira",
      "userId": "07170501787859993395"
     },
     "user_tz": 180
    },
    "id": "rjEkT877j7av",
    "outputId": "cb6a17dc-e72d-4061-c2e3-9804ad1cf09b"
   },
   "outputs": [
    {
     "data": {
      "text/plain": [
       "((3146, 4, 1), (3146,), (393, 4, 1), (393,), (394, 4, 1), (394,))"
      ]
     },
     "execution_count": 9,
     "metadata": {},
     "output_type": "execute_result"
    }
   ],
   "source": [
    "#-----------------------------------------------------------\n",
    "# Define os conjuntos de dados de treinamento, teste e validação\n",
    "#-----------------------------------------------------------\n",
    "q_80 = int(len(X) * .8)\n",
    "q_90 = int(len(X) * .9)\n",
    "\n",
    "X_train, y_train = X[:q_80], y[:q_80]\n",
    "\n",
    "X_val, y_val =  X[q_80:q_90], y[q_80:q_90]\n",
    "X_test, y_test = X[q_90:], y[q_90:]\n",
    "\n",
    "X_train.shape, y_train.shape, X_val.shape, y_val.shape, X_test.shape, y_test.shape"
   ]
  },
  {
   "cell_type": "code",
   "execution_count": null,
   "id": "87f0bfe9-248d-485a-a832-bd5d078c4a64",
   "metadata": {
    "id": "87f0bfe9-248d-485a-a832-bd5d078c4a64"
   },
   "outputs": [],
   "source": [
    "#-----------------------------------------------------------\n",
    "# Importa o pacote TensorFlow.\n",
    "#-----------------------------------------------------------\n",
    "import tensorflow as tf\n",
    "#-----------------------------------------------------------\n",
    "# Importa o objeto de modelo necessário do Keras\n",
    "#-----------------------------------------------------------\n",
    "from keras.models import Sequential\n",
    "#-----------------------------------------------------------\n",
    "# Importa o objeto de camada relevante do Keras\n",
    "#-----------------------------------------------------------\n",
    "from keras.layers import Dense, Flatten,Dropout, LSTM, Embedding, Input\n",
    "\n",
    "# Importa Layer weight regularizers\n",
    "# https://keras.io/api/layers/regularizers/\n",
    "#-----------------------------------------------------------\n",
    "from tensorflow import keras\n",
    "\n",
    "from keras import layers\n",
    "\n",
    "from tensorflow.keras.optimizers import Adam, RMSprop\n",
    "#-----------------------------------------------------------\n",
    "# Otimizador https://keras.io/api/optimizers/\n",
    "#-----------------------------------------------------------\n",
    "optimizer = Adam(learning_rate=0.0001)"
   ]
  },
  {
   "cell_type": "code",
   "execution_count": null,
   "id": "77293ce4-58d6-4d5f-b70d-0a8e24ec5fa2",
   "metadata": {
    "id": "77293ce4-58d6-4d5f-b70d-0a8e24ec5fa2"
   },
   "outputs": [],
   "source": [
    "## Definir o que é isso e para que server?\n",
    "import random\n",
    "\n",
    "def set_seeds(seed=100):\n",
    "    random.seed(seed)\n",
    "    np.random.seed(seed)\n",
    "    tf.random.set_seed(100)"
   ]
  },
  {
   "cell_type": "code",
   "execution_count": null,
   "id": "d4aad7af-ac5b-45ca-b2cf-e509af2139f3",
   "metadata": {
    "colab": {
     "base_uri": "https://localhost:8080/"
    },
    "executionInfo": {
     "elapsed": 560,
     "status": "ok",
     "timestamp": 1663717867729,
     "user": {
      "displayName": "Larissa Benevides Vieira",
      "userId": "07170501787859993395"
     },
     "user_tz": 180
    },
    "id": "d4aad7af-ac5b-45ca-b2cf-e509af2139f3",
    "outputId": "4a8410bd-76db-41e4-eaba-823592fbe0f3"
   },
   "outputs": [
    {
     "name": "stdout",
     "output_type": "stream",
     "text": [
      "Model: \"sequential\"\n",
      "_________________________________________________________________\n",
      " Layer (type)                Output Shape              Param #   \n",
      "=================================================================\n",
      " lstm (LSTM)                 (None, 36)                5472      \n",
      "                                                                 \n",
      " dense (Dense)               (None, 1)                 37        \n",
      "                                                                 \n",
      "=================================================================\n",
      "Total params: 5,509\n",
      "Trainable params: 5,509\n",
      "Non-trainable params: 0\n",
      "_________________________________________________________________\n"
     ]
    }
   ],
   "source": [
    "set_seeds()\n",
    "\n",
    "#-----------------------------------------------------------\n",
    "# Um modelo Sequencial é instanciado.\n",
    "#-----------------------------------------------------------\n",
    "model=Sequential()\n",
    "\n",
    "#-----------------------------------------------------------\n",
    "# As camadas ocultas e a camada de saída são definidas.\n",
    "#-----------------------------------------------------------\n",
    "# Se cada amostra de entrada tiver 4 passos de tempo, onde cada passo de tempo \n",
    "# consiste em 1 valor de recurso, então a forma de entrada seria (4, 1).\n",
    "# https://stackoverflow.com/questions/61153831/how-to-properly-set-the-input-shape-of-lstm-layers\n",
    "# O argumento input_shape recebe uma tupla de dois valores que definem o número de etapas de tempo e recursos.\n",
    "# https://www.youtube.com/watch?v=c0k-YLQGKjY&t=546s\n",
    "# https://www.youtube.com/watch?v=S8tpSG6Q2H0\n",
    "\n",
    "'''\n",
    "model=Sequential(\n",
    "                   [layers.Input((lags, 1)),\n",
    "                    layers.LSTM(20),\n",
    "                    layers.Dense(1,activation='sigmoid')]\n",
    "\n",
    ")\n",
    "'''\n",
    "\n",
    "\n",
    "\n",
    "model.add(LSTM(36 ,activation = 'relu',input_shape=(lags,1)))\n",
    "model.add(Dense(1, activation='sigmoid'))\n",
    "\n",
    "'''\n",
    "model.add(LSTM(15 ,input_shape=(1,lags),return_sequences = True))\n",
    "model.add(Dense(64, activation='relu'))\n",
    "model.add(Dense(64, activation='relu'))\n",
    "#model.add(Flatten()) #https://stackoverflow.com/questions/67952149/binary-classification-model-predicting-non-binary-what-problem-is-with-data-siz\n",
    "model.add(Dense(1, activation='sigmoid'))\n",
    "\n",
    "\n",
    "model.add(LSTM(25, input_shape=(1, lags),return_sequences=True))\n",
    "model.add(LSTM(20,return_sequences=True))\n",
    "#model.add(LSTM(20,return_sequences=True))\n",
    "#model.add(LSTM(15,return_sequences=True))\n",
    "#model.add(LSTM(15,return_sequences=True))\n",
    "model.add(Dense(1, activation='sigmoid'))\n",
    "'''\n",
    "#-----------------------------------------------------------\n",
    "# Compila o objeto de modelo Sequencial para classificação.\n",
    "#-----------------------------------------------------------\n",
    "# https://keras.io/api/losses/probabilistic_losses/#binary_crossentropy-function\n",
    "# https://keras.io/api/losses/\n",
    "# model.compile(optimizer= keras.optimizers.Adam(learning_rate=0.0001),\n",
    "model.compile(optimizer= optimizer,\n",
    " loss='binary_crossentropy',\n",
    "# https://machinelearningmastery.com/how-to-choose-loss-functions-when-training-deep-learning-neural-networks/\n",
    "# https://keras.io/api/metrics/\n",
    "metrics=['accuracy'])\n",
    "model.summary()\n"
   ]
  },
  {
   "cell_type": "code",
   "execution_count": null,
   "id": "1ebd3e75-efe5-46ad-b0aa-00d20640879b",
   "metadata": {
    "colab": {
     "base_uri": "https://localhost:8080/"
    },
    "executionInfo": {
     "elapsed": 24357,
     "status": "ok",
     "timestamp": 1663717892078,
     "user": {
      "displayName": "Larissa Benevides Vieira",
      "userId": "07170501787859993395"
     },
     "user_tz": 180
    },
    "id": "1ebd3e75-efe5-46ad-b0aa-00d20640879b",
    "outputId": "7bf3537a-435d-48a0-8be1-f8c2274c0486"
   },
   "outputs": [
    {
     "name": "stdout",
     "output_type": "stream",
     "text": [
      "CPU times: user 26.8 s, sys: 1.21 s, total: 28 s\n",
      "Wall time: 24 s\n"
     ]
    },
    {
     "data": {
      "text/plain": [
       "<keras.callbacks.History at 0x7fa623354290>"
      ]
     },
     "execution_count": 15,
     "metadata": {},
     "output_type": "execute_result"
    }
   ],
   "source": [
    "%%time\n",
    "#-----------------------------------------------------------\n",
    "# Ajusta o modelo ao conjunto de dados de treinamento.\n",
    "#-----------------------------------------------------------\n",
    "# model.fit(training_data[cols], # Lags\n",
    "#    training_data['direction'], # 0 e 1\n",
    "#    epochs=250, verbose=False, batch_size=100,\n",
    "#    validation_split=0.5, shuffle=False)\n",
    "\n",
    "model.fit(X_train, # Lags\n",
    "    y_train, # 0 e 1\n",
    "    epochs=50, verbose=False,\n",
    "#-----------------------------------------------------------\n",
    "# Especificar um conjunto de dados de validação separado enquanto \n",
    "#ajusta seu modelo que também pode ser avaliado usando a mesma perda e métricas.\n",
    "# Isso pode ser feito definindo o argumento validation_split em fit() \n",
    "#para usar uma parte dos dados de treinamento como um conjunto de dados de validação\n",
    "#-----------------------------------------------------------\n",
    "   #validation_data=(X_val, y_val),\n",
    "    validation_split=0.2, #Gera conjunto de dados de validação aleatórios\n",
    "          shuffle=False)"
   ]
  },
  {
   "cell_type": "code",
   "execution_count": null,
   "id": "092822a3-c34c-4d1b-93cc-a9f869e98331",
   "metadata": {
    "colab": {
     "base_uri": "https://localhost:8080/",
     "height": 206
    },
    "executionInfo": {
     "elapsed": 39,
     "status": "ok",
     "timestamp": 1663717892081,
     "user": {
      "displayName": "Larissa Benevides Vieira",
      "userId": "07170501787859993395"
     },
     "user_tz": 180
    },
    "id": "092822a3-c34c-4d1b-93cc-a9f869e98331",
    "outputId": "226953c1-355a-4bdb-eeb7-69c1b9baaedf"
   },
   "outputs": [
    {
     "data": {
      "text/html": [
       "\n",
       "  <div id=\"df-c39d9e27-8f99-4146-98ae-4d79f5eaee14\">\n",
       "    <div class=\"colab-df-container\">\n",
       "      <div>\n",
       "<style scoped>\n",
       "    .dataframe tbody tr th:only-of-type {\n",
       "        vertical-align: middle;\n",
       "    }\n",
       "\n",
       "    .dataframe tbody tr th {\n",
       "        vertical-align: top;\n",
       "    }\n",
       "\n",
       "    .dataframe thead th {\n",
       "        text-align: right;\n",
       "    }\n",
       "</style>\n",
       "<table border=\"1\" class=\"dataframe\">\n",
       "  <thead>\n",
       "    <tr style=\"text-align: right;\">\n",
       "      <th></th>\n",
       "      <th>loss</th>\n",
       "      <th>accuracy</th>\n",
       "      <th>val_loss</th>\n",
       "      <th>val_accuracy</th>\n",
       "    </tr>\n",
       "  </thead>\n",
       "  <tbody>\n",
       "    <tr>\n",
       "      <th>0</th>\n",
       "      <td>0.693152</td>\n",
       "      <td>0.486863</td>\n",
       "      <td>0.693126</td>\n",
       "      <td>0.526232</td>\n",
       "    </tr>\n",
       "    <tr>\n",
       "      <th>1</th>\n",
       "      <td>0.693145</td>\n",
       "      <td>0.502389</td>\n",
       "      <td>0.693106</td>\n",
       "      <td>0.524642</td>\n",
       "    </tr>\n",
       "    <tr>\n",
       "      <th>2</th>\n",
       "      <td>0.693142</td>\n",
       "      <td>0.504777</td>\n",
       "      <td>0.693088</td>\n",
       "      <td>0.524642</td>\n",
       "    </tr>\n",
       "    <tr>\n",
       "      <th>3</th>\n",
       "      <td>0.693139</td>\n",
       "      <td>0.504777</td>\n",
       "      <td>0.693071</td>\n",
       "      <td>0.524642</td>\n",
       "    </tr>\n",
       "    <tr>\n",
       "      <th>4</th>\n",
       "      <td>0.693137</td>\n",
       "      <td>0.504777</td>\n",
       "      <td>0.693058</td>\n",
       "      <td>0.524642</td>\n",
       "    </tr>\n",
       "  </tbody>\n",
       "</table>\n",
       "</div>\n",
       "      <button class=\"colab-df-convert\" onclick=\"convertToInteractive('df-c39d9e27-8f99-4146-98ae-4d79f5eaee14')\"\n",
       "              title=\"Convert this dataframe to an interactive table.\"\n",
       "              style=\"display:none;\">\n",
       "        \n",
       "  <svg xmlns=\"http://www.w3.org/2000/svg\" height=\"24px\"viewBox=\"0 0 24 24\"\n",
       "       width=\"24px\">\n",
       "    <path d=\"M0 0h24v24H0V0z\" fill=\"none\"/>\n",
       "    <path d=\"M18.56 5.44l.94 2.06.94-2.06 2.06-.94-2.06-.94-.94-2.06-.94 2.06-2.06.94zm-11 1L8.5 8.5l.94-2.06 2.06-.94-2.06-.94L8.5 2.5l-.94 2.06-2.06.94zm10 10l.94 2.06.94-2.06 2.06-.94-2.06-.94-.94-2.06-.94 2.06-2.06.94z\"/><path d=\"M17.41 7.96l-1.37-1.37c-.4-.4-.92-.59-1.43-.59-.52 0-1.04.2-1.43.59L10.3 9.45l-7.72 7.72c-.78.78-.78 2.05 0 2.83L4 21.41c.39.39.9.59 1.41.59.51 0 1.02-.2 1.41-.59l7.78-7.78 2.81-2.81c.8-.78.8-2.07 0-2.86zM5.41 20L4 18.59l7.72-7.72 1.47 1.35L5.41 20z\"/>\n",
       "  </svg>\n",
       "      </button>\n",
       "      \n",
       "  <style>\n",
       "    .colab-df-container {\n",
       "      display:flex;\n",
       "      flex-wrap:wrap;\n",
       "      gap: 12px;\n",
       "    }\n",
       "\n",
       "    .colab-df-convert {\n",
       "      background-color: #E8F0FE;\n",
       "      border: none;\n",
       "      border-radius: 50%;\n",
       "      cursor: pointer;\n",
       "      display: none;\n",
       "      fill: #1967D2;\n",
       "      height: 32px;\n",
       "      padding: 0 0 0 0;\n",
       "      width: 32px;\n",
       "    }\n",
       "\n",
       "    .colab-df-convert:hover {\n",
       "      background-color: #E2EBFA;\n",
       "      box-shadow: 0px 1px 2px rgba(60, 64, 67, 0.3), 0px 1px 3px 1px rgba(60, 64, 67, 0.15);\n",
       "      fill: #174EA6;\n",
       "    }\n",
       "\n",
       "    [theme=dark] .colab-df-convert {\n",
       "      background-color: #3B4455;\n",
       "      fill: #D2E3FC;\n",
       "    }\n",
       "\n",
       "    [theme=dark] .colab-df-convert:hover {\n",
       "      background-color: #434B5C;\n",
       "      box-shadow: 0px 1px 3px 1px rgba(0, 0, 0, 0.15);\n",
       "      filter: drop-shadow(0px 1px 2px rgba(0, 0, 0, 0.3));\n",
       "      fill: #FFFFFF;\n",
       "    }\n",
       "  </style>\n",
       "\n",
       "      <script>\n",
       "        const buttonEl =\n",
       "          document.querySelector('#df-c39d9e27-8f99-4146-98ae-4d79f5eaee14 button.colab-df-convert');\n",
       "        buttonEl.style.display =\n",
       "          google.colab.kernel.accessAllowed ? 'block' : 'none';\n",
       "\n",
       "        async function convertToInteractive(key) {\n",
       "          const element = document.querySelector('#df-c39d9e27-8f99-4146-98ae-4d79f5eaee14');\n",
       "          const dataTable =\n",
       "            await google.colab.kernel.invokeFunction('convertToInteractive',\n",
       "                                                     [key], {});\n",
       "          if (!dataTable) return;\n",
       "\n",
       "          const docLinkHtml = 'Like what you see? Visit the ' +\n",
       "            '<a target=\"_blank\" href=https://colab.research.google.com/notebooks/data_table.ipynb>data table notebook</a>'\n",
       "            + ' to learn more about interactive tables.';\n",
       "          element.innerHTML = '';\n",
       "          dataTable['output_type'] = 'display_data';\n",
       "          await google.colab.output.renderOutput(dataTable, element);\n",
       "          const docLink = document.createElement('div');\n",
       "          docLink.innerHTML = docLinkHtml;\n",
       "          element.appendChild(docLink);\n",
       "        }\n",
       "      </script>\n",
       "    </div>\n",
       "  </div>\n",
       "  "
      ],
      "text/plain": [
       "       loss  accuracy  val_loss  val_accuracy\n",
       "0  0.693152  0.486863  0.693126      0.526232\n",
       "1  0.693145  0.502389  0.693106      0.524642\n",
       "2  0.693142  0.504777  0.693088      0.524642\n",
       "3  0.693139  0.504777  0.693071      0.524642\n",
       "4  0.693137  0.504777  0.693058      0.524642"
      ]
     },
     "execution_count": 16,
     "metadata": {},
     "output_type": "execute_result"
    }
   ],
   "source": [
    "res = pd.DataFrame(model.history.history)\n",
    "model.history.history\n",
    "res.head()\n",
    "#display(res)"
   ]
  },
  {
   "cell_type": "code",
   "execution_count": null,
   "id": "b06d1d5e-ff2e-42d5-af2b-f5610ba22f7e",
   "metadata": {
    "colab": {
     "base_uri": "https://localhost:8080/",
     "height": 374
    },
    "executionInfo": {
     "elapsed": 35,
     "status": "ok",
     "timestamp": 1663717892083,
     "user": {
      "displayName": "Larissa Benevides Vieira",
      "userId": "07170501787859993395"
     },
     "user_tz": 180
    },
    "id": "b06d1d5e-ff2e-42d5-af2b-f5610ba22f7e",
    "outputId": "13c06fdf-3603-4d52-c3fa-cd80c3dfaa9a"
   },
   "outputs": [
    {
     "data": {
      "image/png": "[encoded data removed]",
      "text/plain": [
       "<Figure size 720x432 with 1 Axes>"
      ]
     },
     "metadata": {
      "needs_background": "light"
     },
     "output_type": "display_data"
    }
   ],
   "source": [
    "#-----------------------------------------------------------\n",
    "# Precisão do classificador LSTM nos dados de treinamento e validação por etapa de treinamento\n",
    "#-----------------------------------------------------------\n",
    "\n",
    "res[['accuracy', 'val_accuracy']].plot(figsize=(10, 6), style='--');"
   ]
  },
  {
   "cell_type": "code",
   "execution_count": null,
   "id": "6b3b8d1a-e20b-41ca-8a70-17e79556c5a6",
   "metadata": {
    "colab": {
     "base_uri": "https://localhost:8080/",
     "height": 374
    },
    "executionInfo": {
     "elapsed": 803,
     "status": "ok",
     "timestamp": 1663717892855,
     "user": {
      "displayName": "Larissa Benevides Vieira",
      "userId": "07170501787859993395"
     },
     "user_tz": 180
    },
    "id": "6b3b8d1a-e20b-41ca-8a70-17e79556c5a6",
    "outputId": "5c202a5b-5dec-4a49-f43e-d7ea0cf36861"
   },
   "outputs": [
    {
     "data": {
      "image/png": "[encoded data removed]",
      "text/plain": [
       "<Figure size 720x432 with 1 Axes>"
      ]
     },
     "metadata": {
      "needs_background": "light"
     },
     "output_type": "display_data"
    }
   ],
   "source": [
    "res[['loss', 'val_loss']].plot(figsize=(10, 6), style='--');"
   ]
  },
  {
   "cell_type": "code",
   "execution_count": null,
   "id": "wINdqucwQGS6",
   "metadata": {
    "colab": {
     "base_uri": "https://localhost:8080/",
     "height": 174
    },
    "executionInfo": {
     "elapsed": 32,
     "status": "ok",
     "timestamp": 1663717892858,
     "user": {
      "displayName": "Larissa Benevides Vieira",
      "userId": "07170501787859993395"
     },
     "user_tz": 180
    },
    "id": "wINdqucwQGS6",
    "outputId": "42850076-bb34-4cb5-bc54-7b791874ccdd"
   },
   "outputs": [
    {
     "data": {
      "application/vnd.google.colaboratory.intrinsic+json": {
       "type": "string"
      },
      "text/plain": [
       "\"\\n#-----------------------------------------------------------\\n# Avaliar modelo nos dados de Teste (Dados de Testes não utilizados no treinamento)\\n# A avaliação é um processo durante o desenvolvimento do modelo para \\n# verificar se o modelo é o mais adequado para um determinado problema \\n# e dados correspondentes. O modelo Keras fornece uma função, avaliar, \\n# que faz a avaliação do modelo. Tem três argumentos principais,\\n# - Dados de teste\\n# - Rótulo de dados de teste\\n# - verboso - verdadeiro ou falso\\n# https://www.tutorialspoint.com/keras/keras_model_evaluation_and_prediction.htm\\n# https://www.activestate.com/resources/quick-reads/how-to-use-a-model-to-do-predictions-with-keras/ \\n#-----------------------------------------------------------\\nmodel.evaluate(X_test, y_test)\\n#model.evaluate(X_test, Y_test)\\n\\n#-----------------------------------------------------------\\n# Avaliar modelo nos dados de Teste (Dados de Testes não utilizados no treinamento)\\n# A previsão é a etapa final e nosso resultado esperado da geração do modelo. \\n# Keras fornece um método de previsão para obter a previsão do modelo treinado\\n# https://www.tutorialspoint.com/keras/keras_model_evaluation_and_prediction.htm\\n# https://www.activestate.com/resources/quick-reads/how-to-use-a-model-to-do-predictions-with-keras/ \\n#-----------------------------------------------------------\\npred = model.predict(X_test) \\n#pred = model.predict(X_test) \\n#print(pred)\\n\\n\\n#-----------------------------------------------------------\\n# Interpretação da saida do modelo\\n# https://datascience.stackexchange.com/questions/65995/tensorflow-sigmoid-activation-function-as-output-layer-value-interpretation\\n#-----------------------------------------------------------\\npred = np.where(model.predict(X_test) > 0.5, 1, 0)\\n#pred = np.where(model.predict(X_test) > 0.5, 1, 0)\\n\\n#print(pred.shape)\\n#print(pred)\\npred = pred.reshape(len(pred),1)\\n#print(pred.shape)\\n#print(pred)\\nvalores_preditos = [] # predicao\\nvalores_reais = [] # direcao\\nfor predicao, direcao in zip(pred, y_test):\\n    valores_preditos.append(int(predicao))\\n    valores_reais.append(int(direcao))\\n    #print('Predição: {} / Direção: {}'.format(int(predicao), int(direcao)))\\n    \""
      ]
     },
     "execution_count": 19,
     "metadata": {},
     "output_type": "execute_result"
    }
   ],
   "source": [
    "# '''DADOS DE TESTES'''\n",
    "'''\n",
    "#-----------------------------------------------------------\n",
    "# Avaliar modelo nos dados de Teste (Dados de Testes não utilizados no treinamento)\n",
    "# A avaliação é um processo durante o desenvolvimento do modelo para \n",
    "# verificar se o modelo é o mais adequado para um determinado problema \n",
    "# e dados correspondentes. O modelo Keras fornece uma função, avaliar, \n",
    "# que faz a avaliação do modelo. Tem três argumentos principais,\n",
    "# - Dados de teste\n",
    "# - Rótulo de dados de teste\n",
    "# - verboso - verdadeiro ou falso\n",
    "# https://www.tutorialspoint.com/keras/keras_model_evaluation_and_prediction.htm\n",
    "# https://www.activestate.com/resources/quick-reads/how-to-use-a-model-to-do-predictions-with-keras/ \n",
    "#-----------------------------------------------------------\n",
    "model.evaluate(X_test, y_test)\n",
    "#model.evaluate(X_test, Y_test)\n",
    "\n",
    "#-----------------------------------------------------------\n",
    "# Avaliar modelo nos dados de Teste (Dados de Testes não utilizados no treinamento)\n",
    "# A previsão é a etapa final e nosso resultado esperado da geração do modelo. \n",
    "# Keras fornece um método de previsão para obter a previsão do modelo treinado\n",
    "# https://www.tutorialspoint.com/keras/keras_model_evaluation_and_prediction.htm\n",
    "# https://www.activestate.com/resources/quick-reads/how-to-use-a-model-to-do-predictions-with-keras/ \n",
    "#-----------------------------------------------------------\n",
    "pred = model.predict(X_test) \n",
    "#pred = model.predict(X_test) \n",
    "#print(pred)\n",
    "\n",
    "\n",
    "#-----------------------------------------------------------\n",
    "# Interpretação da saida do modelo\n",
    "# https://datascience.stackexchange.com/questions/65995/tensorflow-sigmoid-activation-function-as-output-layer-value-interpretation\n",
    "#-----------------------------------------------------------\n",
    "pred = np.where(model.predict(X_test) > 0.5, 1, 0)\n",
    "#pred = np.where(model.predict(X_test) > 0.5, 1, 0)\n",
    "\n",
    "#print(pred.shape)\n",
    "#print(pred)\n",
    "pred = pred.reshape(len(pred),1)\n",
    "#print(pred.shape)\n",
    "#print(pred)\n",
    "valores_preditos = [] # predicao\n",
    "valores_reais = [] # direcao\n",
    "for predicao, direcao in zip(pred, y_test):\n",
    "    valores_preditos.append(int(predicao))\n",
    "    valores_reais.append(int(direcao))\n",
    "    #print('Predição: {} / Direção: {}'.format(int(predicao), int(direcao)))\n",
    "    '''"
   ]
  },
  {
   "cell_type": "code",
   "execution_count": null,
   "id": "7cb7fec3-7fd5-4bbd-830b-94e9b48ecc6d",
   "metadata": {
    "colab": {
     "base_uri": "https://localhost:8080/"
    },
    "executionInfo": {
     "elapsed": 461,
     "status": "ok",
     "timestamp": 1663717893291,
     "user": {
      "displayName": "Larissa Benevides Vieira",
      "userId": "07170501787859993395"
     },
     "user_tz": 180
    },
    "id": "7cb7fec3-7fd5-4bbd-830b-94e9b48ecc6d",
    "outputId": "18ddd9fa-81b4-476a-cbe1-752d2a268dcd"
   },
   "outputs": [
    {
     "name": "stdout",
     "output_type": "stream",
     "text": [
      "99/99 [==============================] - 0s 2ms/step - loss: 0.6930 - accuracy: 0.5088\n"
     ]
    }
   ],
   "source": [
    "\n",
    "'''DADOS DE TREINAMENTO'''\n",
    "\n",
    "#-----------------------------------------------------------\n",
    "# Avaliar modelo nos dados de Teste (Dados de Testes não utilizados no treinamento)\n",
    "# A avaliação é um processo durante o desenvolvimento do modelo para \n",
    "# verificar se o modelo é o mais adequado para um determinado problema \n",
    "# e dados correspondentes. O modelo Keras fornece uma função, avaliar, \n",
    "# que faz a avaliação do modelo. Tem três argumentos principais,\n",
    "# - Dados de teste\n",
    "# - Rótulo de dados de teste\n",
    "# - verboso - verdadeiro ou falso\n",
    "# https://www.tutorialspoint.com/keras/keras_model_evaluation_and_prediction.htm\n",
    "# https://www.activestate.com/resources/quick-reads/how-to-use-a-model-to-do-predictions-with-keras/ \n",
    "#-----------------------------------------------------------\n",
    "model.evaluate(X_train, y_train)\n",
    "\n",
    "\n",
    "#-----------------------------------------------------------\n",
    "# Avaliar modelo nos dados de Teste (Dados de Testes não utilizados no treinamento)\n",
    "# A previsão é a etapa final e nosso resultado esperado da geração do modelo. \n",
    "# Keras fornece um método de previsão para obter a previsão do modelo treinado\n",
    "# https://www.tutorialspoint.com/keras/keras_model_evaluation_and_prediction.htm\n",
    "# https://www.activestate.com/resources/quick-reads/how-to-use-a-model-to-do-predictions-with-keras/ \n",
    "#-----------------------------------------------------------\n",
    "pred = model.predict(X_train) \n",
    "#pred = model.predict(X_train) \n",
    "#print(pred)\n",
    "\n",
    "\n",
    "#-----------------------------------------------------------\n",
    "# Interpretação da saida do modelo\n",
    "# https://datascience.stackexchange.com/questions/65995/tensorflow-sigmoid-activation-function-as-output-layer-value-interpretation\n",
    "#-----------------------------------------------------------\n",
    "pred = np.where(model.predict(X_train) > 0.5, 1, 0)\n",
    "\n",
    "#pred = np.where(model.predict(X_test) > 0.5, 1, 0)\n",
    "\n",
    "\n",
    "#print(pred.shape)\n",
    "#pred.flatten()\n",
    "#print(pred)\n",
    "pred = pred.reshape(len(pred),1)\n",
    "#print(pred.shape)\n",
    "#print(pred)\n",
    "valores_preditos = [] # predicao\n",
    "valores_reais = [] # direcao\n",
    "# for predicao, direcao in zip(pred, Y_test):\n",
    "for predicao, direcao in zip(pred, y_train):\n",
    "    valores_preditos.append(int(predicao))\n",
    "    valores_reais.append(int(direcao))\n",
    "    #print('Predição: {} / Direção: {}'.format(int(predicao), int(direcao)))\n",
    "\n"
   ]
  },
  {
   "cell_type": "code",
   "execution_count": null,
   "id": "32df0414-ffa9-4143-a39b-6806e29ab4f5",
   "metadata": {
    "colab": {
     "base_uri": "https://localhost:8080/"
    },
    "executionInfo": {
     "elapsed": 7,
     "status": "ok",
     "timestamp": 1663717893292,
     "user": {
      "displayName": "Larissa Benevides Vieira",
      "userId": "07170501787859993395"
     },
     "user_tz": 180
    },
    "id": "32df0414-ffa9-4143-a39b-6806e29ab4f5",
    "outputId": "2f2d59d8-a847-4e33-fbec-04c205e898bc"
   },
   "outputs": [
    {
     "data": {
      "text/plain": [
       "array([[   0, 1543],\n",
       "       [   0, 1598]])"
      ]
     },
     "execution_count": 21,
     "metadata": {},
     "output_type": "execute_result"
    }
   ],
   "source": [
    "#-----------------------------------------------------------\n",
    "# Matriz de Confusão\n",
    "# Fonte: https://medium.com/data-hackers/entendendo-o-que-%C3%A9-matriz-de-confus%C3%A3o-com-python-114e683ec509\n",
    "#-----------------------------------------------------------\n",
    "\n",
    "import numpy as np\n",
    "\n",
    "# 1 para subida, 0 para descida\n",
    "# print(valores_preditivos)\n",
    "# print(valores_reais)\n",
    "\n",
    "def get_confusion_matrix(reais, preditos, labels):\n",
    "    \"\"\"\n",
    "    Uma função que retorna a matriz de confusão para uma classificação binária\n",
    "    \n",
    "    Args:\n",
    "        reais (list): lista de valores reais\n",
    "        preditos (list): lista de valores preditos pelo modelos\n",
    "        labels (list): lista de labels a serem avaliados.\n",
    "            É importante que ela esteja presente, pois usaremos ela para entender\n",
    "            quem é a classe positiva e quem é a classe negativa\n",
    "    \n",
    "    Returns:\n",
    "        Um numpy.array, no formato:\n",
    "            numpy.array([\n",
    "                [ tp, fp ],\n",
    "                [ fn, tn ]\n",
    "            ])\n",
    "    \"\"\"\n",
    "    # não implementado\n",
    "    if len(labels) > 2:\n",
    "        return None\n",
    "\n",
    "    if len(reais) != len(preditos):\n",
    "        return None\n",
    "    \n",
    "    # considerando a primeira classe como a positiva, e a segunda a negativa\n",
    "    true_class = labels[0]\n",
    "    negative_class = labels[1]\n",
    "\n",
    "    # valores preditos corretamente\n",
    "    tp = 0\n",
    "    tn = 0\n",
    "    \n",
    "    # valores preditos incorretamente\n",
    "    fp = 0\n",
    "    fn = 0\n",
    "    \n",
    "    for (indice, v_real) in enumerate(reais):\n",
    "        v_predito = preditos[indice]\n",
    "\n",
    "        # se trata de um valor real da classe positiva\n",
    "        if v_real == true_class:\n",
    "            tp += 1 if v_predito == v_real else 0\n",
    "            fp += 1 if v_predito != v_real else 0\n",
    "        else:\n",
    "            tn += 1 if v_predito == v_real else 0\n",
    "            fn += 1 if v_predito != v_real else 0\n",
    "    \n",
    "    return np.array([\n",
    "        # valores da classe positiva\n",
    "        [ tp, fp ],\n",
    "        # valores da classe negativa\n",
    "        [ fn, tn ]\n",
    "    ])\n",
    "\n",
    "get_confusion_matrix(reais=valores_reais, preditos=valores_preditos, labels=[1,0])\n",
    "\n",
    "\n",
    "#Valores de Teste\n",
    "\n",
    "                    # Valores preditos\n",
    "#                      Subida , Descida \n",
    "# Valores reais\n",
    "#                Subida  [355, 435],\n",
    "#                Descida [412, 498]\n",
    "\n",
    "\n",
    "# Previu Subida 355 vezes corretamente\n",
    "# Previu Descida 498 vezes corretamente\n",
    "# Previu Subida 435 vez incorretamente\n",
    "# Previu Descida 412 vezes incorretamente \n",
    "\n",
    "\n",
    "#Valores de Treinamento\n",
    "\n",
    "                    # Valores preditos\n",
    "#                      Subida , Descida \n",
    "# Valores reais\n",
    "#                Subida  [903, 1039],\n",
    "#                Descida [881, 1123]\n",
    "\n",
    "# Previu Subida 903 vezes corretamente\n",
    "# Previu Descida 1123 vezes corretamente\n",
    "# Previu Subida 1039 vez incorretamente\n",
    "# Previu Descida 881 vezes incorretamente "
   ]
  },
  {
   "cell_type": "code",
   "execution_count": null,
   "id": "7e99be30-a77b-4b2d-b6b4-bb677d1e4489",
   "metadata": {
    "colab": {
     "base_uri": "https://localhost:8080/"
    },
    "executionInfo": {
     "elapsed": 458,
     "status": "ok",
     "timestamp": 1663717893746,
     "user": {
      "displayName": "Larissa Benevides Vieira",
      "userId": "07170501787859993395"
     },
     "user_tz": 180
    },
    "id": "7e99be30-a77b-4b2d-b6b4-bb677d1e4489",
    "outputId": "38a15a54-8276-4101-d0e4-1822e8504926"
   },
   "outputs": [
    {
     "name": "stdout",
     "output_type": "stream",
     "text": [
      "              precision    recall  f1-score   support\n",
      "\n",
      "           0       0.51      1.00      0.67      1598\n",
      "           1       0.00      0.00      0.00      1543\n",
      "\n",
      "    accuracy                           0.51      3141\n",
      "   macro avg       0.25      0.50      0.34      3141\n",
      "weighted avg       0.26      0.51      0.34      3141\n",
      "\n"
     ]
    },
    {
     "name": "stderr",
     "output_type": "stream",
     "text": [
      "/usr/local/lib/python3.7/dist-packages/sklearn/metrics/_classification.py:1318: UndefinedMetricWarning: Precision and F-score are ill-defined and being set to 0.0 in labels with no predicted samples. Use `zero_division` parameter to control this behavior.\n",
      "  _warn_prf(average, modifier, msg_start, len(result))\n",
      "/usr/local/lib/python3.7/dist-packages/sklearn/metrics/_classification.py:1318: UndefinedMetricWarning: Precision and F-score are ill-defined and being set to 0.0 in labels with no predicted samples. Use `zero_division` parameter to control this behavior.\n",
      "  _warn_prf(average, modifier, msg_start, len(result))\n",
      "/usr/local/lib/python3.7/dist-packages/sklearn/metrics/_classification.py:1318: UndefinedMetricWarning: Precision and F-score are ill-defined and being set to 0.0 in labels with no predicted samples. Use `zero_division` parameter to control this behavior.\n",
      "  _warn_prf(average, modifier, msg_start, len(result))\n"
     ]
    }
   ],
   "source": [
    "# Fonte: https://scikit-learn.org/stable/modules/generated/sklearn.metrics.classification_report.html#sklearn.metrics.classification_report\n",
    "\n",
    "from sklearn.metrics import classification_report\n",
    "\n",
    "print(classification_report(valores_reais, valores_preditos, labels=[0, 1]))"
   ]
  }
 ],
 "metadata": {
  "colab": {
   "collapsed_sections": [
    "659326fd-f437-41bf-b60e-8c407a5a25e5"
   ],
   "provenance": []
  },
  "kernelspec": {
   "display_name": "Python 3",
   "language": "python",
   "name": "python3"
  },
  "language_info": {
   "codemirror_mode": {
    "name": "ipython",
    "version": 3
   },
   "file_extension": ".py",
   "mimetype": "text/x-python",
   "name": "python",
   "nbconvert_exporter": "python",
   "pygments_lexer": "ipython3",
   "version": "3.8.10"
  }
 },
 "nbformat": 4,
 "nbformat_minor": 5
}
