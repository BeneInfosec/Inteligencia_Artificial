{
 "cells": [
  {
   "cell_type": "markdown",
   "metadata": {},
   "source": [
    "# Grid Search de todos os hyperparâmetros juntos\n",
    "Fonte: https://machinelearningmastery.com/grid-search-hyperparameters-deep-learning-models-python-keras/"
   ]
  },
  {
   "cell_type": "raw",
   "metadata": {
    "colab": {
     "base_uri": "https://localhost:8080/"
    },
    "executionInfo": {
     "elapsed": 4480,
     "status": "ok",
     "timestamp": 1664888243885,
     "user": {
      "displayName": "Larissa Benevides Vieira",
      "userId": "07170501787859993395"
     },
     "user_tz": 180
    },
    "id": "tA--Fac6hF5m",
    "outputId": "d11c8fc8-ab42-4eea-ee3d-5f025a4cf1de"
   },
   "source": [
    "!pip install scikeras"
   ]
  },
  {
   "cell_type": "code",
   "execution_count": 2,
   "metadata": {
    "executionInfo": {
     "elapsed": 3641,
     "status": "ok",
     "timestamp": 1664888247515,
     "user": {
      "displayName": "Larissa Benevides Vieira",
      "userId": "07170501787859993395"
     },
     "user_tz": 180
    },
    "id": "67Q_eCu1pLYL"
   },
   "outputs": [],
   "source": [
    "import tensorflow as tf\n",
    "from keras.models import Sequential\n",
    "from keras.layers import Dense, Flatten,Dropout, LSTM, Embedding, Input\n",
    "from tensorflow import keras\n",
    "from keras import layers\n",
    "\n",
    "import pandas as pd\n",
    "import tensorflow as tf\n",
    "import numpy as np\n",
    "import sys\n",
    "np.set_printoptions(threshold=sys.maxsize)\n",
    "from sklearn.model_selection import GridSearchCV\n",
    "from tensorflow.keras.models import Sequential\n",
    "from tensorflow.keras.layers import Dense\n",
    "from scikeras.wrappers import KerasClassifier\n",
    "from tensorflow.keras.optimizers import Adam\n",
    "\n",
    "def create_model(neurons):\n",
    "  model=Sequential()\n",
    "  model.add(LSTM(neurons, activation = 'relu',input_shape=(lags,1)))\n",
    "  model.add(Dense(1, activation='sigmoid'))\n",
    "  ## tamanho do lote e o número de épocas /\n",
    "  return model"
   ]
  },
  {
   "cell_type": "code",
   "execution_count": 3,
   "metadata": {
    "executionInfo": {
     "elapsed": 10,
     "status": "ok",
     "timestamp": 1664888247516,
     "user": {
      "displayName": "Larissa Benevides Vieira",
      "userId": "07170501787859993395"
     },
     "user_tz": 180
    },
    "id": "KagnwjXUvDvA"
   },
   "outputs": [],
   "source": [
    "seed = 7\n",
    "tf.random.set_seed(seed)"
   ]
  },
  {
   "cell_type": "code",
   "execution_count": 4,
   "metadata": {
    "colab": {
     "base_uri": "https://localhost:8080/",
     "height": 206
    },
    "executionInfo": {
     "elapsed": 729,
     "status": "ok",
     "timestamp": 1664888248236,
     "user": {
      "displayName": "Larissa Benevides Vieira",
      "userId": "07170501787859993395"
     },
     "user_tz": 180
    },
    "id": "aJvT0IiPXRIH",
    "outputId": "d9ddbb50-0c1a-4517-c18a-aafb7d0e6848"
   },
   "outputs": [
    {
     "data": {
      "text/html": [
       "<div>\n",
       "<style scoped>\n",
       "    .dataframe tbody tr th:only-of-type {\n",
       "        vertical-align: middle;\n",
       "    }\n",
       "\n",
       "    .dataframe tbody tr th {\n",
       "        vertical-align: top;\n",
       "    }\n",
       "\n",
       "    .dataframe thead th {\n",
       "        text-align: right;\n",
       "    }\n",
       "</style>\n",
       "<table border=\"1\" class=\"dataframe\">\n",
       "  <thead>\n",
       "    <tr style=\"text-align: right;\">\n",
       "      <th></th>\n",
       "      <th>time</th>\n",
       "      <th>open</th>\n",
       "      <th>high</th>\n",
       "      <th>low</th>\n",
       "      <th>close</th>\n",
       "      <th>Volume</th>\n",
       "      <th>Volume MA</th>\n",
       "    </tr>\n",
       "  </thead>\n",
       "  <tbody>\n",
       "    <tr>\n",
       "      <th>0</th>\n",
       "      <td>2021-01-04T10:00:00-03:00</td>\n",
       "      <td>21.814317</td>\n",
       "      <td>21.814317</td>\n",
       "      <td>21.505287</td>\n",
       "      <td>21.521135</td>\n",
       "      <td>1880012</td>\n",
       "      <td>1384668.55</td>\n",
       "    </tr>\n",
       "    <tr>\n",
       "      <th>1</th>\n",
       "      <td>2021-01-04T10:30:00-03:00</td>\n",
       "      <td>21.529059</td>\n",
       "      <td>21.576602</td>\n",
       "      <td>21.441896</td>\n",
       "      <td>21.497363</td>\n",
       "      <td>1532703</td>\n",
       "      <td>1368010.00</td>\n",
       "    </tr>\n",
       "    <tr>\n",
       "      <th>2</th>\n",
       "      <td>2021-01-04T11:00:00-03:00</td>\n",
       "      <td>21.505287</td>\n",
       "      <td>21.552830</td>\n",
       "      <td>21.473592</td>\n",
       "      <td>21.481516</td>\n",
       "      <td>877715</td>\n",
       "      <td>1345874.15</td>\n",
       "    </tr>\n",
       "    <tr>\n",
       "      <th>3</th>\n",
       "      <td>2021-01-04T11:30:00-03:00</td>\n",
       "      <td>21.497363</td>\n",
       "      <td>21.521135</td>\n",
       "      <td>21.132867</td>\n",
       "      <td>21.188334</td>\n",
       "      <td>5465393</td>\n",
       "      <td>1548509.50</td>\n",
       "    </tr>\n",
       "    <tr>\n",
       "      <th>4</th>\n",
       "      <td>2021-01-04T12:00:00-03:00</td>\n",
       "      <td>21.188334</td>\n",
       "      <td>21.227953</td>\n",
       "      <td>21.085324</td>\n",
       "      <td>21.124943</td>\n",
       "      <td>4150374</td>\n",
       "      <td>1694177.35</td>\n",
       "    </tr>\n",
       "  </tbody>\n",
       "</table>\n",
       "</div>"
      ],
      "text/plain": [
       "                        time       open       high        low      close  \\\n",
       "0  2021-01-04T10:00:00-03:00  21.814317  21.814317  21.505287  21.521135   \n",
       "1  2021-01-04T10:30:00-03:00  21.529059  21.576602  21.441896  21.497363   \n",
       "2  2021-01-04T11:00:00-03:00  21.505287  21.552830  21.473592  21.481516   \n",
       "3  2021-01-04T11:30:00-03:00  21.497363  21.521135  21.132867  21.188334   \n",
       "4  2021-01-04T12:00:00-03:00  21.188334  21.227953  21.085324  21.124943   \n",
       "\n",
       "    Volume   Volume MA  \n",
       "0  1880012  1384668.55  \n",
       "1  1532703  1368010.00  \n",
       "2   877715  1345874.15  \n",
       "3  5465393  1548509.50  \n",
       "4  4150374  1694177.35  "
      ]
     },
     "execution_count": 4,
     "metadata": {},
     "output_type": "execute_result"
    }
   ],
   "source": [
    "data = pd.read_csv('Inteligencia_Artificial/Trabalho de Conclusão de Curso/Base de Dados/2021/BBDC4_30m_2021.csv') \n",
    "data.head()"
   ]
  },
  {
   "cell_type": "code",
   "execution_count": 5,
   "metadata": {
    "colab": {
     "base_uri": "https://localhost:8080/"
    },
    "executionInfo": {
     "elapsed": 961,
     "status": "ok",
     "timestamp": 1664888249184,
     "user": {
      "displayName": "Larissa Benevides Vieira",
      "userId": "07170501787859993395"
     },
     "user_tz": 180
    },
    "id": "Ohx7W70wXssG",
    "outputId": "c978028f-f348-4f46-fe63-c75455114773"
   },
   "outputs": [
    {
     "name": "stdout",
     "output_type": "stream",
     "text": [
      "[[[-0.57135331]\n",
      "  [-2.64331582]\n",
      "  [-0.13581372]\n",
      "  [-0.20672494]]\n",
      "\n",
      " [[-1.4455596 ]\n",
      "  [-0.57135331]\n",
      "  [-2.64331582]\n",
      "  [-0.13581372]]\n",
      "\n",
      " [[-0.35832139]\n",
      "  [-1.4455596 ]\n",
      "  [-0.57135331]\n",
      "  [-2.64331582]]\n",
      "\n",
      " ...\n",
      "\n",
      " [[ 1.00471749]\n",
      "  [ 0.64438013]\n",
      "  [ 0.18905474]\n",
      "  [-0.44999633]]\n",
      "\n",
      " [[ 0.09687362]\n",
      "  [ 1.00471749]\n",
      "  [ 0.64438013]\n",
      "  [ 0.18905474]]\n",
      "\n",
      " [[ 1.53845375]\n",
      "  [ 0.09687362]\n",
      "  [ 1.00471749]\n",
      "  [ 0.64438013]]]\n",
      "[[[-0.62300307]\n",
      "  [ 1.53845375]\n",
      "  [ 0.09687362]\n",
      "  [ 1.00471749]]\n",
      "\n",
      " [[-0.17382985]\n",
      "  [-0.62300307]\n",
      "  [ 1.53845375]\n",
      "  [ 0.09687362]]\n",
      "\n",
      " [[-0.53524148]\n",
      "  [-0.17382985]\n",
      "  [-0.62300307]\n",
      "  [ 1.53845375]]\n",
      "\n",
      " ...\n",
      "\n",
      " [[-0.49379663]\n",
      "  [ 0.50654595]\n",
      "  [ 1.21209498]\n",
      "  [-0.29576578]]\n",
      "\n",
      " [[ 0.00637466]\n",
      "  [-0.49379663]\n",
      "  [ 0.50654595]\n",
      "  [ 1.21209498]]\n",
      "\n",
      " [[-0.19405771]\n",
      "  [ 0.00637466]\n",
      "  [-0.49379663]\n",
      "  [ 0.50654595]]]\n"
     ]
    },
    {
     "data": {
      "text/plain": [
       "((3539, 4, 1), (3539,), (394, 4, 1), (394,))"
      ]
     },
     "execution_count": 5,
     "metadata": {},
     "output_type": "execute_result"
    }
   ],
   "source": [
    "symbol = \"close\"\n",
    "data = pd.DataFrame(data[symbol])\n",
    "data.head()\n",
    "data['return'] = np.log(data['close']/data['close'].shift(1))\n",
    "temp = pd.DataFrame({})\n",
    "temp['direction'] = np.where(data['return'] > 0, 1, 0)\n",
    "\n",
    "\n",
    "lags = 4\n",
    "\n",
    "cols = []\n",
    "for lag in range(1, lags + 1):\n",
    "     col = f'lag_{lag}'\n",
    "     temp[col] = data['return'].shift(lag)\n",
    "     cols.append(col)\n",
    "temp.dropna(inplace=True)\n",
    "\n",
    "\n",
    "temp.index = range(len(temp['direction']))\n",
    "\n",
    "np.set_printoptions(threshold=False)\n",
    "\n",
    "def windowed_df_to_date_X_y(windowed_dataframe):\n",
    "  df_as_np = windowed_dataframe.to_numpy()\n",
    "\n",
    "  Y = df_as_np[:,0]\n",
    "\n",
    "  middle_matrix = df_as_np[:,1:5]\n",
    "\n",
    "  X = middle_matrix.reshape((len(Y), middle_matrix.shape[1], 1))\n",
    "\n",
    "  return X, Y.astype(int)\n",
    "\n",
    "X, y = windowed_df_to_date_X_y(temp)\n",
    "\n",
    "#-----------------------------------------------------------\n",
    "# Define os conjuntos de dados de treinamento, teste e validação\n",
    "#-----------------------------------------------------------\n",
    "q_90 = int(len(X) * .9)\n",
    "\n",
    "X_train, y_train = X[:q_90], y[:q_90]\n",
    "X_test, y_test = X[q_90:], y[q_90:]\n",
    "\n",
    "\n",
    "\n",
    "\n",
    "mu, std = X_train.mean(), X_train.std()\n",
    "X_train = (X_train - mu) / std\n",
    "\n",
    "X_test = (X_test - mu) / std\n",
    "\n",
    "print(X_train)\n",
    "print(X_test)\n",
    "X_train.shape, y_train.shape, X_test.shape, y_test.shape"
   ]
  },
  {
   "cell_type": "code",
   "execution_count": 6,
   "metadata": {
    "colab": {
     "base_uri": "https://localhost:8080/"
    },
    "executionInfo": {
     "elapsed": 19,
     "status": "ok",
     "timestamp": 1664888249186,
     "user": {
      "displayName": "Larissa Benevides Vieira",
      "userId": "07170501787859993395"
     },
     "user_tz": 180
    },
    "id": "KMcweO5DiGuz",
    "outputId": "f04ee913-7a3a-433d-96c9-255754694a56"
   },
   "outputs": [
    {
     "data": {
      "text/plain": [
       "TimeSeriesSplit(gap=0, max_train_size=None, n_splits=3, test_size=None)"
      ]
     },
     "execution_count": 6,
     "metadata": {},
     "output_type": "execute_result"
    }
   ],
   "source": [
    "from sklearn.model_selection import TimeSeriesSplit\n",
    "\n",
    "dev_size=0.2 \n",
    "n_splits=int((1//dev_size)-1)   # using // for integer division\n",
    "tscv=TimeSeriesSplit(n_splits=n_splits) \n",
    "tscv"
   ]
  },
  {
   "cell_type": "code",
   "execution_count": 7,
   "metadata": {
    "executionInfo": {
     "elapsed": 13,
     "status": "ok",
     "timestamp": 1664888249187,
     "user": {
      "displayName": "Larissa Benevides Vieira",
      "userId": "07170501787859993395"
     },
     "user_tz": 180
    },
    "id": "eKIN1w72X1-A"
   },
   "outputs": [],
   "source": [
    "# create model\n",
    "# tamanho do lote e o número de épocas / \n",
    "model = KerasClassifier(model=create_model,loss=\"binary_crossentropy\", optimizer=\"Adam\", verbose=0)\n"
   ]
  },
  {
   "cell_type": "code",
   "execution_count": null,
   "metadata": {
    "colab": {
     "base_uri": "https://localhost:8080/",
     "height": 453
    },
    "executionInfo": {
     "elapsed": 25358090,
     "status": "error",
     "timestamp": 1664913607265,
     "user": {
      "displayName": "Larissa Benevides Vieira",
      "userId": "07170501787859993395"
     },
     "user_tz": 180
    },
    "id": "sGVlP7JMX565",
    "outputId": "1866e9c5-8638-47eb-f347-af0dc4def1a1"
   },
   "outputs": [],
   "source": [
    "for i in range(30):\n",
    "  # define the grid search parameters\n",
    "  neurons = [1, 5, 10, 15, 20, 25, 30, 35, 40, 45, 50, 55, 60, 65, 70, 75]\n",
    "  learn_rate = [0.0001, 0.001, 0.01, 0.1, 0.2, 0.3]\n",
    "  batch_size = [10, 20, 40, 60, 80, 100]\n",
    "  epochs = [10, 50, 100, 500]\n",
    "  param_grid = dict(optimizer__learning_rate=learn_rate, model__neurons=neurons, batch_size=batch_size, epochs=epochs)\n",
    "  #param_grid = dict(model__neurons=neurons_1, model__neurons=neurons_2)\n",
    "  # https://towardsdatascience.com/cross-validation-and-grid-search-efa64b127c1b (CV parameter)\n",
    "  # https://scikit-learn.org/stable/modules/cross_validation.html \n",
    "  #https://scikit-learn.org/stable/modules/generated/sklearn.model_selection.TimeSeriesSplit.html\n",
    "  #https://scikit-learn.org/stable/auto_examples/model_selection/plot_cv_indices.html#sphx-glr-auto-examples-model-selection-plot-cv-indices-py\n",
    "  grid = GridSearchCV(estimator=model, param_grid=param_grid, n_jobs=-1, cv=tscv)\n",
    "  grid_result = grid.fit(X_train, y_train)\n",
    "\n",
    "\n",
    "  #Precisão\n",
    "  print(\"Best: %f using %s\" % (grid_result.best_score_, grid_result.best_params_))\n",
    "  means = grid_result.cv_results_['mean_test_score']\n",
    "  stds = grid_result.cv_results_['std_test_score']\n",
    "  params = grid_result.cv_results_['params']\n",
    "  for mean, stdev, param in zip(means, stds, params):\n",
    "      print(\"%f (%f) with: %r\" % (mean, stdev, param))"
   ]
  }
 ],
 "metadata": {
  "colab": {
   "authorship_tag": "ABX9TyPAH8KP1Peaf0LuQLoQFLM0",
   "collapsed_sections": [],
   "mount_file_id": "1X_c38GeSL17W3LWM48QX1SO3CJO36tNd",
   "provenance": [
    {
     "file_id": "1X_c38GeSL17W3LWM48QX1SO3CJO36tNd",
     "timestamp": 1663805384871
    }
   ]
  },
  "kernelspec": {
   "display_name": "Python 3",
   "language": "python",
   "name": "python3"
  },
  "language_info": {
   "codemirror_mode": {
    "name": "ipython",
    "version": 3
   },
   "file_extension": ".py",
   "mimetype": "text/x-python",
   "name": "python",
   "nbconvert_exporter": "python",
   "pygments_lexer": "ipython3",
   "version": "3.8.10"
  }
 },
 "nbformat": 4,
 "nbformat_minor": 4
}
