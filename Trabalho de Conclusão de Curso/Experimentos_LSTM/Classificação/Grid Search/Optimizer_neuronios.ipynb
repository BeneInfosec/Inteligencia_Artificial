{
 "cells": [
  {
   "cell_type": "markdown",
   "metadata": {},
   "source": [
    "# Grid Search do valor do Otimizador e do número de neurônios\n",
    "Fonte: https://machinelearningmastery.com/grid-search-hyperparameters-deep-learning-models-python-keras/"
   ]
  },
  {
   "cell_type": "raw",
   "metadata": {
    "colab": {
     "base_uri": "https://localhost:8080/"
    },
    "executionInfo": {
     "elapsed": 4853,
     "status": "ok",
     "timestamp": 1664937099488,
     "user": {
      "displayName": "Larissa Benevides Vieira",
      "userId": "07170501787859993395"
     },
     "user_tz": 180
    },
    "id": "tA--Fac6hF5m",
    "outputId": "b01d2604-cabe-4d6c-bb55-64c0b3bbfb90"
   },
   "source": [
    "!pip install scikeras"
   ]
  },
  {
   "cell_type": "code",
   "execution_count": 4,
   "metadata": {
    "executionInfo": {
     "elapsed": 4030,
     "status": "ok",
     "timestamp": 1664937103511,
     "user": {
      "displayName": "Larissa Benevides Vieira",
      "userId": "07170501787859993395"
     },
     "user_tz": 180
    },
    "id": "67Q_eCu1pLYL"
   },
   "outputs": [],
   "source": [
    "import tensorflow as tf\n",
    "from keras.models import Sequential\n",
    "from keras.layers import Dense, Flatten,Dropout, LSTM, Embedding, Input\n",
    "from tensorflow import keras\n",
    "from keras import layers\n",
    "\n",
    "import pandas as pd\n",
    "import tensorflow as tf\n",
    "import numpy as np\n",
    "import sys\n",
    "np.set_printoptions(threshold=sys.maxsize)\n",
    "from sklearn.model_selection import GridSearchCV\n",
    "from tensorflow.keras.models import Sequential\n",
    "from tensorflow.keras.layers import Dense\n",
    "from scikeras.wrappers import KerasClassifier\n",
    "from tensorflow.keras.optimizers import Adam\n",
    "\n",
    "def create_model(neurons):\n",
    "  model=Sequential()\n",
    "  model.add(LSTM(neurons ,activation = 'relu',input_shape=(lags,1)))\n",
    "  model.add(Dense(1, activation='sigmoid'))\n",
    "  ## tamanho do lote e o número de épocas /\n",
    "  return model"
   ]
  },
  {
   "cell_type": "code",
   "execution_count": 5,
   "metadata": {
    "executionInfo": {
     "elapsed": 19,
     "status": "ok",
     "timestamp": 1664937103514,
     "user": {
      "displayName": "Larissa Benevides Vieira",
      "userId": "07170501787859993395"
     },
     "user_tz": 180
    },
    "id": "KagnwjXUvDvA"
   },
   "outputs": [],
   "source": [
    "seed = 7\n",
    "tf.random.set_seed(seed)"
   ]
  },
  {
   "cell_type": "code",
   "execution_count": 6,
   "metadata": {
    "colab": {
     "base_uri": "https://localhost:8080/",
     "height": 206
    },
    "executionInfo": {
     "elapsed": 787,
     "status": "ok",
     "timestamp": 1664937104284,
     "user": {
      "displayName": "Larissa Benevides Vieira",
      "userId": "07170501787859993395"
     },
     "user_tz": 180
    },
    "id": "aJvT0IiPXRIH",
    "outputId": "33c69678-b108-4858-f806-ef27df9af01b"
   },
   "outputs": [
    {
     "data": {
      "text/html": [
       "\n",
       "  <div id=\"df-b5556a2b-c40e-4765-a5ef-193c9982726d\">\n",
       "    <div class=\"colab-df-container\">\n",
       "      <div>\n",
       "<style scoped>\n",
       "    .dataframe tbody tr th:only-of-type {\n",
       "        vertical-align: middle;\n",
       "    }\n",
       "\n",
       "    .dataframe tbody tr th {\n",
       "        vertical-align: top;\n",
       "    }\n",
       "\n",
       "    .dataframe thead th {\n",
       "        text-align: right;\n",
       "    }\n",
       "</style>\n",
       "<table border=\"1\" class=\"dataframe\">\n",
       "  <thead>\n",
       "    <tr style=\"text-align: right;\">\n",
       "      <th></th>\n",
       "      <th>time</th>\n",
       "      <th>open</th>\n",
       "      <th>high</th>\n",
       "      <th>low</th>\n",
       "      <th>close</th>\n",
       "      <th>Volume</th>\n",
       "      <th>Volume MA</th>\n",
       "    </tr>\n",
       "  </thead>\n",
       "  <tbody>\n",
       "    <tr>\n",
       "      <th>0</th>\n",
       "      <td>2021-01-04T10:00:00-03:00</td>\n",
       "      <td>23.7500</td>\n",
       "      <td>23.8750</td>\n",
       "      <td>23.6125</td>\n",
       "      <td>23.6225</td>\n",
       "      <td>401600</td>\n",
       "      <td>492360</td>\n",
       "    </tr>\n",
       "    <tr>\n",
       "      <th>1</th>\n",
       "      <td>2021-01-04T10:30:00-03:00</td>\n",
       "      <td>23.6300</td>\n",
       "      <td>23.6725</td>\n",
       "      <td>23.4225</td>\n",
       "      <td>23.5300</td>\n",
       "      <td>358000</td>\n",
       "      <td>476720</td>\n",
       "    </tr>\n",
       "    <tr>\n",
       "      <th>2</th>\n",
       "      <td>2021-01-04T11:00:00-03:00</td>\n",
       "      <td>23.5225</td>\n",
       "      <td>23.5375</td>\n",
       "      <td>23.4475</td>\n",
       "      <td>23.5000</td>\n",
       "      <td>258800</td>\n",
       "      <td>455300</td>\n",
       "    </tr>\n",
       "    <tr>\n",
       "      <th>3</th>\n",
       "      <td>2021-01-04T11:30:00-03:00</td>\n",
       "      <td>23.5000</td>\n",
       "      <td>23.5200</td>\n",
       "      <td>23.4300</td>\n",
       "      <td>23.4825</td>\n",
       "      <td>273200</td>\n",
       "      <td>436000</td>\n",
       "    </tr>\n",
       "    <tr>\n",
       "      <th>4</th>\n",
       "      <td>2021-01-04T12:00:00-03:00</td>\n",
       "      <td>23.4875</td>\n",
       "      <td>23.5125</td>\n",
       "      <td>23.3875</td>\n",
       "      <td>23.3900</td>\n",
       "      <td>762000</td>\n",
       "      <td>457560</td>\n",
       "    </tr>\n",
       "  </tbody>\n",
       "</table>\n",
       "</div>\n",
       "      <button class=\"colab-df-convert\" onclick=\"convertToInteractive('df-b5556a2b-c40e-4765-a5ef-193c9982726d')\"\n",
       "              title=\"Convert this dataframe to an interactive table.\"\n",
       "              style=\"display:none;\">\n",
       "        \n",
       "  <svg xmlns=\"http://www.w3.org/2000/svg\" height=\"24px\"viewBox=\"0 0 24 24\"\n",
       "       width=\"24px\">\n",
       "    <path d=\"M0 0h24v24H0V0z\" fill=\"none\"/>\n",
       "    <path d=\"M18.56 5.44l.94 2.06.94-2.06 2.06-.94-2.06-.94-.94-2.06-.94 2.06-2.06.94zm-11 1L8.5 8.5l.94-2.06 2.06-.94-2.06-.94L8.5 2.5l-.94 2.06-2.06.94zm10 10l.94 2.06.94-2.06 2.06-.94-2.06-.94-.94-2.06-.94 2.06-2.06.94z\"/><path d=\"M17.41 7.96l-1.37-1.37c-.4-.4-.92-.59-1.43-.59-.52 0-1.04.2-1.43.59L10.3 9.45l-7.72 7.72c-.78.78-.78 2.05 0 2.83L4 21.41c.39.39.9.59 1.41.59.51 0 1.02-.2 1.41-.59l7.78-7.78 2.81-2.81c.8-.78.8-2.07 0-2.86zM5.41 20L4 18.59l7.72-7.72 1.47 1.35L5.41 20z\"/>\n",
       "  </svg>\n",
       "      </button>\n",
       "      \n",
       "  <style>\n",
       "    .colab-df-container {\n",
       "      display:flex;\n",
       "      flex-wrap:wrap;\n",
       "      gap: 12px;\n",
       "    }\n",
       "\n",
       "    .colab-df-convert {\n",
       "      background-color: #E8F0FE;\n",
       "      border: none;\n",
       "      border-radius: 50%;\n",
       "      cursor: pointer;\n",
       "      display: none;\n",
       "      fill: #1967D2;\n",
       "      height: 32px;\n",
       "      padding: 0 0 0 0;\n",
       "      width: 32px;\n",
       "    }\n",
       "\n",
       "    .colab-df-convert:hover {\n",
       "      background-color: #E2EBFA;\n",
       "      box-shadow: 0px 1px 2px rgba(60, 64, 67, 0.3), 0px 1px 3px 1px rgba(60, 64, 67, 0.15);\n",
       "      fill: #174EA6;\n",
       "    }\n",
       "\n",
       "    [theme=dark] .colab-df-convert {\n",
       "      background-color: #3B4455;\n",
       "      fill: #D2E3FC;\n",
       "    }\n",
       "\n",
       "    [theme=dark] .colab-df-convert:hover {\n",
       "      background-color: #434B5C;\n",
       "      box-shadow: 0px 1px 3px 1px rgba(0, 0, 0, 0.15);\n",
       "      filter: drop-shadow(0px 1px 2px rgba(0, 0, 0, 0.3));\n",
       "      fill: #FFFFFF;\n",
       "    }\n",
       "  </style>\n",
       "\n",
       "      <script>\n",
       "        const buttonEl =\n",
       "          document.querySelector('#df-b5556a2b-c40e-4765-a5ef-193c9982726d button.colab-df-convert');\n",
       "        buttonEl.style.display =\n",
       "          google.colab.kernel.accessAllowed ? 'block' : 'none';\n",
       "\n",
       "        async function convertToInteractive(key) {\n",
       "          const element = document.querySelector('#df-b5556a2b-c40e-4765-a5ef-193c9982726d');\n",
       "          const dataTable =\n",
       "            await google.colab.kernel.invokeFunction('convertToInteractive',\n",
       "                                                     [key], {});\n",
       "          if (!dataTable) return;\n",
       "\n",
       "          const docLinkHtml = 'Like what you see? Visit the ' +\n",
       "            '<a target=\"_blank\" href=https://colab.research.google.com/notebooks/data_table.ipynb>data table notebook</a>'\n",
       "            + ' to learn more about interactive tables.';\n",
       "          element.innerHTML = '';\n",
       "          dataTable['output_type'] = 'display_data';\n",
       "          await google.colab.output.renderOutput(dataTable, element);\n",
       "          const docLink = document.createElement('div');\n",
       "          docLink.innerHTML = docLinkHtml;\n",
       "          element.appendChild(docLink);\n",
       "        }\n",
       "      </script>\n",
       "    </div>\n",
       "  </div>\n",
       "  "
      ],
      "text/plain": [
       "                        time     open     high      low    close  Volume  \\\n",
       "0  2021-01-04T10:00:00-03:00  23.7500  23.8750  23.6125  23.6225  401600   \n",
       "1  2021-01-04T10:30:00-03:00  23.6300  23.6725  23.4225  23.5300  358000   \n",
       "2  2021-01-04T11:00:00-03:00  23.5225  23.5375  23.4475  23.5000  258800   \n",
       "3  2021-01-04T11:30:00-03:00  23.5000  23.5200  23.4300  23.4825  273200   \n",
       "4  2021-01-04T12:00:00-03:00  23.4875  23.5125  23.3875  23.3900  762000   \n",
       "\n",
       "   Volume MA  \n",
       "0     492360  \n",
       "1     476720  \n",
       "2     455300  \n",
       "3     436000  \n",
       "4     457560  "
      ]
     },
     "execution_count": 6,
     "metadata": {},
     "output_type": "execute_result"
    }
   ],
   "source": [
    "data = pd.read_csv('Inteligencia_Artificial/Trabalho de Conclusão de Curso/Base de Dados/2021/BPAC_30m_2021.csv') \n",
    "data.head()"
   ]
  },
  {
   "cell_type": "code",
   "execution_count": 7,
   "metadata": {
    "colab": {
     "base_uri": "https://localhost:8080/"
    },
    "executionInfo": {
     "elapsed": 598,
     "status": "ok",
     "timestamp": 1664937104867,
     "user": {
      "displayName": "Larissa Benevides Vieira",
      "userId": "07170501787859993395"
     },
     "user_tz": 180
    },
    "id": "Ohx7W70wXssG",
    "outputId": "dc581669-e4c1-4fa5-e785-48fa5fa61b4e"
   },
   "outputs": [
    {
     "name": "stdout",
     "output_type": "stream",
     "text": [
      "[[[-0.59388624]\n",
      "  [-0.11365998]\n",
      "  [-0.19327315]\n",
      "  [-0.59037109]]\n",
      "\n",
      " [[-0.90233114]\n",
      "  [-0.59388624]\n",
      "  [-0.11365998]\n",
      "  [-0.19327315]]\n",
      "\n",
      " [[-0.38947755]\n",
      "  [-0.90233114]\n",
      "  [-0.59388624]\n",
      "  [-0.11365998]]\n",
      "\n",
      " ...\n",
      "\n",
      " [[-0.30670738]\n",
      "  [-0.06281183]\n",
      "  [-1.27475758]\n",
      "  [-4.57866815]]\n",
      "\n",
      " [[-1.28879915]\n",
      "  [-0.30670738]\n",
      "  [-0.06281183]\n",
      "  [-1.27475758]]\n",
      "\n",
      " [[ 0.4282534 ]\n",
      "  [-1.28879915]\n",
      "  [-0.30670738]\n",
      "  [-0.06281183]]]\n",
      "[[[-0.8018288 ]\n",
      "  [ 0.4282534 ]\n",
      "  [-1.28879915]\n",
      "  [-0.30670738]]\n",
      "\n",
      " [[-0.06363844]\n",
      "  [-0.8018288 ]\n",
      "  [ 0.4282534 ]\n",
      "  [-1.28879915]]\n",
      "\n",
      " [[ 1.04366257]\n",
      "  [-0.06363844]\n",
      "  [-0.8018288 ]\n",
      "  [ 0.4282534 ]]\n",
      "\n",
      " ...\n",
      "\n",
      " [[-0.07326513]\n",
      "  [ 0.21217425]\n",
      "  [ 0.14097591]\n",
      "  [-0.00193075]]\n",
      "\n",
      " [[-0.28760803]\n",
      "  [-0.07326513]\n",
      "  [ 0.21217425]\n",
      "  [ 0.14097591]]\n",
      "\n",
      " [[-0.57492296]\n",
      "  [-0.28760803]\n",
      "  [-0.07326513]\n",
      "  [ 0.21217425]]]\n"
     ]
    },
    {
     "data": {
      "text/plain": [
       "((3141, 4, 1), (3141,), (786, 4, 1), (786,))"
      ]
     },
     "execution_count": 7,
     "metadata": {},
     "output_type": "execute_result"
    }
   ],
   "source": [
    "symbol = \"close\"\n",
    "data = pd.DataFrame(data[symbol])\n",
    "data.head()\n",
    "data['return'] = np.log(data['close']/data['close'].shift(1))\n",
    "temp = pd.DataFrame({})\n",
    "temp['direction'] = np.where(data['return'] > 0, 1, 0)\n",
    "\n",
    "\n",
    "lags = 4\n",
    "\n",
    "cols = []\n",
    "for lag in range(1, lags + 1):\n",
    "     col = f'lag_{lag}'\n",
    "     temp[col] = data['return'].shift(lag)\n",
    "     cols.append(col)\n",
    "temp.dropna(inplace=True)\n",
    "\n",
    "\n",
    "temp.index = range(len(temp['direction']))\n",
    "\n",
    "np.set_printoptions(threshold=False)\n",
    "\n",
    "def windowed_df_to_date_X_y(windowed_dataframe):\n",
    "  df_as_np = windowed_dataframe.to_numpy()\n",
    "\n",
    "  Y = df_as_np[:,0]\n",
    "\n",
    "  middle_matrix = df_as_np[:,1:5]\n",
    "\n",
    "  X = middle_matrix.reshape((len(Y), middle_matrix.shape[1], 1))\n",
    "\n",
    "  return X, Y.astype(int)\n",
    "\n",
    "X, y = windowed_df_to_date_X_y(temp)\n",
    "\n",
    "#-----------------------------------------------------------\n",
    "# Define os conjuntos de dados de treinamento, teste e validação\n",
    "#-----------------------------------------------------------\n",
    "q_80 = int(len(X) * .8)\n",
    "\n",
    "X_train, y_train = X[:q_80], y[:q_80]\n",
    "X_test, y_test = X[q_80:], y[q_80:]\n",
    "\n",
    "\n",
    "\n",
    "\n",
    "mu, std = X_train.mean(), X_train.std()\n",
    "X_train = (X_train - mu) / std\n",
    "\n",
    "X_test = (X_test - mu) / std\n",
    "\n",
    "print(X_train)\n",
    "print(X_test)\n",
    "X_train.shape, y_train.shape, X_test.shape, y_test.shape"
   ]
  },
  {
   "cell_type": "code",
   "execution_count": 8,
   "metadata": {
    "colab": {
     "base_uri": "https://localhost:8080/"
    },
    "executionInfo": {
     "elapsed": 10,
     "status": "ok",
     "timestamp": 1664937104868,
     "user": {
      "displayName": "Larissa Benevides Vieira",
      "userId": "07170501787859993395"
     },
     "user_tz": 180
    },
    "id": "KMcweO5DiGuz",
    "outputId": "3a539389-8979-4068-955d-c125daccec12"
   },
   "outputs": [
    {
     "data": {
      "text/plain": [
       "TimeSeriesSplit(gap=0, max_train_size=None, n_splits=3, test_size=None)"
      ]
     },
     "execution_count": 8,
     "metadata": {},
     "output_type": "execute_result"
    }
   ],
   "source": [
    "from sklearn.model_selection import TimeSeriesSplit\n",
    "\n",
    "dev_size=0.2 \n",
    "n_splits=int((1//dev_size)-1)   # using // for integer division\n",
    "tscv=TimeSeriesSplit(n_splits=n_splits) \n",
    "tscv"
   ]
  },
  {
   "cell_type": "code",
   "execution_count": 9,
   "metadata": {
    "executionInfo": {
     "elapsed": 7,
     "status": "ok",
     "timestamp": 1664937104869,
     "user": {
      "displayName": "Larissa Benevides Vieira",
      "userId": "07170501787859993395"
     },
     "user_tz": 180
    },
    "id": "eKIN1w72X1-A"
   },
   "outputs": [],
   "source": [
    "# create model\n",
    "# tamanho do lote e o número de épocas / \n",
    "model = KerasClassifier(model=create_model,loss=\"binary_crossentropy\", optimizer=\"Adam\", epochs=50, batch_size=80, verbose=0)\n"
   ]
  },
  {
   "cell_type": "code",
   "execution_count": null,
   "metadata": {
    "colab": {
     "base_uri": "https://localhost:8080/"
    },
    "id": "sGVlP7JMX565",
    "outputId": "06148f9b-9603-4a00-d0b8-ca1f3d95e55c"
   },
   "outputs": [
    {
     "name": "stdout",
     "output_type": "stream",
     "text": [
      "Best: 0.529936 using {'model__neurons': 20, 'optimizer__learning_rate': 1e-05}\n",
      "Best: 0.523992 using {'model__neurons': 20, 'optimizer__learning_rate': 1e-05}\n"
     ]
    },
    {
     "name": "stderr",
     "output_type": "stream",
     "text": [
      "/usr/local/lib/python3.7/dist-packages/joblib/externals/loky/process_executor.py:705: UserWarning: A worker stopped while some jobs were given to the executor. This can be caused by a too short worker timeout or by a memory leak.\n",
      "  \"timeout or by a memory leak.\", UserWarning\n"
     ]
    },
    {
     "name": "stdout",
     "output_type": "stream",
     "text": [
      "Best: 0.523567 using {'model__neurons': 75, 'optimizer__learning_rate': 0.1}\n",
      "Best: 0.519745 using {'model__neurons': 30, 'optimizer__learning_rate': 0.01}\n"
     ]
    },
    {
     "name": "stderr",
     "output_type": "stream",
     "text": [
      "/usr/local/lib/python3.7/dist-packages/joblib/externals/loky/process_executor.py:705: UserWarning: A worker stopped while some jobs were given to the executor. This can be caused by a too short worker timeout or by a memory leak.\n",
      "  \"timeout or by a memory leak.\", UserWarning\n"
     ]
    },
    {
     "name": "stdout",
     "output_type": "stream",
     "text": [
      "Best: 0.523142 using {'model__neurons': 55, 'optimizer__learning_rate': 0.01}\n",
      "Best: 0.520594 using {'model__neurons': 50, 'optimizer__learning_rate': 0.3}\n",
      "Best: 0.526539 using {'model__neurons': 55, 'optimizer__learning_rate': 1e-05}\n"
     ]
    },
    {
     "name": "stderr",
     "output_type": "stream",
     "text": [
      "/usr/local/lib/python3.7/dist-packages/joblib/externals/loky/process_executor.py:705: UserWarning: A worker stopped while some jobs were given to the executor. This can be caused by a too short worker timeout or by a memory leak.\n",
      "  \"timeout or by a memory leak.\", UserWarning\n"
     ]
    },
    {
     "name": "stdout",
     "output_type": "stream",
     "text": [
      "Best: 0.529087 using {'model__neurons': 45, 'optimizer__learning_rate': 0.01}\n",
      "Best: 0.522718 using {'model__neurons': 10, 'optimizer__learning_rate': 1e-05}\n"
     ]
    },
    {
     "name": "stderr",
     "output_type": "stream",
     "text": [
      "/usr/local/lib/python3.7/dist-packages/joblib/externals/loky/process_executor.py:705: UserWarning: A worker stopped while some jobs were given to the executor. This can be caused by a too short worker timeout or by a memory leak.\n",
      "  \"timeout or by a memory leak.\", UserWarning\n"
     ]
    },
    {
     "name": "stdout",
     "output_type": "stream",
     "text": [
      "Best: 0.528662 using {'model__neurons': 60, 'optimizer__learning_rate': 1e-05}\n",
      "Best: 0.520170 using {'model__neurons': 45, 'optimizer__learning_rate': 1e-05}\n",
      "Best: 0.516773 using {'model__neurons': 60, 'optimizer__learning_rate': 0.1}\n"
     ]
    },
    {
     "name": "stderr",
     "output_type": "stream",
     "text": [
      "/usr/local/lib/python3.7/dist-packages/joblib/externals/loky/process_executor.py:705: UserWarning: A worker stopped while some jobs were given to the executor. This can be caused by a too short worker timeout or by a memory leak.\n",
      "  \"timeout or by a memory leak.\", UserWarning\n"
     ]
    },
    {
     "name": "stdout",
     "output_type": "stream",
     "text": [
      "Best: 0.525690 using {'model__neurons': 55, 'optimizer__learning_rate': 1e-05}\n",
      "Best: 0.518896 using {'model__neurons': 10, 'optimizer__learning_rate': 1e-05}\n"
     ]
    },
    {
     "name": "stderr",
     "output_type": "stream",
     "text": [
      "/usr/local/lib/python3.7/dist-packages/joblib/externals/loky/process_executor.py:705: UserWarning: A worker stopped while some jobs were given to the executor. This can be caused by a too short worker timeout or by a memory leak.\n",
      "  \"timeout or by a memory leak.\", UserWarning\n"
     ]
    }
   ],
   "source": [
    "lista = []\n",
    "for i in range(30):\n",
    "  \n",
    "  # define the grid search parameters\n",
    "  neurons = [1, 5, 10, 15, 20, 25, 30, 35, 40, 45, 50, 55, 60, 65, 70, 75]\n",
    "  learn_rate = [0.00001, 0.0001, 0.001, 0.01, 0.1, 0.2, 0.3]\n",
    "  param_grid = dict(optimizer__learning_rate=learn_rate, model__neurons=neurons)\n",
    "  # https://towardsdatascience.com/cross-validation-and-grid-search-efa64b127c1b (CV parameter)\n",
    "  # https://scikit-learn.org/stable/modules/cross_validation.html \n",
    "  #https://scikit-learn.org/stable/modules/generated/sklearn.model_selection.TimeSeriesSplit.html\n",
    "  #https://scikit-learn.org/stable/auto_examples/model_selection/plot_cv_indices.html#sphx-glr-auto-examples-model-selection-plot-cv-indices-py\n",
    "  grid = GridSearchCV(estimator=model, param_grid=param_grid, n_jobs=-1, cv=tscv)\n",
    "  grid_result = grid.fit(X_train, y_train)\n",
    "\n",
    "\n",
    "  #Precisão\n",
    "\n",
    "  print(\"Best: %f using %s\" % (grid_result.best_score_, grid_result.best_params_))\n",
    "  \n",
    "  means = grid_result.cv_results_['mean_test_score']\n",
    "  stds = grid_result.cv_results_['std_test_score']\n",
    "  params = grid_result.cv_results_['params']\n",
    "  lista.append(grid_result.best_score_)\n",
    "  #for mean, stdev, param in zip(means, stds, params):\n",
    "   #   print(\"%f (%f) with: %r\" % (mean, stdev, param))\n",
    "\n",
    "listSum = sum(lista)\n",
    "med = listSum / len(lista)\n",
    "print(med)"
   ]
  },
  {
   "cell_type": "code",
   "execution_count": null,
   "metadata": {
    "id": "tN59rCYiYPOO"
   },
   "outputs": [],
   "source": []
  }
 ],
 "metadata": {
  "colab": {
   "authorship_tag": "ABX9TyMb38JHfETZbn/rqEvENCk9",
   "collapsed_sections": [],
   "mount_file_id": "1X_c38GeSL17W3LWM48QX1SO3CJO36tNd",
   "provenance": [
    {
     "file_id": "1X_c38GeSL17W3LWM48QX1SO3CJO36tNd",
     "timestamp": 1663805384871
    }
   ]
  },
  "kernelspec": {
   "display_name": "Python 3",
   "language": "python",
   "name": "python3"
  },
  "language_info": {
   "codemirror_mode": {
    "name": "ipython",
    "version": 3
   },
   "file_extension": ".py",
   "mimetype": "text/x-python",
   "name": "python",
   "nbconvert_exporter": "python",
   "pygments_lexer": "ipython3",
   "version": "3.8.10"
  }
 },
 "nbformat": 4,
 "nbformat_minor": 4
}
