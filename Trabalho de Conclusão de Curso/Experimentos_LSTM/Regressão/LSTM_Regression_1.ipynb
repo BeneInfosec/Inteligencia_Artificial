{
 "cells": [
  {
   "cell_type": "code",
   "execution_count": null,
   "metadata": {
    "id": "yUajF0zx2Noq"
   },
   "outputs": [],
   "source": [
    "# dataset @ https://finance.yahoo.com/quote/MSFT/history/\n",
    "\n",
    "# If you want the exact same dataset as the YouTube video,\n",
    "# use this link: https://drive.google.com/file/d/1WLm1AEYgU28Nk4lY4zNkGPSctdImbhJI/view?usp=sharing"
   ]
  },
  {
   "cell_type": "code",
   "execution_count": 94,
   "metadata": {
    "colab": {
     "base_uri": "https://localhost:8080/",
     "height": 423
    },
    "executionInfo": {
     "elapsed": 378,
     "status": "ok",
     "timestamp": 1663208382506,
     "user": {
      "displayName": "Larissa Benevides Vieira",
      "userId": "07170501787859993395"
     },
     "user_tz": 180
    },
    "id": "PSIHfWL23fBi",
    "outputId": "5a871f8f-cd2c-4b7a-8277-08296226f862"
   },
   "outputs": [
    {
     "data": {
      "text/html": [
       "\n",
       "  <div id=\"df-946b5254-7986-444e-9e9d-96dcf92380a0\">\n",
       "    <div class=\"colab-df-container\">\n",
       "      <div>\n",
       "<style scoped>\n",
       "    .dataframe tbody tr th:only-of-type {\n",
       "        vertical-align: middle;\n",
       "    }\n",
       "\n",
       "    .dataframe tbody tr th {\n",
       "        vertical-align: top;\n",
       "    }\n",
       "\n",
       "    .dataframe thead th {\n",
       "        text-align: right;\n",
       "    }\n",
       "</style>\n",
       "<table border=\"1\" class=\"dataframe\">\n",
       "  <thead>\n",
       "    <tr style=\"text-align: right;\">\n",
       "      <th></th>\n",
       "      <th>Date</th>\n",
       "      <th>Open</th>\n",
       "      <th>High</th>\n",
       "      <th>Low</th>\n",
       "      <th>Close</th>\n",
       "      <th>Adj Close</th>\n",
       "      <th>Volume</th>\n",
       "    </tr>\n",
       "  </thead>\n",
       "  <tbody>\n",
       "    <tr>\n",
       "      <th>0</th>\n",
       "      <td>1986-03-13</td>\n",
       "      <td>0.088542</td>\n",
       "      <td>0.101563</td>\n",
       "      <td>0.088542</td>\n",
       "      <td>0.097222</td>\n",
       "      <td>0.060980</td>\n",
       "      <td>1031788800</td>\n",
       "    </tr>\n",
       "    <tr>\n",
       "      <th>1</th>\n",
       "      <td>1986-03-14</td>\n",
       "      <td>0.097222</td>\n",
       "      <td>0.102431</td>\n",
       "      <td>0.097222</td>\n",
       "      <td>0.100694</td>\n",
       "      <td>0.063158</td>\n",
       "      <td>308160000</td>\n",
       "    </tr>\n",
       "    <tr>\n",
       "      <th>2</th>\n",
       "      <td>1986-03-17</td>\n",
       "      <td>0.100694</td>\n",
       "      <td>0.103299</td>\n",
       "      <td>0.100694</td>\n",
       "      <td>0.102431</td>\n",
       "      <td>0.064247</td>\n",
       "      <td>133171200</td>\n",
       "    </tr>\n",
       "    <tr>\n",
       "      <th>3</th>\n",
       "      <td>1986-03-18</td>\n",
       "      <td>0.102431</td>\n",
       "      <td>0.103299</td>\n",
       "      <td>0.098958</td>\n",
       "      <td>0.099826</td>\n",
       "      <td>0.062613</td>\n",
       "      <td>67766400</td>\n",
       "    </tr>\n",
       "    <tr>\n",
       "      <th>4</th>\n",
       "      <td>1986-03-19</td>\n",
       "      <td>0.099826</td>\n",
       "      <td>0.100694</td>\n",
       "      <td>0.097222</td>\n",
       "      <td>0.098090</td>\n",
       "      <td>0.061524</td>\n",
       "      <td>47894400</td>\n",
       "    </tr>\n",
       "    <tr>\n",
       "      <th>...</th>\n",
       "      <td>...</td>\n",
       "      <td>...</td>\n",
       "      <td>...</td>\n",
       "      <td>...</td>\n",
       "      <td>...</td>\n",
       "      <td>...</td>\n",
       "      <td>...</td>\n",
       "    </tr>\n",
       "    <tr>\n",
       "      <th>9196</th>\n",
       "      <td>2022-09-07</td>\n",
       "      <td>254.699997</td>\n",
       "      <td>258.829987</td>\n",
       "      <td>253.220001</td>\n",
       "      <td>258.089996</td>\n",
       "      <td>258.089996</td>\n",
       "      <td>24126700</td>\n",
       "    </tr>\n",
       "    <tr>\n",
       "      <th>9197</th>\n",
       "      <td>2022-09-08</td>\n",
       "      <td>257.510010</td>\n",
       "      <td>260.429993</td>\n",
       "      <td>254.789993</td>\n",
       "      <td>258.519989</td>\n",
       "      <td>258.519989</td>\n",
       "      <td>20319900</td>\n",
       "    </tr>\n",
       "    <tr>\n",
       "      <th>9198</th>\n",
       "      <td>2022-09-09</td>\n",
       "      <td>260.500000</td>\n",
       "      <td>265.230011</td>\n",
       "      <td>260.290009</td>\n",
       "      <td>264.459991</td>\n",
       "      <td>264.459991</td>\n",
       "      <td>22084700</td>\n",
       "    </tr>\n",
       "    <tr>\n",
       "      <th>9199</th>\n",
       "      <td>2022-09-12</td>\n",
       "      <td>265.779999</td>\n",
       "      <td>267.450012</td>\n",
       "      <td>265.160004</td>\n",
       "      <td>266.649994</td>\n",
       "      <td>266.649994</td>\n",
       "      <td>18747700</td>\n",
       "    </tr>\n",
       "    <tr>\n",
       "      <th>9200</th>\n",
       "      <td>2022-09-13</td>\n",
       "      <td>258.839996</td>\n",
       "      <td>260.399994</td>\n",
       "      <td>251.589996</td>\n",
       "      <td>251.990005</td>\n",
       "      <td>251.990005</td>\n",
       "      <td>33353300</td>\n",
       "    </tr>\n",
       "  </tbody>\n",
       "</table>\n",
       "<p>9201 rows × 7 columns</p>\n",
       "</div>\n",
       "      <button class=\"colab-df-convert\" onclick=\"convertToInteractive('df-946b5254-7986-444e-9e9d-96dcf92380a0')\"\n",
       "              title=\"Convert this dataframe to an interactive table.\"\n",
       "              style=\"display:none;\">\n",
       "        \n",
       "  <svg xmlns=\"http://www.w3.org/2000/svg\" height=\"24px\"viewBox=\"0 0 24 24\"\n",
       "       width=\"24px\">\n",
       "    <path d=\"M0 0h24v24H0V0z\" fill=\"none\"/>\n",
       "    <path d=\"M18.56 5.44l.94 2.06.94-2.06 2.06-.94-2.06-.94-.94-2.06-.94 2.06-2.06.94zm-11 1L8.5 8.5l.94-2.06 2.06-.94-2.06-.94L8.5 2.5l-.94 2.06-2.06.94zm10 10l.94 2.06.94-2.06 2.06-.94-2.06-.94-.94-2.06-.94 2.06-2.06.94z\"/><path d=\"M17.41 7.96l-1.37-1.37c-.4-.4-.92-.59-1.43-.59-.52 0-1.04.2-1.43.59L10.3 9.45l-7.72 7.72c-.78.78-.78 2.05 0 2.83L4 21.41c.39.39.9.59 1.41.59.51 0 1.02-.2 1.41-.59l7.78-7.78 2.81-2.81c.8-.78.8-2.07 0-2.86zM5.41 20L4 18.59l7.72-7.72 1.47 1.35L5.41 20z\"/>\n",
       "  </svg>\n",
       "      </button>\n",
       "      \n",
       "  <style>\n",
       "    .colab-df-container {\n",
       "      display:flex;\n",
       "      flex-wrap:wrap;\n",
       "      gap: 12px;\n",
       "    }\n",
       "\n",
       "    .colab-df-convert {\n",
       "      background-color: #E8F0FE;\n",
       "      border: none;\n",
       "      border-radius: 50%;\n",
       "      cursor: pointer;\n",
       "      display: none;\n",
       "      fill: #1967D2;\n",
       "      height: 32px;\n",
       "      padding: 0 0 0 0;\n",
       "      width: 32px;\n",
       "    }\n",
       "\n",
       "    .colab-df-convert:hover {\n",
       "      background-color: #E2EBFA;\n",
       "      box-shadow: 0px 1px 2px rgba(60, 64, 67, 0.3), 0px 1px 3px 1px rgba(60, 64, 67, 0.15);\n",
       "      fill: #174EA6;\n",
       "    }\n",
       "\n",
       "    [theme=dark] .colab-df-convert {\n",
       "      background-color: #3B4455;\n",
       "      fill: #D2E3FC;\n",
       "    }\n",
       "\n",
       "    [theme=dark] .colab-df-convert:hover {\n",
       "      background-color: #434B5C;\n",
       "      box-shadow: 0px 1px 3px 1px rgba(0, 0, 0, 0.15);\n",
       "      filter: drop-shadow(0px 1px 2px rgba(0, 0, 0, 0.3));\n",
       "      fill: #FFFFFF;\n",
       "    }\n",
       "  </style>\n",
       "\n",
       "      <script>\n",
       "        const buttonEl =\n",
       "          document.querySelector('#df-946b5254-7986-444e-9e9d-96dcf92380a0 button.colab-df-convert');\n",
       "        buttonEl.style.display =\n",
       "          google.colab.kernel.accessAllowed ? 'block' : 'none';\n",
       "\n",
       "        async function convertToInteractive(key) {\n",
       "          const element = document.querySelector('#df-946b5254-7986-444e-9e9d-96dcf92380a0');\n",
       "          const dataTable =\n",
       "            await google.colab.kernel.invokeFunction('convertToInteractive',\n",
       "                                                     [key], {});\n",
       "          if (!dataTable) return;\n",
       "\n",
       "          const docLinkHtml = 'Like what you see? Visit the ' +\n",
       "            '<a target=\"_blank\" href=https://colab.research.google.com/notebooks/data_table.ipynb>data table notebook</a>'\n",
       "            + ' to learn more about interactive tables.';\n",
       "          element.innerHTML = '';\n",
       "          dataTable['output_type'] = 'display_data';\n",
       "          await google.colab.output.renderOutput(dataTable, element);\n",
       "          const docLink = document.createElement('div');\n",
       "          docLink.innerHTML = docLinkHtml;\n",
       "          element.appendChild(docLink);\n",
       "        }\n",
       "      </script>\n",
       "    </div>\n",
       "  </div>\n",
       "  "
      ],
      "text/plain": [
       "            Date        Open        High         Low       Close   Adj Close  \\\n",
       "0     1986-03-13    0.088542    0.101563    0.088542    0.097222    0.060980   \n",
       "1     1986-03-14    0.097222    0.102431    0.097222    0.100694    0.063158   \n",
       "2     1986-03-17    0.100694    0.103299    0.100694    0.102431    0.064247   \n",
       "3     1986-03-18    0.102431    0.103299    0.098958    0.099826    0.062613   \n",
       "4     1986-03-19    0.099826    0.100694    0.097222    0.098090    0.061524   \n",
       "...          ...         ...         ...         ...         ...         ...   \n",
       "9196  2022-09-07  254.699997  258.829987  253.220001  258.089996  258.089996   \n",
       "9197  2022-09-08  257.510010  260.429993  254.789993  258.519989  258.519989   \n",
       "9198  2022-09-09  260.500000  265.230011  260.290009  264.459991  264.459991   \n",
       "9199  2022-09-12  265.779999  267.450012  265.160004  266.649994  266.649994   \n",
       "9200  2022-09-13  258.839996  260.399994  251.589996  251.990005  251.990005   \n",
       "\n",
       "          Volume  \n",
       "0     1031788800  \n",
       "1      308160000  \n",
       "2      133171200  \n",
       "3       67766400  \n",
       "4       47894400  \n",
       "...          ...  \n",
       "9196    24126700  \n",
       "9197    20319900  \n",
       "9198    22084700  \n",
       "9199    18747700  \n",
       "9200    33353300  \n",
       "\n",
       "[9201 rows x 7 columns]"
      ]
     },
     "execution_count": 94,
     "metadata": {},
     "output_type": "execute_result"
    }
   ],
   "source": [
    "import pandas as pd\n",
    "\n",
    "df = pd.read_csv('Inteligencia_Artificial/Trabalho de Conclusão de Curso/Experimentos_LSTM/Regressão/MSFT.csv')\n",
    "\n",
    "df"
   ]
  },
  {
   "cell_type": "code",
   "execution_count": 95,
   "metadata": {
    "colab": {
     "base_uri": "https://localhost:8080/",
     "height": 423
    },
    "executionInfo": {
     "elapsed": 16,
     "status": "ok",
     "timestamp": 1663208385267,
     "user": {
      "displayName": "Larissa Benevides Vieira",
      "userId": "07170501787859993395"
     },
     "user_tz": 180
    },
    "id": "3I6ju2n83jGq",
    "outputId": "14a86192-54d4-4b88-a3a5-a2441fbb5581"
   },
   "outputs": [
    {
     "data": {
      "text/html": [
       "\n",
       "  <div id=\"df-b224c74f-0829-439e-911f-ca590e02353d\">\n",
       "    <div class=\"colab-df-container\">\n",
       "      <div>\n",
       "<style scoped>\n",
       "    .dataframe tbody tr th:only-of-type {\n",
       "        vertical-align: middle;\n",
       "    }\n",
       "\n",
       "    .dataframe tbody tr th {\n",
       "        vertical-align: top;\n",
       "    }\n",
       "\n",
       "    .dataframe thead th {\n",
       "        text-align: right;\n",
       "    }\n",
       "</style>\n",
       "<table border=\"1\" class=\"dataframe\">\n",
       "  <thead>\n",
       "    <tr style=\"text-align: right;\">\n",
       "      <th></th>\n",
       "      <th>Date</th>\n",
       "      <th>Close</th>\n",
       "    </tr>\n",
       "  </thead>\n",
       "  <tbody>\n",
       "    <tr>\n",
       "      <th>0</th>\n",
       "      <td>1986-03-13</td>\n",
       "      <td>0.097222</td>\n",
       "    </tr>\n",
       "    <tr>\n",
       "      <th>1</th>\n",
       "      <td>1986-03-14</td>\n",
       "      <td>0.100694</td>\n",
       "    </tr>\n",
       "    <tr>\n",
       "      <th>2</th>\n",
       "      <td>1986-03-17</td>\n",
       "      <td>0.102431</td>\n",
       "    </tr>\n",
       "    <tr>\n",
       "      <th>3</th>\n",
       "      <td>1986-03-18</td>\n",
       "      <td>0.099826</td>\n",
       "    </tr>\n",
       "    <tr>\n",
       "      <th>4</th>\n",
       "      <td>1986-03-19</td>\n",
       "      <td>0.098090</td>\n",
       "    </tr>\n",
       "    <tr>\n",
       "      <th>...</th>\n",
       "      <td>...</td>\n",
       "      <td>...</td>\n",
       "    </tr>\n",
       "    <tr>\n",
       "      <th>9196</th>\n",
       "      <td>2022-09-07</td>\n",
       "      <td>258.089996</td>\n",
       "    </tr>\n",
       "    <tr>\n",
       "      <th>9197</th>\n",
       "      <td>2022-09-08</td>\n",
       "      <td>258.519989</td>\n",
       "    </tr>\n",
       "    <tr>\n",
       "      <th>9198</th>\n",
       "      <td>2022-09-09</td>\n",
       "      <td>264.459991</td>\n",
       "    </tr>\n",
       "    <tr>\n",
       "      <th>9199</th>\n",
       "      <td>2022-09-12</td>\n",
       "      <td>266.649994</td>\n",
       "    </tr>\n",
       "    <tr>\n",
       "      <th>9200</th>\n",
       "      <td>2022-09-13</td>\n",
       "      <td>251.990005</td>\n",
       "    </tr>\n",
       "  </tbody>\n",
       "</table>\n",
       "<p>9201 rows × 2 columns</p>\n",
       "</div>\n",
       "      <button class=\"colab-df-convert\" onclick=\"convertToInteractive('df-b224c74f-0829-439e-911f-ca590e02353d')\"\n",
       "              title=\"Convert this dataframe to an interactive table.\"\n",
       "              style=\"display:none;\">\n",
       "        \n",
       "  <svg xmlns=\"http://www.w3.org/2000/svg\" height=\"24px\"viewBox=\"0 0 24 24\"\n",
       "       width=\"24px\">\n",
       "    <path d=\"M0 0h24v24H0V0z\" fill=\"none\"/>\n",
       "    <path d=\"M18.56 5.44l.94 2.06.94-2.06 2.06-.94-2.06-.94-.94-2.06-.94 2.06-2.06.94zm-11 1L8.5 8.5l.94-2.06 2.06-.94-2.06-.94L8.5 2.5l-.94 2.06-2.06.94zm10 10l.94 2.06.94-2.06 2.06-.94-2.06-.94-.94-2.06-.94 2.06-2.06.94z\"/><path d=\"M17.41 7.96l-1.37-1.37c-.4-.4-.92-.59-1.43-.59-.52 0-1.04.2-1.43.59L10.3 9.45l-7.72 7.72c-.78.78-.78 2.05 0 2.83L4 21.41c.39.39.9.59 1.41.59.51 0 1.02-.2 1.41-.59l7.78-7.78 2.81-2.81c.8-.78.8-2.07 0-2.86zM5.41 20L4 18.59l7.72-7.72 1.47 1.35L5.41 20z\"/>\n",
       "  </svg>\n",
       "      </button>\n",
       "      \n",
       "  <style>\n",
       "    .colab-df-container {\n",
       "      display:flex;\n",
       "      flex-wrap:wrap;\n",
       "      gap: 12px;\n",
       "    }\n",
       "\n",
       "    .colab-df-convert {\n",
       "      background-color: #E8F0FE;\n",
       "      border: none;\n",
       "      border-radius: 50%;\n",
       "      cursor: pointer;\n",
       "      display: none;\n",
       "      fill: #1967D2;\n",
       "      height: 32px;\n",
       "      padding: 0 0 0 0;\n",
       "      width: 32px;\n",
       "    }\n",
       "\n",
       "    .colab-df-convert:hover {\n",
       "      background-color: #E2EBFA;\n",
       "      box-shadow: 0px 1px 2px rgba(60, 64, 67, 0.3), 0px 1px 3px 1px rgba(60, 64, 67, 0.15);\n",
       "      fill: #174EA6;\n",
       "    }\n",
       "\n",
       "    [theme=dark] .colab-df-convert {\n",
       "      background-color: #3B4455;\n",
       "      fill: #D2E3FC;\n",
       "    }\n",
       "\n",
       "    [theme=dark] .colab-df-convert:hover {\n",
       "      background-color: #434B5C;\n",
       "      box-shadow: 0px 1px 3px 1px rgba(0, 0, 0, 0.15);\n",
       "      filter: drop-shadow(0px 1px 2px rgba(0, 0, 0, 0.3));\n",
       "      fill: #FFFFFF;\n",
       "    }\n",
       "  </style>\n",
       "\n",
       "      <script>\n",
       "        const buttonEl =\n",
       "          document.querySelector('#df-b224c74f-0829-439e-911f-ca590e02353d button.colab-df-convert');\n",
       "        buttonEl.style.display =\n",
       "          google.colab.kernel.accessAllowed ? 'block' : 'none';\n",
       "\n",
       "        async function convertToInteractive(key) {\n",
       "          const element = document.querySelector('#df-b224c74f-0829-439e-911f-ca590e02353d');\n",
       "          const dataTable =\n",
       "            await google.colab.kernel.invokeFunction('convertToInteractive',\n",
       "                                                     [key], {});\n",
       "          if (!dataTable) return;\n",
       "\n",
       "          const docLinkHtml = 'Like what you see? Visit the ' +\n",
       "            '<a target=\"_blank\" href=https://colab.research.google.com/notebooks/data_table.ipynb>data table notebook</a>'\n",
       "            + ' to learn more about interactive tables.';\n",
       "          element.innerHTML = '';\n",
       "          dataTable['output_type'] = 'display_data';\n",
       "          await google.colab.output.renderOutput(dataTable, element);\n",
       "          const docLink = document.createElement('div');\n",
       "          docLink.innerHTML = docLinkHtml;\n",
       "          element.appendChild(docLink);\n",
       "        }\n",
       "      </script>\n",
       "    </div>\n",
       "  </div>\n",
       "  "
      ],
      "text/plain": [
       "            Date       Close\n",
       "0     1986-03-13    0.097222\n",
       "1     1986-03-14    0.100694\n",
       "2     1986-03-17    0.102431\n",
       "3     1986-03-18    0.099826\n",
       "4     1986-03-19    0.098090\n",
       "...          ...         ...\n",
       "9196  2022-09-07  258.089996\n",
       "9197  2022-09-08  258.519989\n",
       "9198  2022-09-09  264.459991\n",
       "9199  2022-09-12  266.649994\n",
       "9200  2022-09-13  251.990005\n",
       "\n",
       "[9201 rows x 2 columns]"
      ]
     },
     "execution_count": 95,
     "metadata": {},
     "output_type": "execute_result"
    }
   ],
   "source": [
    "df = df[['Date', 'Close']]\n",
    "\n",
    "df"
   ]
  },
  {
   "cell_type": "code",
   "execution_count": 96,
   "metadata": {
    "colab": {
     "base_uri": "https://localhost:8080/"
    },
    "executionInfo": {
     "elapsed": 17,
     "status": "ok",
     "timestamp": 1663208388545,
     "user": {
      "displayName": "Larissa Benevides Vieira",
      "userId": "07170501787859993395"
     },
     "user_tz": 180
    },
    "id": "fCNhH5qH6Fc3",
    "outputId": "25e9ed07-78c6-409e-d4b6-826c63d96273"
   },
   "outputs": [
    {
     "data": {
      "text/plain": [
       "0       1986-03-13\n",
       "1       1986-03-14\n",
       "2       1986-03-17\n",
       "3       1986-03-18\n",
       "4       1986-03-19\n",
       "           ...    \n",
       "9196    2022-09-07\n",
       "9197    2022-09-08\n",
       "9198    2022-09-09\n",
       "9199    2022-09-12\n",
       "9200    2022-09-13\n",
       "Name: Date, Length: 9201, dtype: object"
      ]
     },
     "execution_count": 96,
     "metadata": {},
     "output_type": "execute_result"
    }
   ],
   "source": [
    "df['Date']"
   ]
  },
  {
   "cell_type": "code",
   "execution_count": 97,
   "metadata": {
    "colab": {
     "base_uri": "https://localhost:8080/",
     "height": 423
    },
    "executionInfo": {
     "elapsed": 311,
     "status": "ok",
     "timestamp": 1663208390890,
     "user": {
      "displayName": "Larissa Benevides Vieira",
      "userId": "07170501787859993395"
     },
     "user_tz": 180
    },
    "id": "fE62iBCl-d_P",
    "outputId": "18c529cd-cbc1-49b2-af93-fd6cdd5287d9"
   },
   "outputs": [
    {
     "data": {
      "text/html": [
       "\n",
       "  <div id=\"df-4a0c4e9c-bf14-431e-8fc5-78fc05e80053\">\n",
       "    <div class=\"colab-df-container\">\n",
       "      <div>\n",
       "<style scoped>\n",
       "    .dataframe tbody tr th:only-of-type {\n",
       "        vertical-align: middle;\n",
       "    }\n",
       "\n",
       "    .dataframe tbody tr th {\n",
       "        vertical-align: top;\n",
       "    }\n",
       "\n",
       "    .dataframe thead th {\n",
       "        text-align: right;\n",
       "    }\n",
       "</style>\n",
       "<table border=\"1\" class=\"dataframe\">\n",
       "  <thead>\n",
       "    <tr style=\"text-align: right;\">\n",
       "      <th></th>\n",
       "      <th>Date</th>\n",
       "      <th>Close</th>\n",
       "    </tr>\n",
       "  </thead>\n",
       "  <tbody>\n",
       "    <tr>\n",
       "      <th>0</th>\n",
       "      <td>1986-03-13</td>\n",
       "      <td>0.097222</td>\n",
       "    </tr>\n",
       "    <tr>\n",
       "      <th>1</th>\n",
       "      <td>1986-03-14</td>\n",
       "      <td>0.100694</td>\n",
       "    </tr>\n",
       "    <tr>\n",
       "      <th>2</th>\n",
       "      <td>1986-03-17</td>\n",
       "      <td>0.102431</td>\n",
       "    </tr>\n",
       "    <tr>\n",
       "      <th>3</th>\n",
       "      <td>1986-03-18</td>\n",
       "      <td>0.099826</td>\n",
       "    </tr>\n",
       "    <tr>\n",
       "      <th>4</th>\n",
       "      <td>1986-03-19</td>\n",
       "      <td>0.098090</td>\n",
       "    </tr>\n",
       "    <tr>\n",
       "      <th>...</th>\n",
       "      <td>...</td>\n",
       "      <td>...</td>\n",
       "    </tr>\n",
       "    <tr>\n",
       "      <th>9196</th>\n",
       "      <td>2022-09-07</td>\n",
       "      <td>258.089996</td>\n",
       "    </tr>\n",
       "    <tr>\n",
       "      <th>9197</th>\n",
       "      <td>2022-09-08</td>\n",
       "      <td>258.519989</td>\n",
       "    </tr>\n",
       "    <tr>\n",
       "      <th>9198</th>\n",
       "      <td>2022-09-09</td>\n",
       "      <td>264.459991</td>\n",
       "    </tr>\n",
       "    <tr>\n",
       "      <th>9199</th>\n",
       "      <td>2022-09-12</td>\n",
       "      <td>266.649994</td>\n",
       "    </tr>\n",
       "    <tr>\n",
       "      <th>9200</th>\n",
       "      <td>2022-09-13</td>\n",
       "      <td>251.990005</td>\n",
       "    </tr>\n",
       "  </tbody>\n",
       "</table>\n",
       "<p>9201 rows × 2 columns</p>\n",
       "</div>\n",
       "      <button class=\"colab-df-convert\" onclick=\"convertToInteractive('df-4a0c4e9c-bf14-431e-8fc5-78fc05e80053')\"\n",
       "              title=\"Convert this dataframe to an interactive table.\"\n",
       "              style=\"display:none;\">\n",
       "        \n",
       "  <svg xmlns=\"http://www.w3.org/2000/svg\" height=\"24px\"viewBox=\"0 0 24 24\"\n",
       "       width=\"24px\">\n",
       "    <path d=\"M0 0h24v24H0V0z\" fill=\"none\"/>\n",
       "    <path d=\"M18.56 5.44l.94 2.06.94-2.06 2.06-.94-2.06-.94-.94-2.06-.94 2.06-2.06.94zm-11 1L8.5 8.5l.94-2.06 2.06-.94-2.06-.94L8.5 2.5l-.94 2.06-2.06.94zm10 10l.94 2.06.94-2.06 2.06-.94-2.06-.94-.94-2.06-.94 2.06-2.06.94z\"/><path d=\"M17.41 7.96l-1.37-1.37c-.4-.4-.92-.59-1.43-.59-.52 0-1.04.2-1.43.59L10.3 9.45l-7.72 7.72c-.78.78-.78 2.05 0 2.83L4 21.41c.39.39.9.59 1.41.59.51 0 1.02-.2 1.41-.59l7.78-7.78 2.81-2.81c.8-.78.8-2.07 0-2.86zM5.41 20L4 18.59l7.72-7.72 1.47 1.35L5.41 20z\"/>\n",
       "  </svg>\n",
       "      </button>\n",
       "      \n",
       "  <style>\n",
       "    .colab-df-container {\n",
       "      display:flex;\n",
       "      flex-wrap:wrap;\n",
       "      gap: 12px;\n",
       "    }\n",
       "\n",
       "    .colab-df-convert {\n",
       "      background-color: #E8F0FE;\n",
       "      border: none;\n",
       "      border-radius: 50%;\n",
       "      cursor: pointer;\n",
       "      display: none;\n",
       "      fill: #1967D2;\n",
       "      height: 32px;\n",
       "      padding: 0 0 0 0;\n",
       "      width: 32px;\n",
       "    }\n",
       "\n",
       "    .colab-df-convert:hover {\n",
       "      background-color: #E2EBFA;\n",
       "      box-shadow: 0px 1px 2px rgba(60, 64, 67, 0.3), 0px 1px 3px 1px rgba(60, 64, 67, 0.15);\n",
       "      fill: #174EA6;\n",
       "    }\n",
       "\n",
       "    [theme=dark] .colab-df-convert {\n",
       "      background-color: #3B4455;\n",
       "      fill: #D2E3FC;\n",
       "    }\n",
       "\n",
       "    [theme=dark] .colab-df-convert:hover {\n",
       "      background-color: #434B5C;\n",
       "      box-shadow: 0px 1px 3px 1px rgba(0, 0, 0, 0.15);\n",
       "      filter: drop-shadow(0px 1px 2px rgba(0, 0, 0, 0.3));\n",
       "      fill: #FFFFFF;\n",
       "    }\n",
       "  </style>\n",
       "\n",
       "      <script>\n",
       "        const buttonEl =\n",
       "          document.querySelector('#df-4a0c4e9c-bf14-431e-8fc5-78fc05e80053 button.colab-df-convert');\n",
       "        buttonEl.style.display =\n",
       "          google.colab.kernel.accessAllowed ? 'block' : 'none';\n",
       "\n",
       "        async function convertToInteractive(key) {\n",
       "          const element = document.querySelector('#df-4a0c4e9c-bf14-431e-8fc5-78fc05e80053');\n",
       "          const dataTable =\n",
       "            await google.colab.kernel.invokeFunction('convertToInteractive',\n",
       "                                                     [key], {});\n",
       "          if (!dataTable) return;\n",
       "\n",
       "          const docLinkHtml = 'Like what you see? Visit the ' +\n",
       "            '<a target=\"_blank\" href=https://colab.research.google.com/notebooks/data_table.ipynb>data table notebook</a>'\n",
       "            + ' to learn more about interactive tables.';\n",
       "          element.innerHTML = '';\n",
       "          dataTable['output_type'] = 'display_data';\n",
       "          await google.colab.output.renderOutput(dataTable, element);\n",
       "          const docLink = document.createElement('div');\n",
       "          docLink.innerHTML = docLinkHtml;\n",
       "          element.appendChild(docLink);\n",
       "        }\n",
       "      </script>\n",
       "    </div>\n",
       "  </div>\n",
       "  "
      ],
      "text/plain": [
       "            Date       Close\n",
       "0     1986-03-13    0.097222\n",
       "1     1986-03-14    0.100694\n",
       "2     1986-03-17    0.102431\n",
       "3     1986-03-18    0.099826\n",
       "4     1986-03-19    0.098090\n",
       "...          ...         ...\n",
       "9196  2022-09-07  258.089996\n",
       "9197  2022-09-08  258.519989\n",
       "9198  2022-09-09  264.459991\n",
       "9199  2022-09-12  266.649994\n",
       "9200  2022-09-13  251.990005\n",
       "\n",
       "[9201 rows x 2 columns]"
      ]
     },
     "execution_count": 97,
     "metadata": {},
     "output_type": "execute_result"
    }
   ],
   "source": [
    "df"
   ]
  },
  {
   "cell_type": "code",
   "execution_count": 98,
   "metadata": {
    "colab": {
     "base_uri": "https://localhost:8080/"
    },
    "executionInfo": {
     "elapsed": 9,
     "status": "ok",
     "timestamp": 1663208393316,
     "user": {
      "displayName": "Larissa Benevides Vieira",
      "userId": "07170501787859993395"
     },
     "user_tz": 180
    },
    "id": "17OZExfcBWzD",
    "outputId": "48ab06f7-c4ac-4833-ec6c-bef46c42658f"
   },
   "outputs": [
    {
     "data": {
      "text/plain": [
       "datetime.datetime(1986, 3, 19, 0, 0)"
      ]
     },
     "execution_count": 98,
     "metadata": {},
     "output_type": "execute_result"
    }
   ],
   "source": [
    "import datetime\n",
    "\n",
    "def str_to_datetime(s):\n",
    "  split = s.split('-')\n",
    "  year, month, day = int(split[0]), int(split[1]), int(split[2])\n",
    "  return datetime.datetime(year=year, month=month, day=day)\n",
    "\n",
    "datetime_object = str_to_datetime('1986-03-19')\n",
    "datetime_object"
   ]
  },
  {
   "cell_type": "code",
   "execution_count": 99,
   "metadata": {
    "colab": {
     "base_uri": "https://localhost:8080/"
    },
    "executionInfo": {
     "elapsed": 10,
     "status": "ok",
     "timestamp": 1663208394782,
     "user": {
      "displayName": "Larissa Benevides Vieira",
      "userId": "07170501787859993395"
     },
     "user_tz": 180
    },
    "id": "ac46QDA_3Fcs",
    "outputId": "e006d202-b2b7-4de1-aa78-6c739cdf8ace"
   },
   "outputs": [
    {
     "name": "stderr",
     "output_type": "stream",
     "text": [
      "/usr/local/lib/python3.7/dist-packages/ipykernel_launcher.py:1: SettingWithCopyWarning: \n",
      "A value is trying to be set on a copy of a slice from a DataFrame.\n",
      "Try using .loc[row_indexer,col_indexer] = value instead\n",
      "\n",
      "See the caveats in the documentation: https://pandas.pydata.org/pandas-docs/stable/user_guide/indexing.html#returning-a-view-versus-a-copy\n",
      "  \"\"\"Entry point for launching an IPython kernel.\n"
     ]
    },
    {
     "data": {
      "text/plain": [
       "0      1986-03-13\n",
       "1      1986-03-14\n",
       "2      1986-03-17\n",
       "3      1986-03-18\n",
       "4      1986-03-19\n",
       "          ...    \n",
       "9196   2022-09-07\n",
       "9197   2022-09-08\n",
       "9198   2022-09-09\n",
       "9199   2022-09-12\n",
       "9200   2022-09-13\n",
       "Name: Date, Length: 9201, dtype: datetime64[ns]"
      ]
     },
     "execution_count": 99,
     "metadata": {},
     "output_type": "execute_result"
    }
   ],
   "source": [
    "df['Date'] = df['Date'].apply(str_to_datetime)\n",
    "df['Date']"
   ]
  },
  {
   "cell_type": "code",
   "execution_count": 100,
   "metadata": {
    "colab": {
     "base_uri": "https://localhost:8080/",
     "height": 455
    },
    "executionInfo": {
     "elapsed": 305,
     "status": "ok",
     "timestamp": 1663208397856,
     "user": {
      "displayName": "Larissa Benevides Vieira",
      "userId": "07170501787859993395"
     },
     "user_tz": 180
    },
    "id": "khQN7tf1BJCB",
    "outputId": "76e58d14-b63b-4d26-dcdc-6cc90b0076d2"
   },
   "outputs": [
    {
     "data": {
      "text/html": [
       "\n",
       "  <div id=\"df-121b763a-4ee5-4fe9-80fe-17ed39da0dd3\">\n",
       "    <div class=\"colab-df-container\">\n",
       "      <div>\n",
       "<style scoped>\n",
       "    .dataframe tbody tr th:only-of-type {\n",
       "        vertical-align: middle;\n",
       "    }\n",
       "\n",
       "    .dataframe tbody tr th {\n",
       "        vertical-align: top;\n",
       "    }\n",
       "\n",
       "    .dataframe thead th {\n",
       "        text-align: right;\n",
       "    }\n",
       "</style>\n",
       "<table border=\"1\" class=\"dataframe\">\n",
       "  <thead>\n",
       "    <tr style=\"text-align: right;\">\n",
       "      <th></th>\n",
       "      <th>Close</th>\n",
       "    </tr>\n",
       "    <tr>\n",
       "      <th>Date</th>\n",
       "      <th></th>\n",
       "    </tr>\n",
       "  </thead>\n",
       "  <tbody>\n",
       "    <tr>\n",
       "      <th>1986-03-13</th>\n",
       "      <td>0.097222</td>\n",
       "    </tr>\n",
       "    <tr>\n",
       "      <th>1986-03-14</th>\n",
       "      <td>0.100694</td>\n",
       "    </tr>\n",
       "    <tr>\n",
       "      <th>1986-03-17</th>\n",
       "      <td>0.102431</td>\n",
       "    </tr>\n",
       "    <tr>\n",
       "      <th>1986-03-18</th>\n",
       "      <td>0.099826</td>\n",
       "    </tr>\n",
       "    <tr>\n",
       "      <th>1986-03-19</th>\n",
       "      <td>0.098090</td>\n",
       "    </tr>\n",
       "    <tr>\n",
       "      <th>...</th>\n",
       "      <td>...</td>\n",
       "    </tr>\n",
       "    <tr>\n",
       "      <th>2022-09-07</th>\n",
       "      <td>258.089996</td>\n",
       "    </tr>\n",
       "    <tr>\n",
       "      <th>2022-09-08</th>\n",
       "      <td>258.519989</td>\n",
       "    </tr>\n",
       "    <tr>\n",
       "      <th>2022-09-09</th>\n",
       "      <td>264.459991</td>\n",
       "    </tr>\n",
       "    <tr>\n",
       "      <th>2022-09-12</th>\n",
       "      <td>266.649994</td>\n",
       "    </tr>\n",
       "    <tr>\n",
       "      <th>2022-09-13</th>\n",
       "      <td>251.990005</td>\n",
       "    </tr>\n",
       "  </tbody>\n",
       "</table>\n",
       "<p>9201 rows × 1 columns</p>\n",
       "</div>\n",
       "      <button class=\"colab-df-convert\" onclick=\"convertToInteractive('df-121b763a-4ee5-4fe9-80fe-17ed39da0dd3')\"\n",
       "              title=\"Convert this dataframe to an interactive table.\"\n",
       "              style=\"display:none;\">\n",
       "        \n",
       "  <svg xmlns=\"http://www.w3.org/2000/svg\" height=\"24px\"viewBox=\"0 0 24 24\"\n",
       "       width=\"24px\">\n",
       "    <path d=\"M0 0h24v24H0V0z\" fill=\"none\"/>\n",
       "    <path d=\"M18.56 5.44l.94 2.06.94-2.06 2.06-.94-2.06-.94-.94-2.06-.94 2.06-2.06.94zm-11 1L8.5 8.5l.94-2.06 2.06-.94-2.06-.94L8.5 2.5l-.94 2.06-2.06.94zm10 10l.94 2.06.94-2.06 2.06-.94-2.06-.94-.94-2.06-.94 2.06-2.06.94z\"/><path d=\"M17.41 7.96l-1.37-1.37c-.4-.4-.92-.59-1.43-.59-.52 0-1.04.2-1.43.59L10.3 9.45l-7.72 7.72c-.78.78-.78 2.05 0 2.83L4 21.41c.39.39.9.59 1.41.59.51 0 1.02-.2 1.41-.59l7.78-7.78 2.81-2.81c.8-.78.8-2.07 0-2.86zM5.41 20L4 18.59l7.72-7.72 1.47 1.35L5.41 20z\"/>\n",
       "  </svg>\n",
       "      </button>\n",
       "      \n",
       "  <style>\n",
       "    .colab-df-container {\n",
       "      display:flex;\n",
       "      flex-wrap:wrap;\n",
       "      gap: 12px;\n",
       "    }\n",
       "\n",
       "    .colab-df-convert {\n",
       "      background-color: #E8F0FE;\n",
       "      border: none;\n",
       "      border-radius: 50%;\n",
       "      cursor: pointer;\n",
       "      display: none;\n",
       "      fill: #1967D2;\n",
       "      height: 32px;\n",
       "      padding: 0 0 0 0;\n",
       "      width: 32px;\n",
       "    }\n",
       "\n",
       "    .colab-df-convert:hover {\n",
       "      background-color: #E2EBFA;\n",
       "      box-shadow: 0px 1px 2px rgba(60, 64, 67, 0.3), 0px 1px 3px 1px rgba(60, 64, 67, 0.15);\n",
       "      fill: #174EA6;\n",
       "    }\n",
       "\n",
       "    [theme=dark] .colab-df-convert {\n",
       "      background-color: #3B4455;\n",
       "      fill: #D2E3FC;\n",
       "    }\n",
       "\n",
       "    [theme=dark] .colab-df-convert:hover {\n",
       "      background-color: #434B5C;\n",
       "      box-shadow: 0px 1px 3px 1px rgba(0, 0, 0, 0.15);\n",
       "      filter: drop-shadow(0px 1px 2px rgba(0, 0, 0, 0.3));\n",
       "      fill: #FFFFFF;\n",
       "    }\n",
       "  </style>\n",
       "\n",
       "      <script>\n",
       "        const buttonEl =\n",
       "          document.querySelector('#df-121b763a-4ee5-4fe9-80fe-17ed39da0dd3 button.colab-df-convert');\n",
       "        buttonEl.style.display =\n",
       "          google.colab.kernel.accessAllowed ? 'block' : 'none';\n",
       "\n",
       "        async function convertToInteractive(key) {\n",
       "          const element = document.querySelector('#df-121b763a-4ee5-4fe9-80fe-17ed39da0dd3');\n",
       "          const dataTable =\n",
       "            await google.colab.kernel.invokeFunction('convertToInteractive',\n",
       "                                                     [key], {});\n",
       "          if (!dataTable) return;\n",
       "\n",
       "          const docLinkHtml = 'Like what you see? Visit the ' +\n",
       "            '<a target=\"_blank\" href=https://colab.research.google.com/notebooks/data_table.ipynb>data table notebook</a>'\n",
       "            + ' to learn more about interactive tables.';\n",
       "          element.innerHTML = '';\n",
       "          dataTable['output_type'] = 'display_data';\n",
       "          await google.colab.output.renderOutput(dataTable, element);\n",
       "          const docLink = document.createElement('div');\n",
       "          docLink.innerHTML = docLinkHtml;\n",
       "          element.appendChild(docLink);\n",
       "        }\n",
       "      </script>\n",
       "    </div>\n",
       "  </div>\n",
       "  "
      ],
      "text/plain": [
       "                 Close\n",
       "Date                  \n",
       "1986-03-13    0.097222\n",
       "1986-03-14    0.100694\n",
       "1986-03-17    0.102431\n",
       "1986-03-18    0.099826\n",
       "1986-03-19    0.098090\n",
       "...                ...\n",
       "2022-09-07  258.089996\n",
       "2022-09-08  258.519989\n",
       "2022-09-09  264.459991\n",
       "2022-09-12  266.649994\n",
       "2022-09-13  251.990005\n",
       "\n",
       "[9201 rows x 1 columns]"
      ]
     },
     "execution_count": 100,
     "metadata": {},
     "output_type": "execute_result"
    }
   ],
   "source": [
    "df.index = df.pop('Date')\n",
    "df"
   ]
  },
  {
   "cell_type": "code",
   "execution_count": 101,
   "metadata": {
    "colab": {
     "base_uri": "https://localhost:8080/",
     "height": 282
    },
    "executionInfo": {
     "elapsed": 607,
     "status": "ok",
     "timestamp": 1663208401296,
     "user": {
      "displayName": "Larissa Benevides Vieira",
      "userId": "07170501787859993395"
     },
     "user_tz": 180
    },
    "id": "N4ismomS48c1",
    "outputId": "c26b1f40-e1b5-4f10-8799-c8a59b12846a"
   },
   "outputs": [
    {
     "data": {
      "text/plain": [
       "[<matplotlib.lines.Line2D at 0x7f052fd0e6d0>]"
      ]
     },
     "execution_count": 101,
     "metadata": {},
     "output_type": "execute_result"
    },
    {
     "data": {
      "image/png": "[encoded data removed]",
      "text/plain": [
       "<Figure size 432x288 with 1 Axes>"
      ]
     },
     "metadata": {
      "needs_background": "light"
     },
     "output_type": "display_data"
    }
   ],
   "source": [
    "import matplotlib.pyplot as plt\n",
    "\n",
    "plt.plot(df.index, df['Close'])"
   ]
  },
  {
   "cell_type": "code",
   "execution_count": 103,
   "metadata": {
    "colab": {
     "base_uri": "https://localhost:8080/",
     "height": 423
    },
    "executionInfo": {
     "elapsed": 4881,
     "status": "ok",
     "timestamp": 1663208532078,
     "user": {
      "displayName": "Larissa Benevides Vieira",
      "userId": "07170501787859993395"
     },
     "user_tz": 180
    },
    "id": "fsU9d3u0HdYj",
    "outputId": "82f23e04-f5b3-475c-b343-14b0e8b28b23"
   },
   "outputs": [
    {
     "data": {
      "text/html": [
       "\n",
       "  <div id=\"df-3a140518-d49c-4ca9-b4f6-1f9c15259cd1\">\n",
       "    <div class=\"colab-df-container\">\n",
       "      <div>\n",
       "<style scoped>\n",
       "    .dataframe tbody tr th:only-of-type {\n",
       "        vertical-align: middle;\n",
       "    }\n",
       "\n",
       "    .dataframe tbody tr th {\n",
       "        vertical-align: top;\n",
       "    }\n",
       "\n",
       "    .dataframe thead th {\n",
       "        text-align: right;\n",
       "    }\n",
       "</style>\n",
       "<table border=\"1\" class=\"dataframe\">\n",
       "  <thead>\n",
       "    <tr style=\"text-align: right;\">\n",
       "      <th></th>\n",
       "      <th>Target Date</th>\n",
       "      <th>Target-3</th>\n",
       "      <th>Target-2</th>\n",
       "      <th>Target-1</th>\n",
       "      <th>Target</th>\n",
       "    </tr>\n",
       "  </thead>\n",
       "  <tbody>\n",
       "    <tr>\n",
       "      <th>0</th>\n",
       "      <td>1986-03-18</td>\n",
       "      <td>0.097222</td>\n",
       "      <td>0.100694</td>\n",
       "      <td>0.102431</td>\n",
       "      <td>0.099826</td>\n",
       "    </tr>\n",
       "    <tr>\n",
       "      <th>1</th>\n",
       "      <td>1986-03-19</td>\n",
       "      <td>0.100694</td>\n",
       "      <td>0.102431</td>\n",
       "      <td>0.099826</td>\n",
       "      <td>0.098090</td>\n",
       "    </tr>\n",
       "    <tr>\n",
       "      <th>2</th>\n",
       "      <td>1986-03-20</td>\n",
       "      <td>0.102431</td>\n",
       "      <td>0.099826</td>\n",
       "      <td>0.098090</td>\n",
       "      <td>0.095486</td>\n",
       "    </tr>\n",
       "    <tr>\n",
       "      <th>3</th>\n",
       "      <td>1986-03-21</td>\n",
       "      <td>0.099826</td>\n",
       "      <td>0.098090</td>\n",
       "      <td>0.095486</td>\n",
       "      <td>0.092882</td>\n",
       "    </tr>\n",
       "    <tr>\n",
       "      <th>4</th>\n",
       "      <td>1986-03-24</td>\n",
       "      <td>0.098090</td>\n",
       "      <td>0.095486</td>\n",
       "      <td>0.092882</td>\n",
       "      <td>0.090278</td>\n",
       "    </tr>\n",
       "    <tr>\n",
       "      <th>...</th>\n",
       "      <td>...</td>\n",
       "      <td>...</td>\n",
       "      <td>...</td>\n",
       "      <td>...</td>\n",
       "      <td>...</td>\n",
       "    </tr>\n",
       "    <tr>\n",
       "      <th>9074</th>\n",
       "      <td>2022-03-17</td>\n",
       "      <td>276.440002</td>\n",
       "      <td>287.149994</td>\n",
       "      <td>294.390015</td>\n",
       "      <td>295.220001</td>\n",
       "    </tr>\n",
       "    <tr>\n",
       "      <th>9075</th>\n",
       "      <td>2022-03-18</td>\n",
       "      <td>287.149994</td>\n",
       "      <td>294.390015</td>\n",
       "      <td>295.220001</td>\n",
       "      <td>300.429993</td>\n",
       "    </tr>\n",
       "    <tr>\n",
       "      <th>9076</th>\n",
       "      <td>2022-03-21</td>\n",
       "      <td>294.390015</td>\n",
       "      <td>295.220001</td>\n",
       "      <td>300.429993</td>\n",
       "      <td>299.160004</td>\n",
       "    </tr>\n",
       "    <tr>\n",
       "      <th>9077</th>\n",
       "      <td>2022-03-22</td>\n",
       "      <td>295.220001</td>\n",
       "      <td>300.429993</td>\n",
       "      <td>299.160004</td>\n",
       "      <td>304.059998</td>\n",
       "    </tr>\n",
       "    <tr>\n",
       "      <th>9078</th>\n",
       "      <td>2022-03-23</td>\n",
       "      <td>300.429993</td>\n",
       "      <td>299.160004</td>\n",
       "      <td>304.059998</td>\n",
       "      <td>299.489990</td>\n",
       "    </tr>\n",
       "  </tbody>\n",
       "</table>\n",
       "<p>9079 rows × 5 columns</p>\n",
       "</div>\n",
       "      <button class=\"colab-df-convert\" onclick=\"convertToInteractive('df-3a140518-d49c-4ca9-b4f6-1f9c15259cd1')\"\n",
       "              title=\"Convert this dataframe to an interactive table.\"\n",
       "              style=\"display:none;\">\n",
       "        \n",
       "  <svg xmlns=\"http://www.w3.org/2000/svg\" height=\"24px\"viewBox=\"0 0 24 24\"\n",
       "       width=\"24px\">\n",
       "    <path d=\"M0 0h24v24H0V0z\" fill=\"none\"/>\n",
       "    <path d=\"M18.56 5.44l.94 2.06.94-2.06 2.06-.94-2.06-.94-.94-2.06-.94 2.06-2.06.94zm-11 1L8.5 8.5l.94-2.06 2.06-.94-2.06-.94L8.5 2.5l-.94 2.06-2.06.94zm10 10l.94 2.06.94-2.06 2.06-.94-2.06-.94-.94-2.06-.94 2.06-2.06.94z\"/><path d=\"M17.41 7.96l-1.37-1.37c-.4-.4-.92-.59-1.43-.59-.52 0-1.04.2-1.43.59L10.3 9.45l-7.72 7.72c-.78.78-.78 2.05 0 2.83L4 21.41c.39.39.9.59 1.41.59.51 0 1.02-.2 1.41-.59l7.78-7.78 2.81-2.81c.8-.78.8-2.07 0-2.86zM5.41 20L4 18.59l7.72-7.72 1.47 1.35L5.41 20z\"/>\n",
       "  </svg>\n",
       "      </button>\n",
       "      \n",
       "  <style>\n",
       "    .colab-df-container {\n",
       "      display:flex;\n",
       "      flex-wrap:wrap;\n",
       "      gap: 12px;\n",
       "    }\n",
       "\n",
       "    .colab-df-convert {\n",
       "      background-color: #E8F0FE;\n",
       "      border: none;\n",
       "      border-radius: 50%;\n",
       "      cursor: pointer;\n",
       "      display: none;\n",
       "      fill: #1967D2;\n",
       "      height: 32px;\n",
       "      padding: 0 0 0 0;\n",
       "      width: 32px;\n",
       "    }\n",
       "\n",
       "    .colab-df-convert:hover {\n",
       "      background-color: #E2EBFA;\n",
       "      box-shadow: 0px 1px 2px rgba(60, 64, 67, 0.3), 0px 1px 3px 1px rgba(60, 64, 67, 0.15);\n",
       "      fill: #174EA6;\n",
       "    }\n",
       "\n",
       "    [theme=dark] .colab-df-convert {\n",
       "      background-color: #3B4455;\n",
       "      fill: #D2E3FC;\n",
       "    }\n",
       "\n",
       "    [theme=dark] .colab-df-convert:hover {\n",
       "      background-color: #434B5C;\n",
       "      box-shadow: 0px 1px 3px 1px rgba(0, 0, 0, 0.15);\n",
       "      filter: drop-shadow(0px 1px 2px rgba(0, 0, 0, 0.3));\n",
       "      fill: #FFFFFF;\n",
       "    }\n",
       "  </style>\n",
       "\n",
       "      <script>\n",
       "        const buttonEl =\n",
       "          document.querySelector('#df-3a140518-d49c-4ca9-b4f6-1f9c15259cd1 button.colab-df-convert');\n",
       "        buttonEl.style.display =\n",
       "          google.colab.kernel.accessAllowed ? 'block' : 'none';\n",
       "\n",
       "        async function convertToInteractive(key) {\n",
       "          const element = document.querySelector('#df-3a140518-d49c-4ca9-b4f6-1f9c15259cd1');\n",
       "          const dataTable =\n",
       "            await google.colab.kernel.invokeFunction('convertToInteractive',\n",
       "                                                     [key], {});\n",
       "          if (!dataTable) return;\n",
       "\n",
       "          const docLinkHtml = 'Like what you see? Visit the ' +\n",
       "            '<a target=\"_blank\" href=https://colab.research.google.com/notebooks/data_table.ipynb>data table notebook</a>'\n",
       "            + ' to learn more about interactive tables.';\n",
       "          element.innerHTML = '';\n",
       "          dataTable['output_type'] = 'display_data';\n",
       "          await google.colab.output.renderOutput(dataTable, element);\n",
       "          const docLink = document.createElement('div');\n",
       "          docLink.innerHTML = docLinkHtml;\n",
       "          element.appendChild(docLink);\n",
       "        }\n",
       "      </script>\n",
       "    </div>\n",
       "  </div>\n",
       "  "
      ],
      "text/plain": [
       "     Target Date    Target-3    Target-2    Target-1      Target\n",
       "0     1986-03-18    0.097222    0.100694    0.102431    0.099826\n",
       "1     1986-03-19    0.100694    0.102431    0.099826    0.098090\n",
       "2     1986-03-20    0.102431    0.099826    0.098090    0.095486\n",
       "3     1986-03-21    0.099826    0.098090    0.095486    0.092882\n",
       "4     1986-03-24    0.098090    0.095486    0.092882    0.090278\n",
       "...          ...         ...         ...         ...         ...\n",
       "9074  2022-03-17  276.440002  287.149994  294.390015  295.220001\n",
       "9075  2022-03-18  287.149994  294.390015  295.220001  300.429993\n",
       "9076  2022-03-21  294.390015  295.220001  300.429993  299.160004\n",
       "9077  2022-03-22  295.220001  300.429993  299.160004  304.059998\n",
       "9078  2022-03-23  300.429993  299.160004  304.059998  299.489990\n",
       "\n",
       "[9079 rows x 5 columns]"
      ]
     },
     "execution_count": 103,
     "metadata": {},
     "output_type": "execute_result"
    }
   ],
   "source": [
    "import numpy as np\n",
    "\n",
    "def df_to_windowed_df(dataframe, first_date_str, last_date_str, n=3):\n",
    "  first_date = str_to_datetime(first_date_str)\n",
    "  last_date  = str_to_datetime(last_date_str)\n",
    "\n",
    "  target_date = first_date\n",
    "  \n",
    "  dates = []\n",
    "  X, Y = [], []\n",
    "\n",
    "  last_time = False\n",
    "  while True:\n",
    "    df_subset = dataframe.loc[:target_date].tail(n+1)\n",
    "    \n",
    "    if len(df_subset) != n+1:\n",
    "      print(f'Error: Window of size {n} is too large for date {target_date}')\n",
    "      return\n",
    "\n",
    "    values = df_subset['Close'].to_numpy()\n",
    "    x, y = values[:-1], values[-1]\n",
    "\n",
    "    dates.append(target_date)\n",
    "    X.append(x)\n",
    "    Y.append(y)\n",
    "\n",
    "    next_week = dataframe.loc[target_date:target_date+datetime.timedelta(days=7)]\n",
    "    next_datetime_str = str(next_week.head(2).tail(1).index.values[0])\n",
    "    next_date_str = next_datetime_str.split('T')[0]\n",
    "    year_month_day = next_date_str.split('-')\n",
    "    year, month, day = year_month_day\n",
    "    next_date = datetime.datetime(day=int(day), month=int(month), year=int(year))\n",
    "    \n",
    "    if last_time:\n",
    "      break\n",
    "    \n",
    "    target_date = next_date\n",
    "\n",
    "    if target_date == last_date:\n",
    "      last_time = True\n",
    "    \n",
    "  ret_df = pd.DataFrame({})\n",
    "  ret_df['Target Date'] = dates\n",
    "  \n",
    "  X = np.array(X)\n",
    "  for i in range(0, n):\n",
    "    X[:, i]\n",
    "    ret_df[f'Target-{n-i}'] = X[:, i]\n",
    "  \n",
    "  ret_df['Target'] = Y\n",
    "\n",
    "  return ret_df\n",
    "\n",
    "# Start day second time around: '2021-03-25'\n",
    "windowed_df = df_to_windowed_df(df, \n",
    "                                '1986-03-18', \n",
    "                                '2022-03-23', \n",
    "                                n=3)\n",
    "windowed_df"
   ]
  },
  {
   "cell_type": "code",
   "execution_count": 104,
   "metadata": {
    "colab": {
     "base_uri": "https://localhost:8080/"
    },
    "executionInfo": {
     "elapsed": 399,
     "status": "ok",
     "timestamp": 1663208546298,
     "user": {
      "displayName": "Larissa Benevides Vieira",
      "userId": "07170501787859993395"
     },
     "user_tz": 180
    },
    "id": "uD17zIbaIZ6n",
    "outputId": "184fa1c1-590f-454f-c577-02bc954c6241"
   },
   "outputs": [
    {
     "data": {
      "text/plain": [
       "((9079,), (9079, 3, 1), (9079,))"
      ]
     },
     "execution_count": 104,
     "metadata": {},
     "output_type": "execute_result"
    }
   ],
   "source": [
    "def windowed_df_to_date_X_y(windowed_dataframe):\n",
    "  df_as_np = windowed_dataframe.to_numpy()\n",
    "\n",
    "  dates = df_as_np[:, 0]\n",
    "\n",
    "  middle_matrix = df_as_np[:, 1:-1]\n",
    "  X = middle_matrix.reshape((len(dates), middle_matrix.shape[1], 1))\n",
    "\n",
    "  Y = df_as_np[:, -1]\n",
    "\n",
    "  return dates, X.astype(np.float32), Y.astype(np.float32)\n",
    "\n",
    "dates, X, y = windowed_df_to_date_X_y(windowed_df)\n",
    "\n",
    "dates.shape, X.shape, y.shape"
   ]
  },
  {
   "cell_type": "code",
   "execution_count": 105,
   "metadata": {
    "colab": {
     "base_uri": "https://localhost:8080/",
     "height": 282
    },
    "executionInfo": {
     "elapsed": 664,
     "status": "ok",
     "timestamp": 1663208559317,
     "user": {
      "displayName": "Larissa Benevides Vieira",
      "userId": "07170501787859993395"
     },
     "user_tz": 180
    },
    "id": "LPHWfwZeMZSS",
    "outputId": "f5e4dde1-62eb-4fec-ff47-98e2d6700839"
   },
   "outputs": [
    {
     "data": {
      "text/plain": [
       "((908,), (908, 3, 1))"
      ]
     },
     "execution_count": 105,
     "metadata": {},
     "output_type": "execute_result"
    },
    {
     "data": {
      "image/png": "[encoded data removed]",
      "text/plain": [
       "<Figure size 432x288 with 1 Axes>"
      ]
     },
     "metadata": {
      "needs_background": "light"
     },
     "output_type": "display_data"
    }
   ],
   "source": [
    "q_80 = int(len(dates) * .8)\n",
    "q_90 = int(len(dates) * .9)\n",
    "\n",
    "dates_train, X_train, y_train = dates[:q_80], X[:q_80], y[:q_80]\n",
    "\n",
    "dates_val, X_val, y_val = dates[q_80:q_90], X[q_80:q_90], y[q_80:q_90]\n",
    "dates_test, X_test, y_test = dates[q_90:], X[q_90:], y[q_90:]\n",
    "\n",
    "\n",
    "plt.plot(dates_train, y_train)\n",
    "plt.plot(dates_val, y_val)\n",
    "plt.plot(dates_test, y_test)\n",
    "\n",
    "plt.legend(['Train', 'Validation', 'Test'])\n",
    "\n",
    "y_val.shape, X_test.shape"
   ]
  },
  {
   "cell_type": "code",
   "execution_count": null,
   "metadata": {
    "colab": {
     "base_uri": "https://localhost:8080/"
    },
    "executionInfo": {
     "elapsed": 13299,
     "status": "ok",
     "timestamp": 1663207814090,
     "user": {
      "displayName": "Larissa Benevides Vieira",
      "userId": "07170501787859993395"
     },
     "user_tz": 180
    },
    "id": "PGiLbQIYOawE",
    "outputId": "84064238-834e-4144-d59e-22bbaff20749"
   },
   "outputs": [
    {
     "name": "stdout",
     "output_type": "stream",
     "text": [
      "Epoch 1/100\n",
      "7/7 [==============================] - 3s 90ms/step - loss: 84647.6328 - mean_absolute_error: 289.2000 - val_loss: 92318.0391 - val_mean_absolute_error: 303.7516\n",
      "Epoch 2/100\n",
      "7/7 [==============================] - 0s 8ms/step - loss: 84333.0859 - mean_absolute_error: 288.6546 - val_loss: 91871.2500 - val_mean_absolute_error: 303.0153\n",
      "Epoch 3/100\n",
      "7/7 [==============================] - 0s 7ms/step - loss: 83876.5547 - mean_absolute_error: 287.8642 - val_loss: 91396.8438 - val_mean_absolute_error: 302.2315\n",
      "Epoch 4/100\n",
      "7/7 [==============================] - 0s 8ms/step - loss: 83430.9141 - mean_absolute_error: 287.0921 - val_loss: 90884.2578 - val_mean_absolute_error: 301.3823\n",
      "Epoch 5/100\n",
      "7/7 [==============================] - 0s 7ms/step - loss: 82896.6250 - mean_absolute_error: 286.1566 - val_loss: 90247.1016 - val_mean_absolute_error: 300.3234\n",
      "Epoch 6/100\n",
      "7/7 [==============================] - 0s 8ms/step - loss: 82250.1328 - mean_absolute_error: 285.0252 - val_loss: 89493.1562 - val_mean_absolute_error: 299.0655\n",
      "Epoch 7/100\n",
      "7/7 [==============================] - 0s 8ms/step - loss: 81452.9375 - mean_absolute_error: 283.6296 - val_loss: 88495.5625 - val_mean_absolute_error: 297.3930\n",
      "Epoch 8/100\n",
      "7/7 [==============================] - 0s 9ms/step - loss: 80423.3672 - mean_absolute_error: 281.8019 - val_loss: 87289.5781 - val_mean_absolute_error: 295.3584\n",
      "Epoch 9/100\n",
      "7/7 [==============================] - 0s 7ms/step - loss: 79229.7656 - mean_absolute_error: 279.6725 - val_loss: 85947.6016 - val_mean_absolute_error: 293.0779\n",
      "Epoch 10/100\n",
      "7/7 [==============================] - 0s 8ms/step - loss: 77890.1797 - mean_absolute_error: 277.2699 - val_loss: 84405.8516 - val_mean_absolute_error: 290.4357\n",
      "Epoch 11/100\n",
      "7/7 [==============================] - 0s 8ms/step - loss: 76335.2422 - mean_absolute_error: 274.4465 - val_loss: 82580.3203 - val_mean_absolute_error: 287.2757\n",
      "Epoch 12/100\n",
      "7/7 [==============================] - 0s 8ms/step - loss: 74451.8828 - mean_absolute_error: 271.0008 - val_loss: 80371.4922 - val_mean_absolute_error: 283.4052\n",
      "Epoch 13/100\n",
      "7/7 [==============================] - 0s 8ms/step - loss: 72173.0703 - mean_absolute_error: 266.7573 - val_loss: 77445.2734 - val_mean_absolute_error: 278.1946\n",
      "Epoch 14/100\n",
      "7/7 [==============================] - 0s 8ms/step - loss: 69109.2656 - mean_absolute_error: 260.9581 - val_loss: 73869.8359 - val_mean_absolute_error: 271.6925\n",
      "Epoch 15/100\n",
      "7/7 [==============================] - 0s 8ms/step - loss: 65675.3672 - mean_absolute_error: 254.2835 - val_loss: 70197.9609 - val_mean_absolute_error: 264.8489\n",
      "Epoch 16/100\n",
      "7/7 [==============================] - 0s 7ms/step - loss: 61999.8242 - mean_absolute_error: 246.9350 - val_loss: 65847.6641 - val_mean_absolute_error: 256.5048\n",
      "Epoch 17/100\n",
      "7/7 [==============================] - 0s 8ms/step - loss: 57807.2383 - mean_absolute_error: 238.2838 - val_loss: 61190.2461 - val_mean_absolute_error: 247.2594\n",
      "Epoch 18/100\n",
      "7/7 [==============================] - 0s 8ms/step - loss: 53271.5469 - mean_absolute_error: 228.6096 - val_loss: 56272.1055 - val_mean_absolute_error: 237.1057\n",
      "Epoch 19/100\n",
      "7/7 [==============================] - 0s 7ms/step - loss: 48566.3984 - mean_absolute_error: 218.0646 - val_loss: 50937.9805 - val_mean_absolute_error: 225.5768\n",
      "Epoch 20/100\n",
      "7/7 [==============================] - 0s 8ms/step - loss: 43332.6914 - mean_absolute_error: 205.6576 - val_loss: 45055.7617 - val_mean_absolute_error: 212.1385\n",
      "Epoch 21/100\n",
      "7/7 [==============================] - 0s 8ms/step - loss: 37938.9023 - mean_absolute_error: 192.1685 - val_loss: 39439.1562 - val_mean_absolute_error: 198.4595\n",
      "Epoch 22/100\n",
      "7/7 [==============================] - 0s 7ms/step - loss: 32742.4922 - mean_absolute_error: 178.1195 - val_loss: 33768.1055 - val_mean_absolute_error: 183.6165\n",
      "Epoch 23/100\n",
      "7/7 [==============================] - 0s 8ms/step - loss: 27482.5703 - mean_absolute_error: 162.7053 - val_loss: 28177.1172 - val_mean_absolute_error: 167.7025\n",
      "Epoch 24/100\n",
      "7/7 [==============================] - 0s 9ms/step - loss: 22503.1387 - mean_absolute_error: 146.4875 - val_loss: 22660.2500 - val_mean_absolute_error: 150.3570\n",
      "Epoch 25/100\n",
      "7/7 [==============================] - 0s 9ms/step - loss: 17641.2773 - mean_absolute_error: 128.8651 - val_loss: 17757.6309 - val_mean_absolute_error: 133.0589\n",
      "Epoch 26/100\n",
      "7/7 [==============================] - 0s 9ms/step - loss: 13489.2168 - mean_absolute_error: 111.7483 - val_loss: 13510.7441 - val_mean_absolute_error: 116.0077\n",
      "Epoch 27/100\n",
      "7/7 [==============================] - 0s 8ms/step - loss: 9982.1504 - mean_absolute_error: 94.7891 - val_loss: 9910.6211 - val_mean_absolute_error: 99.2857\n",
      "Epoch 28/100\n",
      "7/7 [==============================] - 0s 8ms/step - loss: 7163.5537 - mean_absolute_error: 78.3047 - val_loss: 6985.4873 - val_mean_absolute_error: 83.2612\n",
      "Epoch 29/100\n",
      "7/7 [==============================] - 0s 7ms/step - loss: 4914.2305 - mean_absolute_error: 62.1268 - val_loss: 4480.5195 - val_mean_absolute_error: 66.5397\n",
      "Epoch 30/100\n",
      "7/7 [==============================] - 0s 7ms/step - loss: 3159.6160 - mean_absolute_error: 46.8626 - val_loss: 2846.5059 - val_mean_absolute_error: 52.8540\n",
      "Epoch 31/100\n",
      "7/7 [==============================] - 0s 8ms/step - loss: 2133.9133 - mean_absolute_error: 36.9839 - val_loss: 1717.8444 - val_mean_absolute_error: 40.8029\n",
      "Epoch 32/100\n",
      "7/7 [==============================] - 0s 8ms/step - loss: 1514.1700 - mean_absolute_error: 32.0476 - val_loss: 1008.5497 - val_mean_absolute_error: 30.9125\n",
      "Epoch 33/100\n",
      "7/7 [==============================] - 0s 8ms/step - loss: 1186.6991 - mean_absolute_error: 29.1151 - val_loss: 616.1954 - val_mean_absolute_error: 23.7325\n",
      "Epoch 34/100\n",
      "7/7 [==============================] - 0s 8ms/step - loss: 1050.9714 - mean_absolute_error: 27.5166 - val_loss: 409.2750 - val_mean_absolute_error: 18.8762\n",
      "Epoch 35/100\n",
      "7/7 [==============================] - 0s 9ms/step - loss: 1018.5680 - mean_absolute_error: 27.0164 - val_loss: 288.8689 - val_mean_absolute_error: 15.3882\n",
      "Epoch 36/100\n",
      "7/7 [==============================] - 0s 7ms/step - loss: 1012.2969 - mean_absolute_error: 26.9101 - val_loss: 231.1967 - val_mean_absolute_error: 13.5401\n",
      "Epoch 37/100\n",
      "7/7 [==============================] - 0s 8ms/step - loss: 1013.2576 - mean_absolute_error: 26.9137 - val_loss: 220.9021 - val_mean_absolute_error: 13.1801\n",
      "Epoch 38/100\n",
      "7/7 [==============================] - 0s 7ms/step - loss: 1013.5945 - mean_absolute_error: 26.9201 - val_loss: 226.2878 - val_mean_absolute_error: 13.3698\n",
      "Epoch 39/100\n",
      "7/7 [==============================] - 0s 7ms/step - loss: 1013.7646 - mean_absolute_error: 26.9311 - val_loss: 256.7863 - val_mean_absolute_error: 14.3923\n",
      "Epoch 40/100\n",
      "7/7 [==============================] - 0s 7ms/step - loss: 1010.1199 - mean_absolute_error: 26.8723 - val_loss: 277.4022 - val_mean_absolute_error: 15.0405\n",
      "Epoch 41/100\n",
      "7/7 [==============================] - 0s 8ms/step - loss: 1010.2303 - mean_absolute_error: 26.8687 - val_loss: 291.0323 - val_mean_absolute_error: 15.4529\n",
      "Epoch 42/100\n",
      "7/7 [==============================] - 0s 7ms/step - loss: 1010.3577 - mean_absolute_error: 26.8663 - val_loss: 288.4116 - val_mean_absolute_error: 15.3746\n",
      "Epoch 43/100\n",
      "7/7 [==============================] - 0s 8ms/step - loss: 1009.8596 - mean_absolute_error: 26.8612 - val_loss: 283.3150 - val_mean_absolute_error: 15.2218\n",
      "Epoch 44/100\n",
      "7/7 [==============================] - 0s 8ms/step - loss: 997.8387 - mean_absolute_error: 26.6747 - val_loss: 409.6960 - val_mean_absolute_error: 18.9030\n",
      "Epoch 45/100\n",
      "7/7 [==============================] - 0s 8ms/step - loss: 1014.5354 - mean_absolute_error: 27.0426 - val_loss: 275.7237 - val_mean_absolute_error: 15.0036\n",
      "Epoch 46/100\n",
      "7/7 [==============================] - 0s 9ms/step - loss: 1000.0425 - mean_absolute_error: 26.7532 - val_loss: 218.1126 - val_mean_absolute_error: 13.0827\n",
      "Epoch 47/100\n",
      "7/7 [==============================] - 0s 8ms/step - loss: 1011.3665 - mean_absolute_error: 26.8893 - val_loss: 216.6025 - val_mean_absolute_error: 13.0276\n",
      "Epoch 48/100\n",
      "7/7 [==============================] - 0s 8ms/step - loss: 1011.9026 - mean_absolute_error: 26.8965 - val_loss: 221.5323 - val_mean_absolute_error: 13.2036\n",
      "Epoch 49/100\n",
      "7/7 [==============================] - 0s 8ms/step - loss: 1010.2315 - mean_absolute_error: 26.8782 - val_loss: 239.8938 - val_mean_absolute_error: 13.8379\n",
      "Epoch 50/100\n",
      "7/7 [==============================] - 0s 7ms/step - loss: 1006.8707 - mean_absolute_error: 26.8302 - val_loss: 249.4515 - val_mean_absolute_error: 14.1569\n",
      "Epoch 51/100\n",
      "7/7 [==============================] - 0s 7ms/step - loss: 1001.7103 - mean_absolute_error: 26.7599 - val_loss: 264.1951 - val_mean_absolute_error: 14.6425\n",
      "Epoch 52/100\n",
      "7/7 [==============================] - 0s 8ms/step - loss: 966.1014 - mean_absolute_error: 26.0200 - val_loss: 297.0261 - val_mean_absolute_error: 15.6775\n",
      "Epoch 53/100\n",
      "7/7 [==============================] - 0s 7ms/step - loss: 961.6320 - mean_absolute_error: 26.2425 - val_loss: 298.4395 - val_mean_absolute_error: 15.7222\n",
      "Epoch 54/100\n",
      "7/7 [==============================] - 0s 9ms/step - loss: 962.4375 - mean_absolute_error: 26.2076 - val_loss: 247.7294 - val_mean_absolute_error: 14.1343\n",
      "Epoch 55/100\n",
      "7/7 [==============================] - 0s 11ms/step - loss: 953.5208 - mean_absolute_error: 26.0527 - val_loss: 292.1713 - val_mean_absolute_error: 15.5581\n",
      "Epoch 56/100\n",
      "7/7 [==============================] - 0s 8ms/step - loss: 921.5142 - mean_absolute_error: 25.6620 - val_loss: 243.4039 - val_mean_absolute_error: 14.0172\n",
      "Epoch 57/100\n",
      "7/7 [==============================] - 0s 12ms/step - loss: 915.6754 - mean_absolute_error: 25.5813 - val_loss: 248.4033 - val_mean_absolute_error: 14.1938\n",
      "Epoch 58/100\n",
      "7/7 [==============================] - 0s 8ms/step - loss: 890.4642 - mean_absolute_error: 25.2203 - val_loss: 341.9039 - val_mean_absolute_error: 17.1163\n",
      "Epoch 59/100\n",
      "7/7 [==============================] - 0s 9ms/step - loss: 878.8826 - mean_absolute_error: 25.1319 - val_loss: 203.0867 - val_mean_absolute_error: 12.6351\n",
      "Epoch 60/100\n",
      "7/7 [==============================] - 0s 7ms/step - loss: 870.3474 - mean_absolute_error: 24.9338 - val_loss: 266.1980 - val_mean_absolute_error: 14.8320\n",
      "Epoch 61/100\n",
      "7/7 [==============================] - 0s 8ms/step - loss: 872.3597 - mean_absolute_error: 24.7724 - val_loss: 204.9331 - val_mean_absolute_error: 12.7255\n",
      "Epoch 62/100\n",
      "7/7 [==============================] - 0s 7ms/step - loss: 810.0252 - mean_absolute_error: 24.0406 - val_loss: 366.6183 - val_mean_absolute_error: 17.9449\n",
      "Epoch 63/100\n",
      "7/7 [==============================] - 0s 8ms/step - loss: 764.0727 - mean_absolute_error: 23.3410 - val_loss: 225.6951 - val_mean_absolute_error: 13.5402\n",
      "Epoch 64/100\n",
      "7/7 [==============================] - 0s 9ms/step - loss: 721.8375 - mean_absolute_error: 22.5940 - val_loss: 235.5555 - val_mean_absolute_error: 13.8930\n",
      "Epoch 65/100\n",
      "7/7 [==============================] - 0s 7ms/step - loss: 700.8923 - mean_absolute_error: 22.2695 - val_loss: 320.4139 - val_mean_absolute_error: 16.7084\n",
      "Epoch 66/100\n",
      "7/7 [==============================] - 0s 8ms/step - loss: 648.1926 - mean_absolute_error: 21.3406 - val_loss: 187.9923 - val_mean_absolute_error: 12.2549\n",
      "Epoch 67/100\n",
      "7/7 [==============================] - 0s 8ms/step - loss: 577.1226 - mean_absolute_error: 20.1230 - val_loss: 414.1818 - val_mean_absolute_error: 19.4484\n",
      "Epoch 68/100\n",
      "7/7 [==============================] - 0s 9ms/step - loss: 518.5222 - mean_absolute_error: 18.9420 - val_loss: 415.4240 - val_mean_absolute_error: 19.4858\n",
      "Epoch 69/100\n",
      "7/7 [==============================] - 0s 8ms/step - loss: 470.7646 - mean_absolute_error: 17.5077 - val_loss: 285.1960 - val_mean_absolute_error: 15.7644\n",
      "Epoch 70/100\n",
      "7/7 [==============================] - 0s 8ms/step - loss: 415.2399 - mean_absolute_error: 16.7853 - val_loss: 116.1988 - val_mean_absolute_error: 9.2529\n",
      "Epoch 71/100\n",
      "7/7 [==============================] - 0s 7ms/step - loss: 350.9673 - mean_absolute_error: 15.1080 - val_loss: 43.5422 - val_mean_absolute_error: 5.2398\n",
      "Epoch 72/100\n",
      "7/7 [==============================] - 0s 8ms/step - loss: 337.4911 - mean_absolute_error: 15.0530 - val_loss: 37.6037 - val_mean_absolute_error: 5.0669\n",
      "Epoch 73/100\n",
      "7/7 [==============================] - 0s 10ms/step - loss: 361.3907 - mean_absolute_error: 16.1724 - val_loss: 201.6335 - val_mean_absolute_error: 13.0318\n",
      "Epoch 74/100\n",
      "7/7 [==============================] - 0s 8ms/step - loss: 317.4783 - mean_absolute_error: 15.1482 - val_loss: 249.4707 - val_mean_absolute_error: 14.7928\n",
      "Epoch 75/100\n",
      "7/7 [==============================] - 0s 9ms/step - loss: 210.8508 - mean_absolute_error: 11.6792 - val_loss: 33.2510 - val_mean_absolute_error: 4.9507\n",
      "Epoch 76/100\n",
      "7/7 [==============================] - 0s 8ms/step - loss: 203.8660 - mean_absolute_error: 11.6684 - val_loss: 31.9364 - val_mean_absolute_error: 4.8911\n",
      "Epoch 77/100\n",
      "7/7 [==============================] - 0s 7ms/step - loss: 180.2239 - mean_absolute_error: 10.6465 - val_loss: 40.8170 - val_mean_absolute_error: 5.3867\n",
      "Epoch 78/100\n",
      "7/7 [==============================] - 0s 8ms/step - loss: 161.9412 - mean_absolute_error: 10.2235 - val_loss: 30.6858 - val_mean_absolute_error: 4.8779\n",
      "Epoch 79/100\n",
      "7/7 [==============================] - 0s 7ms/step - loss: 116.2771 - mean_absolute_error: 8.1821 - val_loss: 31.4086 - val_mean_absolute_error: 4.9361\n",
      "Epoch 80/100\n",
      "7/7 [==============================] - 0s 9ms/step - loss: 95.1631 - mean_absolute_error: 7.1476 - val_loss: 30.1193 - val_mean_absolute_error: 4.8655\n",
      "Epoch 81/100\n",
      "7/7 [==============================] - 0s 8ms/step - loss: 88.5130 - mean_absolute_error: 7.2019 - val_loss: 39.6516 - val_mean_absolute_error: 5.3419\n",
      "Epoch 82/100\n",
      "7/7 [==============================] - 0s 8ms/step - loss: 69.4129 - mean_absolute_error: 5.9596 - val_loss: 33.8456 - val_mean_absolute_error: 4.8573\n",
      "Epoch 83/100\n",
      "7/7 [==============================] - 0s 8ms/step - loss: 57.2157 - mean_absolute_error: 5.4477 - val_loss: 46.2941 - val_mean_absolute_error: 5.3380\n",
      "Epoch 84/100\n",
      "7/7 [==============================] - 0s 7ms/step - loss: 53.9316 - mean_absolute_error: 5.4695 - val_loss: 50.5114 - val_mean_absolute_error: 5.5779\n",
      "Epoch 85/100\n",
      "7/7 [==============================] - 0s 8ms/step - loss: 48.6279 - mean_absolute_error: 5.2161 - val_loss: 43.1034 - val_mean_absolute_error: 5.2048\n",
      "Epoch 86/100\n",
      "7/7 [==============================] - 0s 8ms/step - loss: 43.4780 - mean_absolute_error: 5.1047 - val_loss: 31.0001 - val_mean_absolute_error: 4.8034\n",
      "Epoch 87/100\n",
      "7/7 [==============================] - 0s 8ms/step - loss: 43.9683 - mean_absolute_error: 5.0731 - val_loss: 37.3468 - val_mean_absolute_error: 4.9468\n",
      "Epoch 88/100\n",
      "7/7 [==============================] - 0s 7ms/step - loss: 41.2263 - mean_absolute_error: 5.0091 - val_loss: 76.4349 - val_mean_absolute_error: 7.0666\n",
      "Epoch 89/100\n",
      "7/7 [==============================] - 0s 9ms/step - loss: 39.3789 - mean_absolute_error: 5.0216 - val_loss: 49.3093 - val_mean_absolute_error: 5.5994\n",
      "Epoch 90/100\n",
      "7/7 [==============================] - 0s 8ms/step - loss: 29.6409 - mean_absolute_error: 4.1765 - val_loss: 50.7790 - val_mean_absolute_error: 5.6853\n",
      "Epoch 91/100\n",
      "7/7 [==============================] - 0s 8ms/step - loss: 28.0640 - mean_absolute_error: 4.1014 - val_loss: 51.4373 - val_mean_absolute_error: 5.7373\n",
      "Epoch 92/100\n",
      "7/7 [==============================] - 0s 7ms/step - loss: 24.8514 - mean_absolute_error: 3.8922 - val_loss: 41.9221 - val_mean_absolute_error: 5.2104\n",
      "Epoch 93/100\n",
      "7/7 [==============================] - 0s 8ms/step - loss: 23.9289 - mean_absolute_error: 3.8105 - val_loss: 50.5773 - val_mean_absolute_error: 5.7138\n",
      "Epoch 94/100\n",
      "7/7 [==============================] - 0s 7ms/step - loss: 22.8027 - mean_absolute_error: 3.7846 - val_loss: 32.7799 - val_mean_absolute_error: 4.7618\n",
      "Epoch 95/100\n",
      "7/7 [==============================] - 0s 8ms/step - loss: 27.5896 - mean_absolute_error: 4.2549 - val_loss: 37.2069 - val_mean_absolute_error: 4.9119\n",
      "Epoch 96/100\n",
      "7/7 [==============================] - 0s 8ms/step - loss: 33.1325 - mean_absolute_error: 4.7017 - val_loss: 61.5962 - val_mean_absolute_error: 6.2314\n",
      "Epoch 97/100\n",
      "7/7 [==============================] - 0s 7ms/step - loss: 25.8623 - mean_absolute_error: 4.0918 - val_loss: 48.5702 - val_mean_absolute_error: 5.6280\n",
      "Epoch 98/100\n",
      "7/7 [==============================] - 0s 8ms/step - loss: 23.0490 - mean_absolute_error: 3.7936 - val_loss: 39.1634 - val_mean_absolute_error: 5.0231\n",
      "Epoch 99/100\n",
      "7/7 [==============================] - 0s 8ms/step - loss: 22.4424 - mean_absolute_error: 3.7047 - val_loss: 50.5083 - val_mean_absolute_error: 6.0312\n",
      "Epoch 100/100\n",
      "7/7 [==============================] - 0s 8ms/step - loss: 46.1053 - mean_absolute_error: 5.6700 - val_loss: 68.1052 - val_mean_absolute_error: 6.9777\n"
     ]
    },
    {
     "data": {
      "text/plain": [
       "<keras.callbacks.History at 0x7f0538ab4d50>"
      ]
     },
     "execution_count": 65,
     "metadata": {},
     "output_type": "execute_result"
    }
   ],
   "source": [
    "from tensorflow.keras.models import Sequential\n",
    "from tensorflow.keras.optimizers import Adam\n",
    "from tensorflow.keras import layers\n",
    "\n",
    "model = Sequential([layers.Input((3, 1)),\n",
    "                    layers.LSTM(64),\n",
    "                    layers.Dense(32, activation='relu'),\n",
    "                    layers.Dense(32, activation='relu'),\n",
    "                    layers.Dense(1)])\n",
    "\n",
    "model.compile(loss='mse', \n",
    "              optimizer=Adam(learning_rate=0.001),\n",
    "              metrics=['mean_absolute_error'])\n",
    "\n",
    "model.fit(X_train, y_train, validation_data=(X_val, y_val), epochs=100)"
   ]
  },
  {
   "cell_type": "code",
   "execution_count": null,
   "metadata": {
    "colab": {
     "base_uri": "https://localhost:8080/",
     "height": 282
    },
    "executionInfo": {
     "elapsed": 1145,
     "status": "ok",
     "timestamp": 1663207822261,
     "user": {
      "displayName": "Larissa Benevides Vieira",
      "userId": "07170501787859993395"
     },
     "user_tz": 180
    },
    "id": "gG8eOTzEVl_X",
    "outputId": "11a4617b-d247-428b-d9e6-8c28a42843ee"
   },
   "outputs": [
    {
     "data": {
      "text/plain": [
       "<matplotlib.legend.Legend at 0x7f05352d2cd0>"
      ]
     },
     "execution_count": 66,
     "metadata": {},
     "output_type": "execute_result"
    },
    {
     "data": {
      "image/png": "[encoded data removed]",
      "text/plain": [
       "<Figure size 432x288 with 1 Axes>"
      ]
     },
     "metadata": {
      "needs_background": "light"
     },
     "output_type": "display_data"
    }
   ],
   "source": [
    "train_predictions = model.predict(X_train).flatten()\n",
    "\n",
    "plt.plot(dates_train, train_predictions)\n",
    "plt.plot(dates_train, y_train)\n",
    "plt.legend(['Training Predictions', 'Training Observations'])"
   ]
  },
  {
   "cell_type": "code",
   "execution_count": null,
   "metadata": {
    "colab": {
     "base_uri": "https://localhost:8080/",
     "height": 282
    },
    "executionInfo": {
     "elapsed": 897,
     "status": "ok",
     "timestamp": 1663207827892,
     "user": {
      "displayName": "Larissa Benevides Vieira",
      "userId": "07170501787859993395"
     },
     "user_tz": 180
    },
    "id": "UrRaAUbnWBhE",
    "outputId": "710a97a7-4134-4c0c-dcde-eba8fc654b1f"
   },
   "outputs": [
    {
     "data": {
      "text/plain": [
       "<matplotlib.legend.Legend at 0x7f05351f55d0>"
      ]
     },
     "execution_count": 67,
     "metadata": {},
     "output_type": "execute_result"
    },
    {
     "data": {
      "image/png": "[encoded data removed]",
      "text/plain": [
       "<Figure size 432x288 with 1 Axes>"
      ]
     },
     "metadata": {
      "needs_background": "light"
     },
     "output_type": "display_data"
    }
   ],
   "source": [
    "val_predictions = model.predict(X_val).flatten()\n",
    "\n",
    "plt.plot(dates_val, val_predictions)\n",
    "plt.plot(dates_val, y_val)\n",
    "plt.legend(['Validation Predictions', 'Validation Observations'])"
   ]
  },
  {
   "cell_type": "code",
   "execution_count": null,
   "metadata": {
    "colab": {
     "base_uri": "https://localhost:8080/",
     "height": 282
    },
    "executionInfo": {
     "elapsed": 1007,
     "status": "ok",
     "timestamp": 1663207832070,
     "user": {
      "displayName": "Larissa Benevides Vieira",
      "userId": "07170501787859993395"
     },
     "user_tz": 180
    },
    "id": "wF5sDSxVWLFd",
    "outputId": "7ec05cea-00de-47a3-97d9-5d2353280a79"
   },
   "outputs": [
    {
     "data": {
      "text/plain": [
       "<matplotlib.legend.Legend at 0x7f0535177d50>"
      ]
     },
     "execution_count": 68,
     "metadata": {},
     "output_type": "execute_result"
    },
    {
     "data": {
      "image/png": "[encoded data removed]",
      "text/plain": [
       "<Figure size 432x288 with 1 Axes>"
      ]
     },
     "metadata": {
      "needs_background": "light"
     },
     "output_type": "display_data"
    }
   ],
   "source": [
    "test_predictions = model.predict(X_test).flatten()\n",
    "\n",
    "plt.plot(dates_test, test_predictions)\n",
    "plt.plot(dates_test, y_test)\n",
    "plt.legend(['Testing Predictions', 'Testing Observations'])"
   ]
  },
  {
   "cell_type": "code",
   "execution_count": null,
   "metadata": {
    "colab": {
     "base_uri": "https://localhost:8080/",
     "height": 282
    },
    "executionInfo": {
     "elapsed": 465,
     "status": "ok",
     "timestamp": 1663207835073,
     "user": {
      "displayName": "Larissa Benevides Vieira",
      "userId": "07170501787859993395"
     },
     "user_tz": 180
    },
    "id": "8b-JsTvEWfAm",
    "outputId": "0bf9a7a8-ab8b-4742-c9f9-be169047447f"
   },
   "outputs": [
    {
     "data": {
      "text/plain": [
       "<matplotlib.legend.Legend at 0x7f053512fc90>"
      ]
     },
     "execution_count": 69,
     "metadata": {},
     "output_type": "execute_result"
    },
    {
     "data": {
      "image/png": "[encoded data removed]",
      "text/plain": [
       "<Figure size 432x288 with 1 Axes>"
      ]
     },
     "metadata": {
      "needs_background": "light"
     },
     "output_type": "display_data"
    }
   ],
   "source": [
    "plt.plot(dates_train, train_predictions)\n",
    "plt.plot(dates_train, y_train)\n",
    "plt.plot(dates_val, val_predictions)\n",
    "plt.plot(dates_val, y_val)\n",
    "plt.plot(dates_test, test_predictions)\n",
    "plt.plot(dates_test, y_test)\n",
    "plt.legend(['Training Predictions', \n",
    "            'Training Observations',\n",
    "            'Validation Predictions', \n",
    "            'Validation Observations',\n",
    "            'Testing Predictions', \n",
    "            'Testing Observations'])"
   ]
  },
  {
   "cell_type": "code",
   "execution_count": null,
   "metadata": {
    "id": "qb0ryudqWwkf"
   },
   "outputs": [],
   "source": [
    "from copy import deepcopy\n",
    "\n",
    "recursive_predictions = []\n",
    "recursive_dates = np.concatenate([dates_val, dates_test])\n",
    "\n",
    "for target_date in recursive_dates:\n",
    "  last_window = deepcopy(X_train[-1])\n",
    "  next_prediction = model.predict(np.array([last_window])).flatten()\n",
    "  recursive_predictions.append(next_prediction)\n",
    "  last_window[-1] = next_prediction"
   ]
  },
  {
   "cell_type": "code",
   "execution_count": null,
   "metadata": {
    "colab": {
     "base_uri": "https://localhost:8080/",
     "height": 282
    },
    "executionInfo": {
     "elapsed": 479,
     "status": "ok",
     "timestamp": 1663207844126,
     "user": {
      "displayName": "Larissa Benevides Vieira",
      "userId": "07170501787859993395"
     },
     "user_tz": 180
    },
    "id": "6BEMkYmtbwkg",
    "outputId": "609cf21d-fd22-4ffc-fde5-0a477549bd8a"
   },
   "outputs": [
    {
     "data": {
      "text/plain": [
       "<matplotlib.legend.Legend at 0x7f0534f51c50>"
      ]
     },
     "execution_count": 71,
     "metadata": {},
     "output_type": "execute_result"
    },
    {
     "data": {
      "image/png": "[encoded data removed]",
      "text/plain": [
       "<Figure size 432x288 with 1 Axes>"
      ]
     },
     "metadata": {
      "needs_background": "light"
     },
     "output_type": "display_data"
    }
   ],
   "source": [
    "plt.plot(dates_train, train_predictions)\n",
    "plt.plot(dates_train, y_train)\n",
    "plt.plot(dates_val, val_predictions)\n",
    "plt.plot(dates_val, y_val)\n",
    "plt.plot(dates_test, test_predictions)\n",
    "plt.plot(dates_test, y_test)\n",
    "plt.plot(recursive_dates, recursive_predictions)\n",
    "plt.legend(['Training Predictions', \n",
    "            'Training Observations',\n",
    "            'Validation Predictions', \n",
    "            'Validation Observations',\n",
    "            'Testing Predictions', \n",
    "            'Testing Observations',\n",
    "            'Recursive Predictions'])"
   ]
  }
 ],
 "metadata": {
  "colab": {
   "collapsed_sections": [],
   "provenance": []
  },
  "kernelspec": {
   "display_name": "Python 3",
   "language": "python",
   "name": "python3"
  },
  "language_info": {
   "codemirror_mode": {
    "name": "ipython",
    "version": 3
   },
   "file_extension": ".py",
   "mimetype": "text/x-python",
   "name": "python",
   "nbconvert_exporter": "python",
   "pygments_lexer": "ipython3",
   "version": "3.8.10"
  }
 },
 "nbformat": 4,
 "nbformat_minor": 4
}
